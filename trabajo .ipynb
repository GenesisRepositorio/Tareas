{
 "cells": [
  {
   "cell_type": "code",
   "execution_count": 1,
   "id": "217edce7",
   "metadata": {},
   "outputs": [],
   "source": [
    "import pandas as pd\n",
    "import seaborn as sns\n",
    "import scipy.io as sio\n",
    "import numpy as np\n",
    "import matplotlib.pyplot as plt\n",
    "import plotly.express as px\n",
    "\n",
    "archivo = 'C:/Users/genes/Downloads/Geo.xlsx'\n",
    "\n",
    "df = pd.read_excel(archivo, sheet_name='Hoja1')\n",
    "df.set_index('ID',inplace = True)\n"
   ]
  },
  {
   "cell_type": "code",
   "execution_count": 2,
   "id": "c2da526e",
   "metadata": {},
   "outputs": [
    {
     "name": "stdout",
     "output_type": "stream",
     "text": [
      "<class 'pandas.core.frame.DataFrame'>\n",
      "Int64Index: 2032 entries, 1 to 2187\n",
      "Data columns (total 68 columns):\n",
      " #   Column                     Non-Null Count  Dtype  \n",
      "---  ------                     --------------  -----  \n",
      " 0   Empresa o Dueno            2032 non-null   object \n",
      " 1   Faena                      2032 non-null   object \n",
      " 2   Deposito                   2032 non-null   object \n",
      " 3   Recurso                    2032 non-null   object \n",
      " 4   masa (t)                   1126 non-null   object \n",
      " 5   Estado                     2032 non-null   object \n",
      " 6   Origen                     2032 non-null   object \n",
      " 7   Region                     2032 non-null   object \n",
      " 8   Comuna                     2032 non-null   object \n",
      " 9   Coord. N                   2032 non-null   float64\n",
      " 10  Coord. E                   2032 non-null   float64\n",
      " 11  Cobre(g/t)                 2032 non-null   int64  \n",
      " 12  Vanadio(g/t)               2032 non-null   int64  \n",
      " 13  Cromo(g/t)                 2032 non-null   int64  \n",
      " 14  Cobalto(g/t)               2032 non-null   int64  \n",
      " 15  Niquel(g/t)                2032 non-null   int64  \n",
      " 16  Zing(g/t)                  2032 non-null   int64  \n",
      " 17  Rubidio(g/t)               2032 non-null   int64  \n",
      " 18  Estroncio(g/t)             2032 non-null   int64  \n",
      " 19  Itrio(g/t)                 2032 non-null   int64  \n",
      " 20  Circonio(g/t)              2032 non-null   int64  \n",
      " 21  Niobio(g/t)                2032 non-null   int64  \n",
      " 22  Bario(g/t)                 2032 non-null   int64  \n",
      " 23  Plomo(g/t)                 2032 non-null   int64  \n",
      " 24  Escandio(g/t)              2032 non-null   int64  \n",
      " 25  Cesio(g/t)                 2032 non-null   float64\n",
      " 26  Hafnio(g/t)                2032 non-null   float64\n",
      " 27  Tantalo(g/t)               2032 non-null   float64\n",
      " 28  Torio(g/t)                 2032 non-null   float64\n",
      " 29  Uranio(g/t)                2032 non-null   float64\n",
      " 30  Arsénico(g/t)              2032 non-null   float64\n",
      " 31  Molibdeno(g/t)             2032 non-null   float64\n",
      " 32  Antimonio(g/t)             2032 non-null   float64\n",
      " 33  Estaño(g/t)                2032 non-null   float64\n",
      " 34  Plata(g/t)                 2032 non-null   float64\n",
      " 35  Cadmio(g/t)                2032 non-null   float64\n",
      " 36  Bismuto(g/t)               2032 non-null   float64\n",
      " 37  Volframio(g/t)             2032 non-null   float64\n",
      " 38  Azúfre Total(%)            2032 non-null   float64\n",
      " 39  Óxido_Silicio(%)           2032 non-null   float64\n",
      " 40  Óxido_Aluminio(%)          2032 non-null   float64\n",
      " 41  Dióxido_Titanio(%)         2032 non-null   float64\n",
      " 42  Óxido_Hierro(%)            2032 non-null   float64\n",
      " 43  Óxido_Calcio(%)            2032 non-null   float64\n",
      " 44  Óxido_Magnesio(%)          2032 non-null   float64\n",
      " 45  Óxido_Manganeso(%)         2032 non-null   float64\n",
      " 46  Óxido_Sodio(%)             2032 non-null   float64\n",
      " 47  Óxido_Potasio(%)           2032 non-null   float64\n",
      " 48  Fósforo(%)                 2032 non-null   float64\n",
      " 49  Clorocromato_Piridinio(%)  2032 non-null   float64\n",
      " 50  Óxido_Azúfre(%)            2032 non-null   float64\n",
      " 51  SUMA(%)                    2032 non-null   float64\n",
      " 52  Lantano(g/t)               2032 non-null   float64\n",
      " 53  Cerio(g/t)                 2032 non-null   float64\n",
      " 54  Praseodimio(g/t)           2032 non-null   float64\n",
      " 55  Neodimio(g/t)              2032 non-null   float64\n",
      " 56  Samario(g/t)               2032 non-null   float64\n",
      " 57  Europio(g/t)               2032 non-null   float64\n",
      " 58  Gadolinio(g/t)             2032 non-null   float64\n",
      " 59  Terbio(g/t)                2032 non-null   float64\n",
      " 60  Disprosio(g/t)             2032 non-null   float64\n",
      " 61  Holmio(g/t)                2032 non-null   float64\n",
      " 62  Erbio(g/t)                 2032 non-null   float64\n",
      " 63  Tulio(g/t)                 2032 non-null   float64\n",
      " 64  Iterbio(g/t)               2032 non-null   float64\n",
      " 65  Lutecio(g/t)               2032 non-null   float64\n",
      " 66  Oro(g/t)                   2032 non-null   float64\n",
      " 67  Mercurio(g/t)              2032 non-null   float64\n",
      "dtypes: float64(45), int64(14), object(9)\n",
      "memory usage: 1.1+ MB\n"
     ]
    }
   ],
   "source": [
    "df.info()"
   ]
  },
  {
   "cell_type": "code",
   "execution_count": 3,
   "id": "29dd8159",
   "metadata": {},
   "outputs": [
    {
     "data": {
      "text/html": [
       "<div>\n",
       "<style scoped>\n",
       "    .dataframe tbody tr th:only-of-type {\n",
       "        vertical-align: middle;\n",
       "    }\n",
       "\n",
       "    .dataframe tbody tr th {\n",
       "        vertical-align: top;\n",
       "    }\n",
       "\n",
       "    .dataframe thead th {\n",
       "        text-align: right;\n",
       "    }\n",
       "</style>\n",
       "<table border=\"1\" class=\"dataframe\">\n",
       "  <thead>\n",
       "    <tr style=\"text-align: right;\">\n",
       "      <th></th>\n",
       "      <th>Cobre(g/t)</th>\n",
       "      <th>Vanadio(g/t)</th>\n",
       "      <th>Cromo(g/t)</th>\n",
       "      <th>Cobalto(g/t)</th>\n",
       "      <th>Niquel(g/t)</th>\n",
       "      <th>Zing(g/t)</th>\n",
       "      <th>Rubidio(g/t)</th>\n",
       "      <th>Estroncio(g/t)</th>\n",
       "      <th>Itrio(g/t)</th>\n",
       "      <th>Circonio(g/t)</th>\n",
       "      <th>...</th>\n",
       "      <th>Gadolinio(g/t)</th>\n",
       "      <th>Terbio(g/t)</th>\n",
       "      <th>Disprosio(g/t)</th>\n",
       "      <th>Holmio(g/t)</th>\n",
       "      <th>Erbio(g/t)</th>\n",
       "      <th>Tulio(g/t)</th>\n",
       "      <th>Iterbio(g/t)</th>\n",
       "      <th>Lutecio(g/t)</th>\n",
       "      <th>Oro(g/t)</th>\n",
       "      <th>Mercurio(g/t)</th>\n",
       "    </tr>\n",
       "    <tr>\n",
       "      <th>ID</th>\n",
       "      <th></th>\n",
       "      <th></th>\n",
       "      <th></th>\n",
       "      <th></th>\n",
       "      <th></th>\n",
       "      <th></th>\n",
       "      <th></th>\n",
       "      <th></th>\n",
       "      <th></th>\n",
       "      <th></th>\n",
       "      <th></th>\n",
       "      <th></th>\n",
       "      <th></th>\n",
       "      <th></th>\n",
       "      <th></th>\n",
       "      <th></th>\n",
       "      <th></th>\n",
       "      <th></th>\n",
       "      <th></th>\n",
       "      <th></th>\n",
       "      <th></th>\n",
       "    </tr>\n",
       "  </thead>\n",
       "  <tbody>\n",
       "    <tr>\n",
       "      <th>1</th>\n",
       "      <td>1772</td>\n",
       "      <td>71</td>\n",
       "      <td>21</td>\n",
       "      <td>35</td>\n",
       "      <td>7</td>\n",
       "      <td>90</td>\n",
       "      <td>62</td>\n",
       "      <td>144</td>\n",
       "      <td>10</td>\n",
       "      <td>92</td>\n",
       "      <td>...</td>\n",
       "      <td>3.88</td>\n",
       "      <td>0.54</td>\n",
       "      <td>2.81</td>\n",
       "      <td>0.71</td>\n",
       "      <td>1.79</td>\n",
       "      <td>0.24</td>\n",
       "      <td>1.75</td>\n",
       "      <td>0.23</td>\n",
       "      <td>0.02</td>\n",
       "      <td>0.01</td>\n",
       "    </tr>\n",
       "    <tr>\n",
       "      <th>2</th>\n",
       "      <td>2616</td>\n",
       "      <td>49</td>\n",
       "      <td>65</td>\n",
       "      <td>30</td>\n",
       "      <td>32</td>\n",
       "      <td>362</td>\n",
       "      <td>31</td>\n",
       "      <td>161</td>\n",
       "      <td>10</td>\n",
       "      <td>67</td>\n",
       "      <td>...</td>\n",
       "      <td>3.04</td>\n",
       "      <td>0.44</td>\n",
       "      <td>2.79</td>\n",
       "      <td>0.55</td>\n",
       "      <td>1.40</td>\n",
       "      <td>0.21</td>\n",
       "      <td>1.45</td>\n",
       "      <td>0.17</td>\n",
       "      <td>0.02</td>\n",
       "      <td>0.01</td>\n",
       "    </tr>\n",
       "    <tr>\n",
       "      <th>3</th>\n",
       "      <td>814</td>\n",
       "      <td>86</td>\n",
       "      <td>55</td>\n",
       "      <td>34</td>\n",
       "      <td>16</td>\n",
       "      <td>184</td>\n",
       "      <td>76</td>\n",
       "      <td>210</td>\n",
       "      <td>10</td>\n",
       "      <td>78</td>\n",
       "      <td>...</td>\n",
       "      <td>3.14</td>\n",
       "      <td>0.46</td>\n",
       "      <td>3.12</td>\n",
       "      <td>0.58</td>\n",
       "      <td>1.61</td>\n",
       "      <td>0.25</td>\n",
       "      <td>1.46</td>\n",
       "      <td>0.23</td>\n",
       "      <td>0.02</td>\n",
       "      <td>0.01</td>\n",
       "    </tr>\n",
       "    <tr>\n",
       "      <th>4</th>\n",
       "      <td>528</td>\n",
       "      <td>32</td>\n",
       "      <td>36</td>\n",
       "      <td>30</td>\n",
       "      <td>49</td>\n",
       "      <td>84</td>\n",
       "      <td>17</td>\n",
       "      <td>110</td>\n",
       "      <td>10</td>\n",
       "      <td>56</td>\n",
       "      <td>...</td>\n",
       "      <td>2.79</td>\n",
       "      <td>0.41</td>\n",
       "      <td>2.35</td>\n",
       "      <td>0.49</td>\n",
       "      <td>1.55</td>\n",
       "      <td>0.19</td>\n",
       "      <td>1.20</td>\n",
       "      <td>0.13</td>\n",
       "      <td>0.02</td>\n",
       "      <td>0.01</td>\n",
       "    </tr>\n",
       "    <tr>\n",
       "      <th>5</th>\n",
       "      <td>627</td>\n",
       "      <td>104</td>\n",
       "      <td>52</td>\n",
       "      <td>32</td>\n",
       "      <td>10</td>\n",
       "      <td>90</td>\n",
       "      <td>63</td>\n",
       "      <td>189</td>\n",
       "      <td>10</td>\n",
       "      <td>83</td>\n",
       "      <td>...</td>\n",
       "      <td>3.67</td>\n",
       "      <td>0.54</td>\n",
       "      <td>3.34</td>\n",
       "      <td>0.71</td>\n",
       "      <td>1.88</td>\n",
       "      <td>0.26</td>\n",
       "      <td>1.43</td>\n",
       "      <td>0.19</td>\n",
       "      <td>0.02</td>\n",
       "      <td>0.01</td>\n",
       "    </tr>\n",
       "  </tbody>\n",
       "</table>\n",
       "<p>5 rows × 56 columns</p>\n",
       "</div>"
      ],
      "text/plain": [
       "    Cobre(g/t)  Vanadio(g/t)  Cromo(g/t)  Cobalto(g/t)  Niquel(g/t)  \\\n",
       "ID                                                                    \n",
       "1         1772            71          21            35            7   \n",
       "2         2616            49          65            30           32   \n",
       "3          814            86          55            34           16   \n",
       "4          528            32          36            30           49   \n",
       "5          627           104          52            32           10   \n",
       "\n",
       "    Zing(g/t)  Rubidio(g/t)  Estroncio(g/t)  Itrio(g/t)  Circonio(g/t)  ...  \\\n",
       "ID                                                                      ...   \n",
       "1          90            62             144          10             92  ...   \n",
       "2         362            31             161          10             67  ...   \n",
       "3         184            76             210          10             78  ...   \n",
       "4          84            17             110          10             56  ...   \n",
       "5          90            63             189          10             83  ...   \n",
       "\n",
       "    Gadolinio(g/t)  Terbio(g/t)  Disprosio(g/t)  Holmio(g/t)  Erbio(g/t)  \\\n",
       "ID                                                                         \n",
       "1             3.88         0.54            2.81         0.71        1.79   \n",
       "2             3.04         0.44            2.79         0.55        1.40   \n",
       "3             3.14         0.46            3.12         0.58        1.61   \n",
       "4             2.79         0.41            2.35         0.49        1.55   \n",
       "5             3.67         0.54            3.34         0.71        1.88   \n",
       "\n",
       "    Tulio(g/t)  Iterbio(g/t)  Lutecio(g/t)  Oro(g/t)  Mercurio(g/t)  \n",
       "ID                                                                   \n",
       "1         0.24          1.75          0.23      0.02           0.01  \n",
       "2         0.21          1.45          0.17      0.02           0.01  \n",
       "3         0.25          1.46          0.23      0.02           0.01  \n",
       "4         0.19          1.20          0.13      0.02           0.01  \n",
       "5         0.26          1.43          0.19      0.02           0.01  \n",
       "\n",
       "[5 rows x 56 columns]"
      ]
     },
     "execution_count": 3,
     "metadata": {},
     "output_type": "execute_result"
    }
   ],
   "source": [
    "df = df.drop(['masa (t)','Faena','Deposito','Coord. N','Coord. E','Empresa o Dueno','Recurso','Estado','Origen',\n",
    "             'Region','Comuna','SUMA(%)'], axis=1)\n",
    "df.head(5)"
   ]
  },
  {
   "cell_type": "code",
   "execution_count": 4,
   "id": "5a4b29c3",
   "metadata": {},
   "outputs": [
    {
     "data": {
      "text/plain": [
       "Index(['Cobre(g/t)', 'Vanadio(g/t)', 'Cromo(g/t)', 'Cobalto(g/t)',\n",
       "       'Niquel(g/t)', 'Zing(g/t)', 'Rubidio(g/t)', 'Estroncio(g/t)',\n",
       "       'Itrio(g/t)', 'Circonio(g/t)', 'Niobio(g/t)', 'Bario(g/t)',\n",
       "       'Plomo(g/t)', 'Escandio(g/t)', 'Cesio(g/t)', 'Hafnio(g/t)',\n",
       "       'Tantalo(g/t)', 'Torio(g/t)', 'Uranio(g/t)', 'Arsénico(g/t)',\n",
       "       'Molibdeno(g/t)', 'Antimonio(g/t)', 'Estaño(g/t)', 'Plata(g/t)',\n",
       "       'Cadmio(g/t)', 'Bismuto(g/t)', 'Volframio(g/t)', 'Azúfre Total(%)',\n",
       "       'Óxido_Silicio(%)', 'Óxido_Aluminio(%)', 'Dióxido_Titanio(%)',\n",
       "       'Óxido_Hierro(%)', 'Óxido_Calcio(%)', 'Óxido_Magnesio(%)',\n",
       "       'Óxido_Manganeso(%)', 'Óxido_Sodio(%)', 'Óxido_Potasio(%)',\n",
       "       'Fósforo(%)', 'Clorocromato_Piridinio(%)', 'Óxido_Azúfre(%)',\n",
       "       'Lantano(g/t)', 'Cerio(g/t)', 'Praseodimio(g/t)', 'Neodimio(g/t)',\n",
       "       'Samario(g/t)', 'Europio(g/t)', 'Gadolinio(g/t)', 'Terbio(g/t)',\n",
       "       'Disprosio(g/t)', 'Holmio(g/t)', 'Erbio(g/t)', 'Tulio(g/t)',\n",
       "       'Iterbio(g/t)', 'Lutecio(g/t)', 'Oro(g/t)', 'Mercurio(g/t)'],\n",
       "      dtype='object')"
      ]
     },
     "execution_count": 4,
     "metadata": {},
     "output_type": "execute_result"
    }
   ],
   "source": [
    "df.columns"
   ]
  },
  {
   "cell_type": "code",
   "execution_count": 5,
   "id": "8ea8af83",
   "metadata": {},
   "outputs": [
    {
     "data": {
      "text/html": [
       "<div>\n",
       "<style scoped>\n",
       "    .dataframe tbody tr th:only-of-type {\n",
       "        vertical-align: middle;\n",
       "    }\n",
       "\n",
       "    .dataframe tbody tr th {\n",
       "        vertical-align: top;\n",
       "    }\n",
       "\n",
       "    .dataframe thead th {\n",
       "        text-align: right;\n",
       "    }\n",
       "</style>\n",
       "<table border=\"1\" class=\"dataframe\">\n",
       "  <thead>\n",
       "    <tr style=\"text-align: right;\">\n",
       "      <th></th>\n",
       "      <th>Cobre(g/t)</th>\n",
       "      <th>Vanadio(g/t)</th>\n",
       "      <th>Cromo(g/t)</th>\n",
       "      <th>Cobalto(g/t)</th>\n",
       "      <th>Niquel(g/t)</th>\n",
       "      <th>Zing(g/t)</th>\n",
       "      <th>Rubidio(g/t)</th>\n",
       "      <th>Estroncio(g/t)</th>\n",
       "      <th>Itrio(g/t)</th>\n",
       "      <th>Circonio(g/t)</th>\n",
       "      <th>...</th>\n",
       "      <th>Gadolinio(g/t)</th>\n",
       "      <th>Terbio(g/t)</th>\n",
       "      <th>Disprosio(g/t)</th>\n",
       "      <th>Holmio(g/t)</th>\n",
       "      <th>Erbio(g/t)</th>\n",
       "      <th>Tulio(g/t)</th>\n",
       "      <th>Iterbio(g/t)</th>\n",
       "      <th>Lutecio(g/t)</th>\n",
       "      <th>Oro(g/t)</th>\n",
       "      <th>Mercurio(g/t)</th>\n",
       "    </tr>\n",
       "    <tr>\n",
       "      <th>ID</th>\n",
       "      <th></th>\n",
       "      <th></th>\n",
       "      <th></th>\n",
       "      <th></th>\n",
       "      <th></th>\n",
       "      <th></th>\n",
       "      <th></th>\n",
       "      <th></th>\n",
       "      <th></th>\n",
       "      <th></th>\n",
       "      <th></th>\n",
       "      <th></th>\n",
       "      <th></th>\n",
       "      <th></th>\n",
       "      <th></th>\n",
       "      <th></th>\n",
       "      <th></th>\n",
       "      <th></th>\n",
       "      <th></th>\n",
       "      <th></th>\n",
       "      <th></th>\n",
       "    </tr>\n",
       "  </thead>\n",
       "  <tbody>\n",
       "    <tr>\n",
       "      <th>1</th>\n",
       "      <td>1772</td>\n",
       "      <td>71</td>\n",
       "      <td>21</td>\n",
       "      <td>35</td>\n",
       "      <td>7</td>\n",
       "      <td>90</td>\n",
       "      <td>62</td>\n",
       "      <td>144</td>\n",
       "      <td>10</td>\n",
       "      <td>92</td>\n",
       "      <td>...</td>\n",
       "      <td>3.88</td>\n",
       "      <td>0.54</td>\n",
       "      <td>2.81</td>\n",
       "      <td>0.71</td>\n",
       "      <td>1.79</td>\n",
       "      <td>0.24</td>\n",
       "      <td>1.75</td>\n",
       "      <td>0.23</td>\n",
       "      <td>0.02</td>\n",
       "      <td>0.01</td>\n",
       "    </tr>\n",
       "    <tr>\n",
       "      <th>2</th>\n",
       "      <td>2616</td>\n",
       "      <td>49</td>\n",
       "      <td>65</td>\n",
       "      <td>30</td>\n",
       "      <td>32</td>\n",
       "      <td>362</td>\n",
       "      <td>31</td>\n",
       "      <td>161</td>\n",
       "      <td>10</td>\n",
       "      <td>67</td>\n",
       "      <td>...</td>\n",
       "      <td>3.04</td>\n",
       "      <td>0.44</td>\n",
       "      <td>2.79</td>\n",
       "      <td>0.55</td>\n",
       "      <td>1.40</td>\n",
       "      <td>0.21</td>\n",
       "      <td>1.45</td>\n",
       "      <td>0.17</td>\n",
       "      <td>0.02</td>\n",
       "      <td>0.01</td>\n",
       "    </tr>\n",
       "    <tr>\n",
       "      <th>3</th>\n",
       "      <td>814</td>\n",
       "      <td>86</td>\n",
       "      <td>55</td>\n",
       "      <td>34</td>\n",
       "      <td>16</td>\n",
       "      <td>184</td>\n",
       "      <td>76</td>\n",
       "      <td>210</td>\n",
       "      <td>10</td>\n",
       "      <td>78</td>\n",
       "      <td>...</td>\n",
       "      <td>3.14</td>\n",
       "      <td>0.46</td>\n",
       "      <td>3.12</td>\n",
       "      <td>0.58</td>\n",
       "      <td>1.61</td>\n",
       "      <td>0.25</td>\n",
       "      <td>1.46</td>\n",
       "      <td>0.23</td>\n",
       "      <td>0.02</td>\n",
       "      <td>0.01</td>\n",
       "    </tr>\n",
       "    <tr>\n",
       "      <th>4</th>\n",
       "      <td>528</td>\n",
       "      <td>32</td>\n",
       "      <td>36</td>\n",
       "      <td>30</td>\n",
       "      <td>49</td>\n",
       "      <td>84</td>\n",
       "      <td>17</td>\n",
       "      <td>110</td>\n",
       "      <td>10</td>\n",
       "      <td>56</td>\n",
       "      <td>...</td>\n",
       "      <td>2.79</td>\n",
       "      <td>0.41</td>\n",
       "      <td>2.35</td>\n",
       "      <td>0.49</td>\n",
       "      <td>1.55</td>\n",
       "      <td>0.19</td>\n",
       "      <td>1.20</td>\n",
       "      <td>0.13</td>\n",
       "      <td>0.02</td>\n",
       "      <td>0.01</td>\n",
       "    </tr>\n",
       "    <tr>\n",
       "      <th>5</th>\n",
       "      <td>627</td>\n",
       "      <td>104</td>\n",
       "      <td>52</td>\n",
       "      <td>32</td>\n",
       "      <td>10</td>\n",
       "      <td>90</td>\n",
       "      <td>63</td>\n",
       "      <td>189</td>\n",
       "      <td>10</td>\n",
       "      <td>83</td>\n",
       "      <td>...</td>\n",
       "      <td>3.67</td>\n",
       "      <td>0.54</td>\n",
       "      <td>3.34</td>\n",
       "      <td>0.71</td>\n",
       "      <td>1.88</td>\n",
       "      <td>0.26</td>\n",
       "      <td>1.43</td>\n",
       "      <td>0.19</td>\n",
       "      <td>0.02</td>\n",
       "      <td>0.01</td>\n",
       "    </tr>\n",
       "    <tr>\n",
       "      <th>...</th>\n",
       "      <td>...</td>\n",
       "      <td>...</td>\n",
       "      <td>...</td>\n",
       "      <td>...</td>\n",
       "      <td>...</td>\n",
       "      <td>...</td>\n",
       "      <td>...</td>\n",
       "      <td>...</td>\n",
       "      <td>...</td>\n",
       "      <td>...</td>\n",
       "      <td>...</td>\n",
       "      <td>...</td>\n",
       "      <td>...</td>\n",
       "      <td>...</td>\n",
       "      <td>...</td>\n",
       "      <td>...</td>\n",
       "      <td>...</td>\n",
       "      <td>...</td>\n",
       "      <td>...</td>\n",
       "      <td>...</td>\n",
       "      <td>...</td>\n",
       "    </tr>\n",
       "    <tr>\n",
       "      <th>2183</th>\n",
       "      <td>181</td>\n",
       "      <td>57</td>\n",
       "      <td>56</td>\n",
       "      <td>28</td>\n",
       "      <td>12</td>\n",
       "      <td>67014</td>\n",
       "      <td>43</td>\n",
       "      <td>35</td>\n",
       "      <td>10</td>\n",
       "      <td>112</td>\n",
       "      <td>...</td>\n",
       "      <td>3.62</td>\n",
       "      <td>0.49</td>\n",
       "      <td>3.07</td>\n",
       "      <td>0.57</td>\n",
       "      <td>1.46</td>\n",
       "      <td>0.16</td>\n",
       "      <td>1.16</td>\n",
       "      <td>0.16</td>\n",
       "      <td>0.02</td>\n",
       "      <td>3.44</td>\n",
       "    </tr>\n",
       "    <tr>\n",
       "      <th>2184</th>\n",
       "      <td>986</td>\n",
       "      <td>89</td>\n",
       "      <td>60</td>\n",
       "      <td>13</td>\n",
       "      <td>5</td>\n",
       "      <td>709</td>\n",
       "      <td>18</td>\n",
       "      <td>27</td>\n",
       "      <td>10</td>\n",
       "      <td>127</td>\n",
       "      <td>...</td>\n",
       "      <td>2.12</td>\n",
       "      <td>0.30</td>\n",
       "      <td>1.45</td>\n",
       "      <td>0.30</td>\n",
       "      <td>0.59</td>\n",
       "      <td>0.10</td>\n",
       "      <td>0.71</td>\n",
       "      <td>0.08</td>\n",
       "      <td>0.02</td>\n",
       "      <td>2.43</td>\n",
       "    </tr>\n",
       "    <tr>\n",
       "      <th>2185</th>\n",
       "      <td>1792</td>\n",
       "      <td>32</td>\n",
       "      <td>44</td>\n",
       "      <td>23</td>\n",
       "      <td>5</td>\n",
       "      <td>379713</td>\n",
       "      <td>6</td>\n",
       "      <td>5</td>\n",
       "      <td>10</td>\n",
       "      <td>53</td>\n",
       "      <td>...</td>\n",
       "      <td>0.28</td>\n",
       "      <td>0.04</td>\n",
       "      <td>0.20</td>\n",
       "      <td>0.04</td>\n",
       "      <td>0.21</td>\n",
       "      <td>0.01</td>\n",
       "      <td>0.09</td>\n",
       "      <td>0.03</td>\n",
       "      <td>0.02</td>\n",
       "      <td>2.20</td>\n",
       "    </tr>\n",
       "    <tr>\n",
       "      <th>2186</th>\n",
       "      <td>8196</td>\n",
       "      <td>106</td>\n",
       "      <td>60</td>\n",
       "      <td>29</td>\n",
       "      <td>26</td>\n",
       "      <td>113</td>\n",
       "      <td>129</td>\n",
       "      <td>82</td>\n",
       "      <td>43</td>\n",
       "      <td>293</td>\n",
       "      <td>...</td>\n",
       "      <td>4.79</td>\n",
       "      <td>0.62</td>\n",
       "      <td>4.17</td>\n",
       "      <td>0.73</td>\n",
       "      <td>2.30</td>\n",
       "      <td>0.30</td>\n",
       "      <td>2.21</td>\n",
       "      <td>0.33</td>\n",
       "      <td>0.05</td>\n",
       "      <td>0.78</td>\n",
       "    </tr>\n",
       "    <tr>\n",
       "      <th>2187</th>\n",
       "      <td>388</td>\n",
       "      <td>96</td>\n",
       "      <td>64</td>\n",
       "      <td>28</td>\n",
       "      <td>21</td>\n",
       "      <td>115</td>\n",
       "      <td>87</td>\n",
       "      <td>374</td>\n",
       "      <td>23</td>\n",
       "      <td>325</td>\n",
       "      <td>...</td>\n",
       "      <td>4.19</td>\n",
       "      <td>0.50</td>\n",
       "      <td>3.04</td>\n",
       "      <td>0.59</td>\n",
       "      <td>1.54</td>\n",
       "      <td>0.19</td>\n",
       "      <td>1.39</td>\n",
       "      <td>0.21</td>\n",
       "      <td>0.05</td>\n",
       "      <td>0.64</td>\n",
       "    </tr>\n",
       "  </tbody>\n",
       "</table>\n",
       "<p>2032 rows × 56 columns</p>\n",
       "</div>"
      ],
      "text/plain": [
       "      Cobre(g/t)  Vanadio(g/t)  Cromo(g/t)  Cobalto(g/t)  Niquel(g/t)  \\\n",
       "ID                                                                      \n",
       "1           1772            71          21            35            7   \n",
       "2           2616            49          65            30           32   \n",
       "3            814            86          55            34           16   \n",
       "4            528            32          36            30           49   \n",
       "5            627           104          52            32           10   \n",
       "...          ...           ...         ...           ...          ...   \n",
       "2183         181            57          56            28           12   \n",
       "2184         986            89          60            13            5   \n",
       "2185        1792            32          44            23            5   \n",
       "2186        8196           106          60            29           26   \n",
       "2187         388            96          64            28           21   \n",
       "\n",
       "      Zing(g/t)  Rubidio(g/t)  Estroncio(g/t)  Itrio(g/t)  Circonio(g/t)  ...  \\\n",
       "ID                                                                        ...   \n",
       "1            90            62             144          10             92  ...   \n",
       "2           362            31             161          10             67  ...   \n",
       "3           184            76             210          10             78  ...   \n",
       "4            84            17             110          10             56  ...   \n",
       "5            90            63             189          10             83  ...   \n",
       "...         ...           ...             ...         ...            ...  ...   \n",
       "2183      67014            43              35          10            112  ...   \n",
       "2184        709            18              27          10            127  ...   \n",
       "2185     379713             6               5          10             53  ...   \n",
       "2186        113           129              82          43            293  ...   \n",
       "2187        115            87             374          23            325  ...   \n",
       "\n",
       "      Gadolinio(g/t)  Terbio(g/t)  Disprosio(g/t)  Holmio(g/t)  Erbio(g/t)  \\\n",
       "ID                                                                           \n",
       "1               3.88         0.54            2.81         0.71        1.79   \n",
       "2               3.04         0.44            2.79         0.55        1.40   \n",
       "3               3.14         0.46            3.12         0.58        1.61   \n",
       "4               2.79         0.41            2.35         0.49        1.55   \n",
       "5               3.67         0.54            3.34         0.71        1.88   \n",
       "...              ...          ...             ...          ...         ...   \n",
       "2183            3.62         0.49            3.07         0.57        1.46   \n",
       "2184            2.12         0.30            1.45         0.30        0.59   \n",
       "2185            0.28         0.04            0.20         0.04        0.21   \n",
       "2186            4.79         0.62            4.17         0.73        2.30   \n",
       "2187            4.19         0.50            3.04         0.59        1.54   \n",
       "\n",
       "      Tulio(g/t)  Iterbio(g/t)  Lutecio(g/t)  Oro(g/t)  Mercurio(g/t)  \n",
       "ID                                                                     \n",
       "1           0.24          1.75          0.23      0.02           0.01  \n",
       "2           0.21          1.45          0.17      0.02           0.01  \n",
       "3           0.25          1.46          0.23      0.02           0.01  \n",
       "4           0.19          1.20          0.13      0.02           0.01  \n",
       "5           0.26          1.43          0.19      0.02           0.01  \n",
       "...          ...           ...           ...       ...            ...  \n",
       "2183        0.16          1.16          0.16      0.02           3.44  \n",
       "2184        0.10          0.71          0.08      0.02           2.43  \n",
       "2185        0.01          0.09          0.03      0.02           2.20  \n",
       "2186        0.30          2.21          0.33      0.05           0.78  \n",
       "2187        0.19          1.39          0.21      0.05           0.64  \n",
       "\n",
       "[2032 rows x 56 columns]"
      ]
     },
     "execution_count": 5,
     "metadata": {},
     "output_type": "execute_result"
    }
   ],
   "source": [
    "df"
   ]
  },
  {
   "cell_type": "code",
   "execution_count": 6,
   "id": "2a9a281b",
   "metadata": {},
   "outputs": [],
   "source": [
    "#df.to_excel('metales2.xlsx')"
   ]
  },
  {
   "cell_type": "code",
   "execution_count": 7,
   "id": "053fdceb",
   "metadata": {},
   "outputs": [],
   "source": [
    "#archivo = 'C:/Users/genes/Downloads/metales 1.xlsx'\n",
    "\n",
    "#df = pd.read_excel(archivo, sheet_name='Sheet1')"
   ]
  },
  {
   "cell_type": "code",
   "execution_count": 8,
   "id": "76679bec",
   "metadata": {},
   "outputs": [
    {
     "data": {
      "image/png": "[encoded data removed]",
      "text/plain": [
       "<Figure size 360x360 with 1 Axes>"
      ]
     },
     "metadata": {
      "needs_background": "light"
     },
     "output_type": "display_data"
    }
   ],
   "source": [
    "sns.displot(df['Cobre(g/t)'],bins=20);"
   ]
  },
  {
   "cell_type": "code",
   "execution_count": 9,
   "id": "80c1b70c",
   "metadata": {},
   "outputs": [
    {
     "data": {
      "text/plain": [
       "[]"
      ]
     },
     "execution_count": 9,
     "metadata": {},
     "output_type": "execute_result"
    },
    {
     "data": {
      "image/png": "[encoded data removed]",
      "text/plain": [
       "<Figure size 792x648 with 2 Axes>"
      ]
     },
     "metadata": {
      "needs_background": "light"
     },
     "output_type": "display_data"
    }
   ],
   "source": [
    "corr = df.corr()\n",
    "f, ax = plt.subplots(figsize=(11, 9))\n",
    "cmap = sns.diverging_palette(220, 10, as_cmap=True)\n",
    "sns.heatmap(corr, cmap=cmap, vmax=.3, center=0,\n",
    "            square=True)\n",
    "plt.plot()"
   ]
  },
  {
   "cell_type": "code",
   "execution_count": 10,
   "id": "4d163413",
   "metadata": {},
   "outputs": [
    {
     "data": {
      "text/plain": [
       "[]"
      ]
     },
     "execution_count": 10,
     "metadata": {},
     "output_type": "execute_result"
    },
    {
     "data": {
      "image/png": "[encoded data removed]",
      "text/plain": [
       "<Figure size 792x648 with 2 Axes>"
      ]
     },
     "metadata": {
      "needs_background": "light"
     },
     "output_type": "display_data"
    }
   ],
   "source": [
    "corr = df.corr()\n",
    "f, ax = plt.subplots(figsize=(11, 9))\n",
    "\n",
    "mask = np.zeros_like(corr, dtype=bool)\n",
    "mask[np.triu_indices_from(mask)] = True\n",
    "cmap = sns.diverging_palette(220, 10, as_cmap=True)\n",
    "sns.heatmap(corr, mask=mask, cmap=cmap, vmax=.3, center=0,\n",
    "            square=True)\n",
    "plt.plot()"
   ]
  },
  {
   "cell_type": "code",
   "execution_count": 16,
   "id": "257ef75b",
   "metadata": {},
   "outputs": [
    {
     "data": {
      "text/html": [
       "<div>\n",
       "<style scoped>\n",
       "    .dataframe tbody tr th:only-of-type {\n",
       "        vertical-align: middle;\n",
       "    }\n",
       "\n",
       "    .dataframe tbody tr th {\n",
       "        vertical-align: top;\n",
       "    }\n",
       "\n",
       "    .dataframe thead th {\n",
       "        text-align: right;\n",
       "    }\n",
       "</style>\n",
       "<table border=\"1\" class=\"dataframe\">\n",
       "  <thead>\n",
       "    <tr style=\"text-align: right;\">\n",
       "      <th></th>\n",
       "      <th>Suma Total</th>\n",
       "    </tr>\n",
       "  </thead>\n",
       "  <tbody>\n",
       "    <tr>\n",
       "      <th>Cobre(g/t)</th>\n",
       "      <td>4198317.000</td>\n",
       "    </tr>\n",
       "    <tr>\n",
       "      <th>Vanadio(g/t)</th>\n",
       "      <td>287994.000</td>\n",
       "    </tr>\n",
       "    <tr>\n",
       "      <th>Cromo(g/t)</th>\n",
       "      <td>315374.000</td>\n",
       "    </tr>\n",
       "    <tr>\n",
       "      <th>Cobalto(g/t)</th>\n",
       "      <td>50681.000</td>\n",
       "    </tr>\n",
       "    <tr>\n",
       "      <th>Niquel(g/t)</th>\n",
       "      <td>78945.000</td>\n",
       "    </tr>\n",
       "    <tr>\n",
       "      <th>Zing(g/t)</th>\n",
       "      <td>2715771.000</td>\n",
       "    </tr>\n",
       "    <tr>\n",
       "      <th>Rubidio(g/t)</th>\n",
       "      <td>136271.000</td>\n",
       "    </tr>\n",
       "    <tr>\n",
       "      <th>Estroncio(g/t)</th>\n",
       "      <td>381347.000</td>\n",
       "    </tr>\n",
       "    <tr>\n",
       "      <th>Itrio(g/t)</th>\n",
       "      <td>69091.000</td>\n",
       "    </tr>\n",
       "    <tr>\n",
       "      <th>Circonio(g/t)</th>\n",
       "      <td>445295.000</td>\n",
       "    </tr>\n",
       "    <tr>\n",
       "      <th>Niobio(g/t)</th>\n",
       "      <td>19224.000</td>\n",
       "    </tr>\n",
       "    <tr>\n",
       "      <th>Bario(g/t)</th>\n",
       "      <td>3952871.000</td>\n",
       "    </tr>\n",
       "    <tr>\n",
       "      <th>Plomo(g/t)</th>\n",
       "      <td>1229732.000</td>\n",
       "    </tr>\n",
       "    <tr>\n",
       "      <th>Escandio(g/t)</th>\n",
       "      <td>35612.000</td>\n",
       "    </tr>\n",
       "    <tr>\n",
       "      <th>Cesio(g/t)</th>\n",
       "      <td>8151.420</td>\n",
       "    </tr>\n",
       "    <tr>\n",
       "      <th>Hafnio(g/t)</th>\n",
       "      <td>7526.540</td>\n",
       "    </tr>\n",
       "    <tr>\n",
       "      <th>Tantalo(g/t)</th>\n",
       "      <td>4098.350</td>\n",
       "    </tr>\n",
       "    <tr>\n",
       "      <th>Torio(g/t)</th>\n",
       "      <td>8216.630</td>\n",
       "    </tr>\n",
       "    <tr>\n",
       "      <th>Uranio(g/t)</th>\n",
       "      <td>3736.490</td>\n",
       "    </tr>\n",
       "    <tr>\n",
       "      <th>Arsénico(g/t)</th>\n",
       "      <td>2038558.272</td>\n",
       "    </tr>\n",
       "    <tr>\n",
       "      <th>Molibdeno(g/t)</th>\n",
       "      <td>52933.860</td>\n",
       "    </tr>\n",
       "    <tr>\n",
       "      <th>Antimonio(g/t)</th>\n",
       "      <td>145050.950</td>\n",
       "    </tr>\n",
       "    <tr>\n",
       "      <th>Estaño(g/t)</th>\n",
       "      <td>75991.350</td>\n",
       "    </tr>\n",
       "    <tr>\n",
       "      <th>Plata(g/t)</th>\n",
       "      <td>23756.890</td>\n",
       "    </tr>\n",
       "    <tr>\n",
       "      <th>Cadmio(g/t)</th>\n",
       "      <td>9613.300</td>\n",
       "    </tr>\n",
       "    <tr>\n",
       "      <th>Bismuto(g/t)</th>\n",
       "      <td>27959.230</td>\n",
       "    </tr>\n",
       "    <tr>\n",
       "      <th>Volframio(g/t)</th>\n",
       "      <td>36125.560</td>\n",
       "    </tr>\n",
       "    <tr>\n",
       "      <th>Azúfre Total(%)</th>\n",
       "      <td>1253.260</td>\n",
       "    </tr>\n",
       "    <tr>\n",
       "      <th>Óxido_Silicio(%)</th>\n",
       "      <td>108224.170</td>\n",
       "    </tr>\n",
       "    <tr>\n",
       "      <th>Óxido_Aluminio(%)</th>\n",
       "      <td>26560.010</td>\n",
       "    </tr>\n",
       "    <tr>\n",
       "      <th>Dióxido_Titanio(%)</th>\n",
       "      <td>1051.410</td>\n",
       "    </tr>\n",
       "    <tr>\n",
       "      <th>Óxido_Hierro(%)</th>\n",
       "      <td>23125.660</td>\n",
       "    </tr>\n",
       "    <tr>\n",
       "      <th>Óxido_Calcio(%)</th>\n",
       "      <td>11813.520</td>\n",
       "    </tr>\n",
       "    <tr>\n",
       "      <th>Óxido_Magnesio(%)</th>\n",
       "      <td>6030.200</td>\n",
       "    </tr>\n",
       "    <tr>\n",
       "      <th>Óxido_Manganeso(%)</th>\n",
       "      <td>566.780</td>\n",
       "    </tr>\n",
       "    <tr>\n",
       "      <th>Óxido_Sodio(%)</th>\n",
       "      <td>4321.830</td>\n",
       "    </tr>\n",
       "    <tr>\n",
       "      <th>Óxido_Potasio(%)</th>\n",
       "      <td>4667.840</td>\n",
       "    </tr>\n",
       "    <tr>\n",
       "      <th>Fósforo(%)</th>\n",
       "      <td>499.060</td>\n",
       "    </tr>\n",
       "    <tr>\n",
       "      <th>Clorocromato_Piridinio(%)</th>\n",
       "      <td>13631.650</td>\n",
       "    </tr>\n",
       "    <tr>\n",
       "      <th>Óxido_Azúfre(%)</th>\n",
       "      <td>565.040</td>\n",
       "    </tr>\n",
       "    <tr>\n",
       "      <th>Lantano(g/t)</th>\n",
       "      <td>39265.630</td>\n",
       "    </tr>\n",
       "    <tr>\n",
       "      <th>Cerio(g/t)</th>\n",
       "      <td>67000.910</td>\n",
       "    </tr>\n",
       "    <tr>\n",
       "      <th>Praseodimio(g/t)</th>\n",
       "      <td>8396.880</td>\n",
       "    </tr>\n",
       "    <tr>\n",
       "      <th>Neodimio(g/t)</th>\n",
       "      <td>33746.670</td>\n",
       "    </tr>\n",
       "    <tr>\n",
       "      <th>Samario(g/t)</th>\n",
       "      <td>7046.780</td>\n",
       "    </tr>\n",
       "    <tr>\n",
       "      <th>Europio(g/t)</th>\n",
       "      <td>2051.730</td>\n",
       "    </tr>\n",
       "    <tr>\n",
       "      <th>Gadolinio(g/t)</th>\n",
       "      <td>6622.070</td>\n",
       "    </tr>\n",
       "    <tr>\n",
       "      <th>Terbio(g/t)</th>\n",
       "      <td>914.730</td>\n",
       "    </tr>\n",
       "    <tr>\n",
       "      <th>Disprosio(g/t)</th>\n",
       "      <td>5241.450</td>\n",
       "    </tr>\n",
       "    <tr>\n",
       "      <th>Holmio(g/t)</th>\n",
       "      <td>1045.840</td>\n",
       "    </tr>\n",
       "    <tr>\n",
       "      <th>Erbio(g/t)</th>\n",
       "      <td>3035.960</td>\n",
       "    </tr>\n",
       "    <tr>\n",
       "      <th>Tulio(g/t)</th>\n",
       "      <td>431.200</td>\n",
       "    </tr>\n",
       "    <tr>\n",
       "      <th>Iterbio(g/t)</th>\n",
       "      <td>2781.290</td>\n",
       "    </tr>\n",
       "    <tr>\n",
       "      <th>Lutecio(g/t)</th>\n",
       "      <td>415.040</td>\n",
       "    </tr>\n",
       "    <tr>\n",
       "      <th>Oro(g/t)</th>\n",
       "      <td>51.350</td>\n",
       "    </tr>\n",
       "    <tr>\n",
       "      <th>Mercurio(g/t)</th>\n",
       "      <td>3013.580</td>\n",
       "    </tr>\n",
       "  </tbody>\n",
       "</table>\n",
       "</div>"
      ],
      "text/plain": [
       "                            Suma Total\n",
       "Cobre(g/t)                 4198317.000\n",
       "Vanadio(g/t)                287994.000\n",
       "Cromo(g/t)                  315374.000\n",
       "Cobalto(g/t)                 50681.000\n",
       "Niquel(g/t)                  78945.000\n",
       "Zing(g/t)                  2715771.000\n",
       "Rubidio(g/t)                136271.000\n",
       "Estroncio(g/t)              381347.000\n",
       "Itrio(g/t)                   69091.000\n",
       "Circonio(g/t)               445295.000\n",
       "Niobio(g/t)                  19224.000\n",
       "Bario(g/t)                 3952871.000\n",
       "Plomo(g/t)                 1229732.000\n",
       "Escandio(g/t)                35612.000\n",
       "Cesio(g/t)                    8151.420\n",
       "Hafnio(g/t)                   7526.540\n",
       "Tantalo(g/t)                  4098.350\n",
       "Torio(g/t)                    8216.630\n",
       "Uranio(g/t)                   3736.490\n",
       "Arsénico(g/t)              2038558.272\n",
       "Molibdeno(g/t)               52933.860\n",
       "Antimonio(g/t)              145050.950\n",
       "Estaño(g/t)                  75991.350\n",
       "Plata(g/t)                   23756.890\n",
       "Cadmio(g/t)                   9613.300\n",
       "Bismuto(g/t)                 27959.230\n",
       "Volframio(g/t)               36125.560\n",
       "Azúfre Total(%)               1253.260\n",
       "Óxido_Silicio(%)            108224.170\n",
       "Óxido_Aluminio(%)            26560.010\n",
       "Dióxido_Titanio(%)            1051.410\n",
       "Óxido_Hierro(%)              23125.660\n",
       "Óxido_Calcio(%)              11813.520\n",
       "Óxido_Magnesio(%)             6030.200\n",
       "Óxido_Manganeso(%)             566.780\n",
       "Óxido_Sodio(%)                4321.830\n",
       "Óxido_Potasio(%)              4667.840\n",
       "Fósforo(%)                     499.060\n",
       "Clorocromato_Piridinio(%)    13631.650\n",
       "Óxido_Azúfre(%)                565.040\n",
       "Lantano(g/t)                 39265.630\n",
       "Cerio(g/t)                   67000.910\n",
       "Praseodimio(g/t)              8396.880\n",
       "Neodimio(g/t)                33746.670\n",
       "Samario(g/t)                  7046.780\n",
       "Europio(g/t)                  2051.730\n",
       "Gadolinio(g/t)                6622.070\n",
       "Terbio(g/t)                    914.730\n",
       "Disprosio(g/t)                5241.450\n",
       "Holmio(g/t)                   1045.840\n",
       "Erbio(g/t)                    3035.960\n",
       "Tulio(g/t)                     431.200\n",
       "Iterbio(g/t)                  2781.290\n",
       "Lutecio(g/t)                   415.040\n",
       "Oro(g/t)                        51.350\n",
       "Mercurio(g/t)                 3013.580"
      ]
     },
     "execution_count": 16,
     "metadata": {},
     "output_type": "execute_result"
    }
   ],
   "source": [
    "dfsum=df.sum()\n",
    "dfsum=dfsum.to_frame(name='Suma Total')\n",
    "dfsum"
   ]
  },
  {
   "cell_type": "code",
   "execution_count": 17,
   "id": "3a96a03f",
   "metadata": {},
   "outputs": [
    {
     "data": {
      "application/vnd.plotly.v1+json": {
       "config": {
        "plotlyServerURL": "https://plot.ly"
       },
       "data": [
        {
         "hovertemplate": "variable=Suma Total<br>index=%{x}<br>value=%{y}<extra></extra>",
         "legendgroup": "Suma Total",
         "marker": {
          "color": "#636efa",
          "symbol": "circle"
         },
         "mode": "markers",
         "name": "Suma Total",
         "orientation": "v",
         "showlegend": true,
         "type": "scatter",
         "x": [
          "Cobre(g/t)",
          "Vanadio(g/t)",
          "Cromo(g/t)",
          "Cobalto(g/t)",
          "Niquel(g/t)",
          "Zing(g/t)",
          "Rubidio(g/t)",
          "Estroncio(g/t)",
          "Itrio(g/t)",
          "Circonio(g/t)",
          "Niobio(g/t)",
          "Bario(g/t)",
          "Plomo(g/t)",
          "Escandio(g/t)",
          "Cesio(g/t)",
          "Hafnio(g/t)",
          "Tantalo(g/t)",
          "Torio(g/t)",
          "Uranio(g/t)",
          "Arsénico(g/t)",
          "Molibdeno(g/t)",
          "Antimonio(g/t)",
          "Estaño(g/t)",
          "Plata(g/t)",
          "Cadmio(g/t)",
          "Bismuto(g/t)",
          "Volframio(g/t)",
          "Azúfre Total(%)",
          "Óxido_Silicio(%)",
          "Óxido_Aluminio(%)",
          "Dióxido_Titanio(%)",
          "Óxido_Hierro(%)",
          "Óxido_Calcio(%)",
          "Óxido_Magnesio(%)",
          "Óxido_Manganeso(%)",
          "Óxido_Sodio(%)",
          "Óxido_Potasio(%)",
          "Fósforo(%)",
          "Clorocromato_Piridinio(%)",
          "Óxido_Azúfre(%)",
          "Lantano(g/t)",
          "Cerio(g/t)",
          "Praseodimio(g/t)",
          "Neodimio(g/t)",
          "Samario(g/t)",
          "Europio(g/t)",
          "Gadolinio(g/t)",
          "Terbio(g/t)",
          "Disprosio(g/t)",
          "Holmio(g/t)",
          "Erbio(g/t)",
          "Tulio(g/t)",
          "Iterbio(g/t)",
          "Lutecio(g/t)",
          "Oro(g/t)",
          "Mercurio(g/t)"
         ],
         "xaxis": "x",
         "y": [
          4198317,
          287994,
          315374,
          50681,
          78945,
          2715771,
          136271,
          381347,
          69091,
          445295,
          19224,
          3952871,
          1229732,
          35612,
          8151.42,
          7526.54,
          4098.349999999999,
          8216.630000000001,
          3736.4900000000002,
          2038558.272,
          52933.86,
          145050.95,
          75991.34999999999,
          23756.89,
          9613.300000000001,
          27959.23,
          36125.56,
          1253.26,
          108224.17,
          26560.010000000002,
          1051.41,
          23125.66,
          11813.52,
          6030.199999999999,
          566.78,
          4321.83,
          4667.84,
          499.06000000000006,
          13631.65,
          565.0400000000001,
          39265.630000000005,
          67000.91,
          8396.880000000001,
          33746.67,
          7046.78,
          2051.73,
          6622.07,
          914.73,
          5241.45,
          1045.84,
          3035.96,
          431.20000000000005,
          2781.29,
          415.04,
          51.35,
          3013.58
         ],
         "yaxis": "y"
        }
       ],
       "layout": {
        "legend": {
         "title": {
          "text": "variable"
         },
         "tracegroupgap": 0
        },
        "margin": {
         "t": 60
        },
        "template": {
         "data": {
          "bar": [
           {
            "error_x": {
             "color": "#2a3f5f"
            },
            "error_y": {
             "color": "#2a3f5f"
            },
            "marker": {
             "line": {
              "color": "#E5ECF6",
              "width": 0.5
             },
             "pattern": {
              "fillmode": "overlay",
              "size": 10,
              "solidity": 0.2
             }
            },
            "type": "bar"
           }
          ],
          "barpolar": [
           {
            "marker": {
             "line": {
              "color": "#E5ECF6",
              "width": 0.5
             },
             "pattern": {
              "fillmode": "overlay",
              "size": 10,
              "solidity": 0.2
             }
            },
            "type": "barpolar"
           }
          ],
          "carpet": [
           {
            "aaxis": {
             "endlinecolor": "#2a3f5f",
             "gridcolor": "white",
             "linecolor": "white",
             "minorgridcolor": "white",
             "startlinecolor": "#2a3f5f"
            },
            "baxis": {
             "endlinecolor": "#2a3f5f",
             "gridcolor": "white",
             "linecolor": "white",
             "minorgridcolor": "white",
             "startlinecolor": "#2a3f5f"
            },
            "type": "carpet"
           }
          ],
          "choropleth": [
           {
            "colorbar": {
             "outlinewidth": 0,
             "ticks": ""
            },
            "type": "choropleth"
           }
          ],
          "contour": [
           {
            "colorbar": {
             "outlinewidth": 0,
             "ticks": ""
            },
            "colorscale": [
             [
              0,
              "#0d0887"
             ],
             [
              0.1111111111111111,
              "#46039f"
             ],
             [
              0.2222222222222222,
              "#7201a8"
             ],
             [
              0.3333333333333333,
              "#9c179e"
             ],
             [
              0.4444444444444444,
              "#bd3786"
             ],
             [
              0.5555555555555556,
              "#d8576b"
             ],
             [
              0.6666666666666666,
              "#ed7953"
             ],
             [
              0.7777777777777778,
              "#fb9f3a"
             ],
             [
              0.8888888888888888,
              "#fdca26"
             ],
             [
              1,
              "#f0f921"
             ]
            ],
            "type": "contour"
           }
          ],
          "contourcarpet": [
           {
            "colorbar": {
             "outlinewidth": 0,
             "ticks": ""
            },
            "type": "contourcarpet"
           }
          ],
          "heatmap": [
           {
            "colorbar": {
             "outlinewidth": 0,
             "ticks": ""
            },
            "colorscale": [
             [
              0,
              "#0d0887"
             ],
             [
              0.1111111111111111,
              "#46039f"
             ],
             [
              0.2222222222222222,
              "#7201a8"
             ],
             [
              0.3333333333333333,
              "#9c179e"
             ],
             [
              0.4444444444444444,
              "#bd3786"
             ],
             [
              0.5555555555555556,
              "#d8576b"
             ],
             [
              0.6666666666666666,
              "#ed7953"
             ],
             [
              0.7777777777777778,
              "#fb9f3a"
             ],
             [
              0.8888888888888888,
              "#fdca26"
             ],
             [
              1,
              "#f0f921"
             ]
            ],
            "type": "heatmap"
           }
          ],
          "heatmapgl": [
           {
            "colorbar": {
             "outlinewidth": 0,
             "ticks": ""
            },
            "colorscale": [
             [
              0,
              "#0d0887"
             ],
             [
              0.1111111111111111,
              "#46039f"
             ],
             [
              0.2222222222222222,
              "#7201a8"
             ],
             [
              0.3333333333333333,
              "#9c179e"
             ],
             [
              0.4444444444444444,
              "#bd3786"
             ],
             [
              0.5555555555555556,
              "#d8576b"
             ],
             [
              0.6666666666666666,
              "#ed7953"
             ],
             [
              0.7777777777777778,
              "#fb9f3a"
             ],
             [
              0.8888888888888888,
              "#fdca26"
             ],
             [
              1,
              "#f0f921"
             ]
            ],
            "type": "heatmapgl"
           }
          ],
          "histogram": [
           {
            "marker": {
             "pattern": {
              "fillmode": "overlay",
              "size": 10,
              "solidity": 0.2
             }
            },
            "type": "histogram"
           }
          ],
          "histogram2d": [
           {
            "colorbar": {
             "outlinewidth": 0,
             "ticks": ""
            },
            "colorscale": [
             [
              0,
              "#0d0887"
             ],
             [
              0.1111111111111111,
              "#46039f"
             ],
             [
              0.2222222222222222,
              "#7201a8"
             ],
             [
              0.3333333333333333,
              "#9c179e"
             ],
             [
              0.4444444444444444,
              "#bd3786"
             ],
             [
              0.5555555555555556,
              "#d8576b"
             ],
             [
              0.6666666666666666,
              "#ed7953"
             ],
             [
              0.7777777777777778,
              "#fb9f3a"
             ],
             [
              0.8888888888888888,
              "#fdca26"
             ],
             [
              1,
              "#f0f921"
             ]
            ],
            "type": "histogram2d"
           }
          ],
          "histogram2dcontour": [
           {
            "colorbar": {
             "outlinewidth": 0,
             "ticks": ""
            },
            "colorscale": [
             [
              0,
              "#0d0887"
             ],
             [
              0.1111111111111111,
              "#46039f"
             ],
             [
              0.2222222222222222,
              "#7201a8"
             ],
             [
              0.3333333333333333,
              "#9c179e"
             ],
             [
              0.4444444444444444,
              "#bd3786"
             ],
             [
              0.5555555555555556,
              "#d8576b"
             ],
             [
              0.6666666666666666,
              "#ed7953"
             ],
             [
              0.7777777777777778,
              "#fb9f3a"
             ],
             [
              0.8888888888888888,
              "#fdca26"
             ],
             [
              1,
              "#f0f921"
             ]
            ],
            "type": "histogram2dcontour"
           }
          ],
          "mesh3d": [
           {
            "colorbar": {
             "outlinewidth": 0,
             "ticks": ""
            },
            "type": "mesh3d"
           }
          ],
          "parcoords": [
           {
            "line": {
             "colorbar": {
              "outlinewidth": 0,
              "ticks": ""
             }
            },
            "type": "parcoords"
           }
          ],
          "pie": [
           {
            "automargin": true,
            "type": "pie"
           }
          ],
          "scatter": [
           {
            "marker": {
             "colorbar": {
              "outlinewidth": 0,
              "ticks": ""
             }
            },
            "type": "scatter"
           }
          ],
          "scatter3d": [
           {
            "line": {
             "colorbar": {
              "outlinewidth": 0,
              "ticks": ""
             }
            },
            "marker": {
             "colorbar": {
              "outlinewidth": 0,
              "ticks": ""
             }
            },
            "type": "scatter3d"
           }
          ],
          "scattercarpet": [
           {
            "marker": {
             "colorbar": {
              "outlinewidth": 0,
              "ticks": ""
             }
            },
            "type": "scattercarpet"
           }
          ],
          "scattergeo": [
           {
            "marker": {
             "colorbar": {
              "outlinewidth": 0,
              "ticks": ""
             }
            },
            "type": "scattergeo"
           }
          ],
          "scattergl": [
           {
            "marker": {
             "colorbar": {
              "outlinewidth": 0,
              "ticks": ""
             }
            },
            "type": "scattergl"
           }
          ],
          "scattermapbox": [
           {
            "marker": {
             "colorbar": {
              "outlinewidth": 0,
              "ticks": ""
             }
            },
            "type": "scattermapbox"
           }
          ],
          "scatterpolar": [
           {
            "marker": {
             "colorbar": {
              "outlinewidth": 0,
              "ticks": ""
             }
            },
            "type": "scatterpolar"
           }
          ],
          "scatterpolargl": [
           {
            "marker": {
             "colorbar": {
              "outlinewidth": 0,
              "ticks": ""
             }
            },
            "type": "scatterpolargl"
           }
          ],
          "scatterternary": [
           {
            "marker": {
             "colorbar": {
              "outlinewidth": 0,
              "ticks": ""
             }
            },
            "type": "scatterternary"
           }
          ],
          "surface": [
           {
            "colorbar": {
             "outlinewidth": 0,
             "ticks": ""
            },
            "colorscale": [
             [
              0,
              "#0d0887"
             ],
             [
              0.1111111111111111,
              "#46039f"
             ],
             [
              0.2222222222222222,
              "#7201a8"
             ],
             [
              0.3333333333333333,
              "#9c179e"
             ],
             [
              0.4444444444444444,
              "#bd3786"
             ],
             [
              0.5555555555555556,
              "#d8576b"
             ],
             [
              0.6666666666666666,
              "#ed7953"
             ],
             [
              0.7777777777777778,
              "#fb9f3a"
             ],
             [
              0.8888888888888888,
              "#fdca26"
             ],
             [
              1,
              "#f0f921"
             ]
            ],
            "type": "surface"
           }
          ],
          "table": [
           {
            "cells": {
             "fill": {
              "color": "#EBF0F8"
             },
             "line": {
              "color": "white"
             }
            },
            "header": {
             "fill": {
              "color": "#C8D4E3"
             },
             "line": {
              "color": "white"
             }
            },
            "type": "table"
           }
          ]
         },
         "layout": {
          "annotationdefaults": {
           "arrowcolor": "#2a3f5f",
           "arrowhead": 0,
           "arrowwidth": 1
          },
          "autotypenumbers": "strict",
          "coloraxis": {
           "colorbar": {
            "outlinewidth": 0,
            "ticks": ""
           }
          },
          "colorscale": {
           "diverging": [
            [
             0,
             "#8e0152"
            ],
            [
             0.1,
             "#c51b7d"
            ],
            [
             0.2,
             "#de77ae"
            ],
            [
             0.3,
             "#f1b6da"
            ],
            [
             0.4,
             "#fde0ef"
            ],
            [
             0.5,
             "#f7f7f7"
            ],
            [
             0.6,
             "#e6f5d0"
            ],
            [
             0.7,
             "#b8e186"
            ],
            [
             0.8,
             "#7fbc41"
            ],
            [
             0.9,
             "#4d9221"
            ],
            [
             1,
             "#276419"
            ]
           ],
           "sequential": [
            [
             0,
             "#0d0887"
            ],
            [
             0.1111111111111111,
             "#46039f"
            ],
            [
             0.2222222222222222,
             "#7201a8"
            ],
            [
             0.3333333333333333,
             "#9c179e"
            ],
            [
             0.4444444444444444,
             "#bd3786"
            ],
            [
             0.5555555555555556,
             "#d8576b"
            ],
            [
             0.6666666666666666,
             "#ed7953"
            ],
            [
             0.7777777777777778,
             "#fb9f3a"
            ],
            [
             0.8888888888888888,
             "#fdca26"
            ],
            [
             1,
             "#f0f921"
            ]
           ],
           "sequentialminus": [
            [
             0,
             "#0d0887"
            ],
            [
             0.1111111111111111,
             "#46039f"
            ],
            [
             0.2222222222222222,
             "#7201a8"
            ],
            [
             0.3333333333333333,
             "#9c179e"
            ],
            [
             0.4444444444444444,
             "#bd3786"
            ],
            [
             0.5555555555555556,
             "#d8576b"
            ],
            [
             0.6666666666666666,
             "#ed7953"
            ],
            [
             0.7777777777777778,
             "#fb9f3a"
            ],
            [
             0.8888888888888888,
             "#fdca26"
            ],
            [
             1,
             "#f0f921"
            ]
           ]
          },
          "colorway": [
           "#636efa",
           "#EF553B",
           "#00cc96",
           "#ab63fa",
           "#FFA15A",
           "#19d3f3",
           "#FF6692",
           "#B6E880",
           "#FF97FF",
           "#FECB52"
          ],
          "font": {
           "color": "#2a3f5f"
          },
          "geo": {
           "bgcolor": "white",
           "lakecolor": "white",
           "landcolor": "#E5ECF6",
           "showlakes": true,
           "showland": true,
           "subunitcolor": "white"
          },
          "hoverlabel": {
           "align": "left"
          },
          "hovermode": "closest",
          "mapbox": {
           "style": "light"
          },
          "paper_bgcolor": "white",
          "plot_bgcolor": "#E5ECF6",
          "polar": {
           "angularaxis": {
            "gridcolor": "white",
            "linecolor": "white",
            "ticks": ""
           },
           "bgcolor": "#E5ECF6",
           "radialaxis": {
            "gridcolor": "white",
            "linecolor": "white",
            "ticks": ""
           }
          },
          "scene": {
           "xaxis": {
            "backgroundcolor": "#E5ECF6",
            "gridcolor": "white",
            "gridwidth": 2,
            "linecolor": "white",
            "showbackground": true,
            "ticks": "",
            "zerolinecolor": "white"
           },
           "yaxis": {
            "backgroundcolor": "#E5ECF6",
            "gridcolor": "white",
            "gridwidth": 2,
            "linecolor": "white",
            "showbackground": true,
            "ticks": "",
            "zerolinecolor": "white"
           },
           "zaxis": {
            "backgroundcolor": "#E5ECF6",
            "gridcolor": "white",
            "gridwidth": 2,
            "linecolor": "white",
            "showbackground": true,
            "ticks": "",
            "zerolinecolor": "white"
           }
          },
          "shapedefaults": {
           "line": {
            "color": "#2a3f5f"
           }
          },
          "ternary": {
           "aaxis": {
            "gridcolor": "white",
            "linecolor": "white",
            "ticks": ""
           },
           "baxis": {
            "gridcolor": "white",
            "linecolor": "white",
            "ticks": ""
           },
           "bgcolor": "#E5ECF6",
           "caxis": {
            "gridcolor": "white",
            "linecolor": "white",
            "ticks": ""
           }
          },
          "title": {
           "x": 0.05
          },
          "xaxis": {
           "automargin": true,
           "gridcolor": "white",
           "linecolor": "white",
           "ticks": "",
           "title": {
            "standoff": 15
           },
           "zerolinecolor": "white",
           "zerolinewidth": 2
          },
          "yaxis": {
           "automargin": true,
           "gridcolor": "white",
           "linecolor": "white",
           "ticks": "",
           "title": {
            "standoff": 15
           },
           "zerolinecolor": "white",
           "zerolinewidth": 2
          }
         }
        },
        "xaxis": {
         "anchor": "y",
         "domain": [
          0,
          1
         ],
         "title": {
          "text": "index"
         }
        },
        "yaxis": {
         "anchor": "x",
         "domain": [
          0,
          1
         ],
         "title": {
          "text": "value"
         }
        }
       }
      },
      "text/html": [
       "<div>                            <div id=\"c8e73eae-1276-4ff6-a0b7-93666aa994d2\" class=\"plotly-graph-div\" style=\"height:525px; width:100%;\"></div>            <script type=\"text/javascript\">                require([\"plotly\"], function(Plotly) {                    window.PLOTLYENV=window.PLOTLYENV || {};                                    if (document.getElementById(\"c8e73eae-1276-4ff6-a0b7-93666aa994d2\")) {                    Plotly.newPlot(                        \"c8e73eae-1276-4ff6-a0b7-93666aa994d2\",                        [{\"hovertemplate\":\"variable=Suma Total<br>index=%{x}<br>value=%{y}<extra></extra>\",\"legendgroup\":\"Suma Total\",\"marker\":{\"color\":\"#636efa\",\"symbol\":\"circle\"},\"mode\":\"markers\",\"name\":\"Suma Total\",\"orientation\":\"v\",\"showlegend\":true,\"x\":[\"Cobre(g/t)\",\"Vanadio(g/t)\",\"Cromo(g/t)\",\"Cobalto(g/t)\",\"Niquel(g/t)\",\"Zing(g/t)\",\"Rubidio(g/t)\",\"Estroncio(g/t)\",\"Itrio(g/t)\",\"Circonio(g/t)\",\"Niobio(g/t)\",\"Bario(g/t)\",\"Plomo(g/t)\",\"Escandio(g/t)\",\"Cesio(g/t)\",\"Hafnio(g/t)\",\"Tantalo(g/t)\",\"Torio(g/t)\",\"Uranio(g/t)\",\"Ars\\u00e9nico(g/t)\",\"Molibdeno(g/t)\",\"Antimonio(g/t)\",\"Esta\\u00f1o(g/t)\",\"Plata(g/t)\",\"Cadmio(g/t)\",\"Bismuto(g/t)\",\"Volframio(g/t)\",\"Az\\u00fafre Total(%)\",\"\\u00d3xido_Silicio(%)\",\"\\u00d3xido_Aluminio(%)\",\"Di\\u00f3xido_Titanio(%)\",\"\\u00d3xido_Hierro(%)\",\"\\u00d3xido_Calcio(%)\",\"\\u00d3xido_Magnesio(%)\",\"\\u00d3xido_Manganeso(%)\",\"\\u00d3xido_Sodio(%)\",\"\\u00d3xido_Potasio(%)\",\"F\\u00f3sforo(%)\",\"Clorocromato_Piridinio(%)\",\"\\u00d3xido_Az\\u00fafre(%)\",\"Lantano(g/t)\",\"Cerio(g/t)\",\"Praseodimio(g/t)\",\"Neodimio(g/t)\",\"Samario(g/t)\",\"Europio(g/t)\",\"Gadolinio(g/t)\",\"Terbio(g/t)\",\"Disprosio(g/t)\",\"Holmio(g/t)\",\"Erbio(g/t)\",\"Tulio(g/t)\",\"Iterbio(g/t)\",\"Lutecio(g/t)\",\"Oro(g/t)\",\"Mercurio(g/t)\"],\"xaxis\":\"x\",\"y\":[4198317.0,287994.0,315374.0,50681.0,78945.0,2715771.0,136271.0,381347.0,69091.0,445295.0,19224.0,3952871.0,1229732.0,35612.0,8151.42,7526.54,4098.349999999999,8216.630000000001,3736.4900000000002,2038558.272,52933.86,145050.95,75991.34999999999,23756.89,9613.300000000001,27959.23,36125.56,1253.26,108224.17,26560.010000000002,1051.41,23125.66,11813.52,6030.199999999999,566.78,4321.83,4667.84,499.06000000000006,13631.65,565.0400000000001,39265.630000000005,67000.91,8396.880000000001,33746.67,7046.78,2051.73,6622.07,914.73,5241.45,1045.84,3035.96,431.20000000000005,2781.29,415.04,51.35,3013.58],\"yaxis\":\"y\",\"type\":\"scatter\"}],                        {\"template\":{\"data\":{\"bar\":[{\"error_x\":{\"color\":\"#2a3f5f\"},\"error_y\":{\"color\":\"#2a3f5f\"},\"marker\":{\"line\":{\"color\":\"#E5ECF6\",\"width\":0.5},\"pattern\":{\"fillmode\":\"overlay\",\"size\":10,\"solidity\":0.2}},\"type\":\"bar\"}],\"barpolar\":[{\"marker\":{\"line\":{\"color\":\"#E5ECF6\",\"width\":0.5},\"pattern\":{\"fillmode\":\"overlay\",\"size\":10,\"solidity\":0.2}},\"type\":\"barpolar\"}],\"carpet\":[{\"aaxis\":{\"endlinecolor\":\"#2a3f5f\",\"gridcolor\":\"white\",\"linecolor\":\"white\",\"minorgridcolor\":\"white\",\"startlinecolor\":\"#2a3f5f\"},\"baxis\":{\"endlinecolor\":\"#2a3f5f\",\"gridcolor\":\"white\",\"linecolor\":\"white\",\"minorgridcolor\":\"white\",\"startlinecolor\":\"#2a3f5f\"},\"type\":\"carpet\"}],\"choropleth\":[{\"colorbar\":{\"outlinewidth\":0,\"ticks\":\"\"},\"type\":\"choropleth\"}],\"contour\":[{\"colorbar\":{\"outlinewidth\":0,\"ticks\":\"\"},\"colorscale\":[[0.0,\"#0d0887\"],[0.1111111111111111,\"#46039f\"],[0.2222222222222222,\"#7201a8\"],[0.3333333333333333,\"#9c179e\"],[0.4444444444444444,\"#bd3786\"],[0.5555555555555556,\"#d8576b\"],[0.6666666666666666,\"#ed7953\"],[0.7777777777777778,\"#fb9f3a\"],[0.8888888888888888,\"#fdca26\"],[1.0,\"#f0f921\"]],\"type\":\"contour\"}],\"contourcarpet\":[{\"colorbar\":{\"outlinewidth\":0,\"ticks\":\"\"},\"type\":\"contourcarpet\"}],\"heatmap\":[{\"colorbar\":{\"outlinewidth\":0,\"ticks\":\"\"},\"colorscale\":[[0.0,\"#0d0887\"],[0.1111111111111111,\"#46039f\"],[0.2222222222222222,\"#7201a8\"],[0.3333333333333333,\"#9c179e\"],[0.4444444444444444,\"#bd3786\"],[0.5555555555555556,\"#d8576b\"],[0.6666666666666666,\"#ed7953\"],[0.7777777777777778,\"#fb9f3a\"],[0.8888888888888888,\"#fdca26\"],[1.0,\"#f0f921\"]],\"type\":\"heatmap\"}],\"heatmapgl\":[{\"colorbar\":{\"outlinewidth\":0,\"ticks\":\"\"},\"colorscale\":[[0.0,\"#0d0887\"],[0.1111111111111111,\"#46039f\"],[0.2222222222222222,\"#7201a8\"],[0.3333333333333333,\"#9c179e\"],[0.4444444444444444,\"#bd3786\"],[0.5555555555555556,\"#d8576b\"],[0.6666666666666666,\"#ed7953\"],[0.7777777777777778,\"#fb9f3a\"],[0.8888888888888888,\"#fdca26\"],[1.0,\"#f0f921\"]],\"type\":\"heatmapgl\"}],\"histogram\":[{\"marker\":{\"pattern\":{\"fillmode\":\"overlay\",\"size\":10,\"solidity\":0.2}},\"type\":\"histogram\"}],\"histogram2d\":[{\"colorbar\":{\"outlinewidth\":0,\"ticks\":\"\"},\"colorscale\":[[0.0,\"#0d0887\"],[0.1111111111111111,\"#46039f\"],[0.2222222222222222,\"#7201a8\"],[0.3333333333333333,\"#9c179e\"],[0.4444444444444444,\"#bd3786\"],[0.5555555555555556,\"#d8576b\"],[0.6666666666666666,\"#ed7953\"],[0.7777777777777778,\"#fb9f3a\"],[0.8888888888888888,\"#fdca26\"],[1.0,\"#f0f921\"]],\"type\":\"histogram2d\"}],\"histogram2dcontour\":[{\"colorbar\":{\"outlinewidth\":0,\"ticks\":\"\"},\"colorscale\":[[0.0,\"#0d0887\"],[0.1111111111111111,\"#46039f\"],[0.2222222222222222,\"#7201a8\"],[0.3333333333333333,\"#9c179e\"],[0.4444444444444444,\"#bd3786\"],[0.5555555555555556,\"#d8576b\"],[0.6666666666666666,\"#ed7953\"],[0.7777777777777778,\"#fb9f3a\"],[0.8888888888888888,\"#fdca26\"],[1.0,\"#f0f921\"]],\"type\":\"histogram2dcontour\"}],\"mesh3d\":[{\"colorbar\":{\"outlinewidth\":0,\"ticks\":\"\"},\"type\":\"mesh3d\"}],\"parcoords\":[{\"line\":{\"colorbar\":{\"outlinewidth\":0,\"ticks\":\"\"}},\"type\":\"parcoords\"}],\"pie\":[{\"automargin\":true,\"type\":\"pie\"}],\"scatter\":[{\"marker\":{\"colorbar\":{\"outlinewidth\":0,\"ticks\":\"\"}},\"type\":\"scatter\"}],\"scatter3d\":[{\"line\":{\"colorbar\":{\"outlinewidth\":0,\"ticks\":\"\"}},\"marker\":{\"colorbar\":{\"outlinewidth\":0,\"ticks\":\"\"}},\"type\":\"scatter3d\"}],\"scattercarpet\":[{\"marker\":{\"colorbar\":{\"outlinewidth\":0,\"ticks\":\"\"}},\"type\":\"scattercarpet\"}],\"scattergeo\":[{\"marker\":{\"colorbar\":{\"outlinewidth\":0,\"ticks\":\"\"}},\"type\":\"scattergeo\"}],\"scattergl\":[{\"marker\":{\"colorbar\":{\"outlinewidth\":0,\"ticks\":\"\"}},\"type\":\"scattergl\"}],\"scattermapbox\":[{\"marker\":{\"colorbar\":{\"outlinewidth\":0,\"ticks\":\"\"}},\"type\":\"scattermapbox\"}],\"scatterpolar\":[{\"marker\":{\"colorbar\":{\"outlinewidth\":0,\"ticks\":\"\"}},\"type\":\"scatterpolar\"}],\"scatterpolargl\":[{\"marker\":{\"colorbar\":{\"outlinewidth\":0,\"ticks\":\"\"}},\"type\":\"scatterpolargl\"}],\"scatterternary\":[{\"marker\":{\"colorbar\":{\"outlinewidth\":0,\"ticks\":\"\"}},\"type\":\"scatterternary\"}],\"surface\":[{\"colorbar\":{\"outlinewidth\":0,\"ticks\":\"\"},\"colorscale\":[[0.0,\"#0d0887\"],[0.1111111111111111,\"#46039f\"],[0.2222222222222222,\"#7201a8\"],[0.3333333333333333,\"#9c179e\"],[0.4444444444444444,\"#bd3786\"],[0.5555555555555556,\"#d8576b\"],[0.6666666666666666,\"#ed7953\"],[0.7777777777777778,\"#fb9f3a\"],[0.8888888888888888,\"#fdca26\"],[1.0,\"#f0f921\"]],\"type\":\"surface\"}],\"table\":[{\"cells\":{\"fill\":{\"color\":\"#EBF0F8\"},\"line\":{\"color\":\"white\"}},\"header\":{\"fill\":{\"color\":\"#C8D4E3\"},\"line\":{\"color\":\"white\"}},\"type\":\"table\"}]},\"layout\":{\"annotationdefaults\":{\"arrowcolor\":\"#2a3f5f\",\"arrowhead\":0,\"arrowwidth\":1},\"autotypenumbers\":\"strict\",\"coloraxis\":{\"colorbar\":{\"outlinewidth\":0,\"ticks\":\"\"}},\"colorscale\":{\"diverging\":[[0,\"#8e0152\"],[0.1,\"#c51b7d\"],[0.2,\"#de77ae\"],[0.3,\"#f1b6da\"],[0.4,\"#fde0ef\"],[0.5,\"#f7f7f7\"],[0.6,\"#e6f5d0\"],[0.7,\"#b8e186\"],[0.8,\"#7fbc41\"],[0.9,\"#4d9221\"],[1,\"#276419\"]],\"sequential\":[[0.0,\"#0d0887\"],[0.1111111111111111,\"#46039f\"],[0.2222222222222222,\"#7201a8\"],[0.3333333333333333,\"#9c179e\"],[0.4444444444444444,\"#bd3786\"],[0.5555555555555556,\"#d8576b\"],[0.6666666666666666,\"#ed7953\"],[0.7777777777777778,\"#fb9f3a\"],[0.8888888888888888,\"#fdca26\"],[1.0,\"#f0f921\"]],\"sequentialminus\":[[0.0,\"#0d0887\"],[0.1111111111111111,\"#46039f\"],[0.2222222222222222,\"#7201a8\"],[0.3333333333333333,\"#9c179e\"],[0.4444444444444444,\"#bd3786\"],[0.5555555555555556,\"#d8576b\"],[0.6666666666666666,\"#ed7953\"],[0.7777777777777778,\"#fb9f3a\"],[0.8888888888888888,\"#fdca26\"],[1.0,\"#f0f921\"]]},\"colorway\":[\"#636efa\",\"#EF553B\",\"#00cc96\",\"#ab63fa\",\"#FFA15A\",\"#19d3f3\",\"#FF6692\",\"#B6E880\",\"#FF97FF\",\"#FECB52\"],\"font\":{\"color\":\"#2a3f5f\"},\"geo\":{\"bgcolor\":\"white\",\"lakecolor\":\"white\",\"landcolor\":\"#E5ECF6\",\"showlakes\":true,\"showland\":true,\"subunitcolor\":\"white\"},\"hoverlabel\":{\"align\":\"left\"},\"hovermode\":\"closest\",\"mapbox\":{\"style\":\"light\"},\"paper_bgcolor\":\"white\",\"plot_bgcolor\":\"#E5ECF6\",\"polar\":{\"angularaxis\":{\"gridcolor\":\"white\",\"linecolor\":\"white\",\"ticks\":\"\"},\"bgcolor\":\"#E5ECF6\",\"radialaxis\":{\"gridcolor\":\"white\",\"linecolor\":\"white\",\"ticks\":\"\"}},\"scene\":{\"xaxis\":{\"backgroundcolor\":\"#E5ECF6\",\"gridcolor\":\"white\",\"gridwidth\":2,\"linecolor\":\"white\",\"showbackground\":true,\"ticks\":\"\",\"zerolinecolor\":\"white\"},\"yaxis\":{\"backgroundcolor\":\"#E5ECF6\",\"gridcolor\":\"white\",\"gridwidth\":2,\"linecolor\":\"white\",\"showbackground\":true,\"ticks\":\"\",\"zerolinecolor\":\"white\"},\"zaxis\":{\"backgroundcolor\":\"#E5ECF6\",\"gridcolor\":\"white\",\"gridwidth\":2,\"linecolor\":\"white\",\"showbackground\":true,\"ticks\":\"\",\"zerolinecolor\":\"white\"}},\"shapedefaults\":{\"line\":{\"color\":\"#2a3f5f\"}},\"ternary\":{\"aaxis\":{\"gridcolor\":\"white\",\"linecolor\":\"white\",\"ticks\":\"\"},\"baxis\":{\"gridcolor\":\"white\",\"linecolor\":\"white\",\"ticks\":\"\"},\"bgcolor\":\"#E5ECF6\",\"caxis\":{\"gridcolor\":\"white\",\"linecolor\":\"white\",\"ticks\":\"\"}},\"title\":{\"x\":0.05},\"xaxis\":{\"automargin\":true,\"gridcolor\":\"white\",\"linecolor\":\"white\",\"ticks\":\"\",\"title\":{\"standoff\":15},\"zerolinecolor\":\"white\",\"zerolinewidth\":2},\"yaxis\":{\"automargin\":true,\"gridcolor\":\"white\",\"linecolor\":\"white\",\"ticks\":\"\",\"title\":{\"standoff\":15},\"zerolinecolor\":\"white\",\"zerolinewidth\":2}}},\"xaxis\":{\"anchor\":\"y\",\"domain\":[0.0,1.0],\"title\":{\"text\":\"index\"}},\"yaxis\":{\"anchor\":\"x\",\"domain\":[0.0,1.0],\"title\":{\"text\":\"value\"}},\"legend\":{\"title\":{\"text\":\"variable\"},\"tracegroupgap\":0},\"margin\":{\"t\":60}},                        {\"responsive\": true}                    ).then(function(){\n",
       "                            \n",
       "var gd = document.getElementById('c8e73eae-1276-4ff6-a0b7-93666aa994d2');\n",
       "var x = new MutationObserver(function (mutations, observer) {{\n",
       "        var display = window.getComputedStyle(gd).display;\n",
       "        if (!display || display === 'none') {{\n",
       "            console.log([gd, 'removed!']);\n",
       "            Plotly.purge(gd);\n",
       "            observer.disconnect();\n",
       "        }}\n",
       "}});\n",
       "\n",
       "// Listen for the removal of the full notebook cells\n",
       "var notebookContainer = gd.closest('#notebook-container');\n",
       "if (notebookContainer) {{\n",
       "    x.observe(notebookContainer, {childList: true});\n",
       "}}\n",
       "\n",
       "// Listen for the clearing of the current output cell\n",
       "var outputEl = gd.closest('.output');\n",
       "if (outputEl) {{\n",
       "    x.observe(outputEl, {childList: true});\n",
       "}}\n",
       "\n",
       "                        })                };                });            </script>        </div>"
      ]
     },
     "metadata": {},
     "output_type": "display_data"
    }
   ],
   "source": [
    "fig = px.scatter(dfsum)\n",
    "fig.show()"
   ]
  },
  {
   "cell_type": "code",
   "execution_count": 18,
   "id": "0b8a92f8",
   "metadata": {},
   "outputs": [
    {
     "data": {
      "text/html": [
       "<div>\n",
       "<style scoped>\n",
       "    .dataframe tbody tr th:only-of-type {\n",
       "        vertical-align: middle;\n",
       "    }\n",
       "\n",
       "    .dataframe tbody tr th {\n",
       "        vertical-align: top;\n",
       "    }\n",
       "\n",
       "    .dataframe thead th {\n",
       "        text-align: right;\n",
       "    }\n",
       "</style>\n",
       "<table border=\"1\" class=\"dataframe\">\n",
       "  <thead>\n",
       "    <tr style=\"text-align: right;\">\n",
       "      <th></th>\n",
       "      <th>Mean Total</th>\n",
       "    </tr>\n",
       "  </thead>\n",
       "  <tbody>\n",
       "    <tr>\n",
       "      <th>Cobre(g/t)</th>\n",
       "      <td>2066.100886</td>\n",
       "    </tr>\n",
       "    <tr>\n",
       "      <th>Vanadio(g/t)</th>\n",
       "      <td>141.729331</td>\n",
       "    </tr>\n",
       "    <tr>\n",
       "      <th>Cromo(g/t)</th>\n",
       "      <td>155.203740</td>\n",
       "    </tr>\n",
       "    <tr>\n",
       "      <th>Cobalto(g/t)</th>\n",
       "      <td>24.941437</td>\n",
       "    </tr>\n",
       "    <tr>\n",
       "      <th>Niquel(g/t)</th>\n",
       "      <td>38.850886</td>\n",
       "    </tr>\n",
       "    <tr>\n",
       "      <th>Zing(g/t)</th>\n",
       "      <td>1336.501476</td>\n",
       "    </tr>\n",
       "    <tr>\n",
       "      <th>Rubidio(g/t)</th>\n",
       "      <td>67.062500</td>\n",
       "    </tr>\n",
       "    <tr>\n",
       "      <th>Estroncio(g/t)</th>\n",
       "      <td>187.670768</td>\n",
       "    </tr>\n",
       "    <tr>\n",
       "      <th>Itrio(g/t)</th>\n",
       "      <td>34.001476</td>\n",
       "    </tr>\n",
       "    <tr>\n",
       "      <th>Circonio(g/t)</th>\n",
       "      <td>219.141240</td>\n",
       "    </tr>\n",
       "    <tr>\n",
       "      <th>Niobio(g/t)</th>\n",
       "      <td>9.460630</td>\n",
       "    </tr>\n",
       "    <tr>\n",
       "      <th>Bario(g/t)</th>\n",
       "      <td>1945.310531</td>\n",
       "    </tr>\n",
       "    <tr>\n",
       "      <th>Plomo(g/t)</th>\n",
       "      <td>605.183071</td>\n",
       "    </tr>\n",
       "    <tr>\n",
       "      <th>Escandio(g/t)</th>\n",
       "      <td>17.525591</td>\n",
       "    </tr>\n",
       "    <tr>\n",
       "      <th>Cesio(g/t)</th>\n",
       "      <td>4.011526</td>\n",
       "    </tr>\n",
       "    <tr>\n",
       "      <th>Hafnio(g/t)</th>\n",
       "      <td>3.704006</td>\n",
       "    </tr>\n",
       "    <tr>\n",
       "      <th>Tantalo(g/t)</th>\n",
       "      <td>2.016905</td>\n",
       "    </tr>\n",
       "    <tr>\n",
       "      <th>Torio(g/t)</th>\n",
       "      <td>4.043617</td>\n",
       "    </tr>\n",
       "    <tr>\n",
       "      <th>Uranio(g/t)</th>\n",
       "      <td>1.838824</td>\n",
       "    </tr>\n",
       "    <tr>\n",
       "      <th>Arsénico(g/t)</th>\n",
       "      <td>1003.227496</td>\n",
       "    </tr>\n",
       "    <tr>\n",
       "      <th>Molibdeno(g/t)</th>\n",
       "      <td>26.050128</td>\n",
       "    </tr>\n",
       "    <tr>\n",
       "      <th>Antimonio(g/t)</th>\n",
       "      <td>71.383342</td>\n",
       "    </tr>\n",
       "    <tr>\n",
       "      <th>Estaño(g/t)</th>\n",
       "      <td>37.397318</td>\n",
       "    </tr>\n",
       "    <tr>\n",
       "      <th>Plata(g/t)</th>\n",
       "      <td>11.691383</td>\n",
       "    </tr>\n",
       "    <tr>\n",
       "      <th>Cadmio(g/t)</th>\n",
       "      <td>4.730955</td>\n",
       "    </tr>\n",
       "    <tr>\n",
       "      <th>Bismuto(g/t)</th>\n",
       "      <td>13.759464</td>\n",
       "    </tr>\n",
       "    <tr>\n",
       "      <th>Volframio(g/t)</th>\n",
       "      <td>17.778327</td>\n",
       "    </tr>\n",
       "    <tr>\n",
       "      <th>Azúfre Total(%)</th>\n",
       "      <td>0.616762</td>\n",
       "    </tr>\n",
       "    <tr>\n",
       "      <th>Óxido_Silicio(%)</th>\n",
       "      <td>53.259926</td>\n",
       "    </tr>\n",
       "    <tr>\n",
       "      <th>Óxido_Aluminio(%)</th>\n",
       "      <td>13.070871</td>\n",
       "    </tr>\n",
       "    <tr>\n",
       "      <th>Dióxido_Titanio(%)</th>\n",
       "      <td>0.517426</td>\n",
       "    </tr>\n",
       "    <tr>\n",
       "      <th>Óxido_Hierro(%)</th>\n",
       "      <td>11.380738</td>\n",
       "    </tr>\n",
       "    <tr>\n",
       "      <th>Óxido_Calcio(%)</th>\n",
       "      <td>5.813740</td>\n",
       "    </tr>\n",
       "    <tr>\n",
       "      <th>Óxido_Magnesio(%)</th>\n",
       "      <td>2.967618</td>\n",
       "    </tr>\n",
       "    <tr>\n",
       "      <th>Óxido_Manganeso(%)</th>\n",
       "      <td>0.278927</td>\n",
       "    </tr>\n",
       "    <tr>\n",
       "      <th>Óxido_Sodio(%)</th>\n",
       "      <td>2.126885</td>\n",
       "    </tr>\n",
       "    <tr>\n",
       "      <th>Óxido_Potasio(%)</th>\n",
       "      <td>2.297165</td>\n",
       "    </tr>\n",
       "    <tr>\n",
       "      <th>Fósforo(%)</th>\n",
       "      <td>0.245600</td>\n",
       "    </tr>\n",
       "    <tr>\n",
       "      <th>Clorocromato_Piridinio(%)</th>\n",
       "      <td>6.708489</td>\n",
       "    </tr>\n",
       "    <tr>\n",
       "      <th>Óxido_Azúfre(%)</th>\n",
       "      <td>0.278071</td>\n",
       "    </tr>\n",
       "    <tr>\n",
       "      <th>Lantano(g/t)</th>\n",
       "      <td>19.323637</td>\n",
       "    </tr>\n",
       "    <tr>\n",
       "      <th>Cerio(g/t)</th>\n",
       "      <td>32.972889</td>\n",
       "    </tr>\n",
       "    <tr>\n",
       "      <th>Praseodimio(g/t)</th>\n",
       "      <td>4.132323</td>\n",
       "    </tr>\n",
       "    <tr>\n",
       "      <th>Neodimio(g/t)</th>\n",
       "      <td>16.607613</td>\n",
       "    </tr>\n",
       "    <tr>\n",
       "      <th>Samario(g/t)</th>\n",
       "      <td>3.467904</td>\n",
       "    </tr>\n",
       "    <tr>\n",
       "      <th>Europio(g/t)</th>\n",
       "      <td>1.009710</td>\n",
       "    </tr>\n",
       "    <tr>\n",
       "      <th>Gadolinio(g/t)</th>\n",
       "      <td>3.258893</td>\n",
       "    </tr>\n",
       "    <tr>\n",
       "      <th>Terbio(g/t)</th>\n",
       "      <td>0.450162</td>\n",
       "    </tr>\n",
       "    <tr>\n",
       "      <th>Disprosio(g/t)</th>\n",
       "      <td>2.579454</td>\n",
       "    </tr>\n",
       "    <tr>\n",
       "      <th>Holmio(g/t)</th>\n",
       "      <td>0.514685</td>\n",
       "    </tr>\n",
       "    <tr>\n",
       "      <th>Erbio(g/t)</th>\n",
       "      <td>1.494075</td>\n",
       "    </tr>\n",
       "    <tr>\n",
       "      <th>Tulio(g/t)</th>\n",
       "      <td>0.212205</td>\n",
       "    </tr>\n",
       "    <tr>\n",
       "      <th>Iterbio(g/t)</th>\n",
       "      <td>1.368745</td>\n",
       "    </tr>\n",
       "    <tr>\n",
       "      <th>Lutecio(g/t)</th>\n",
       "      <td>0.204252</td>\n",
       "    </tr>\n",
       "    <tr>\n",
       "      <th>Oro(g/t)</th>\n",
       "      <td>0.025271</td>\n",
       "    </tr>\n",
       "    <tr>\n",
       "      <th>Mercurio(g/t)</th>\n",
       "      <td>1.483061</td>\n",
       "    </tr>\n",
       "  </tbody>\n",
       "</table>\n",
       "</div>"
      ],
      "text/plain": [
       "                            Mean Total\n",
       "Cobre(g/t)                 2066.100886\n",
       "Vanadio(g/t)                141.729331\n",
       "Cromo(g/t)                  155.203740\n",
       "Cobalto(g/t)                 24.941437\n",
       "Niquel(g/t)                  38.850886\n",
       "Zing(g/t)                  1336.501476\n",
       "Rubidio(g/t)                 67.062500\n",
       "Estroncio(g/t)              187.670768\n",
       "Itrio(g/t)                   34.001476\n",
       "Circonio(g/t)               219.141240\n",
       "Niobio(g/t)                   9.460630\n",
       "Bario(g/t)                 1945.310531\n",
       "Plomo(g/t)                  605.183071\n",
       "Escandio(g/t)                17.525591\n",
       "Cesio(g/t)                    4.011526\n",
       "Hafnio(g/t)                   3.704006\n",
       "Tantalo(g/t)                  2.016905\n",
       "Torio(g/t)                    4.043617\n",
       "Uranio(g/t)                   1.838824\n",
       "Arsénico(g/t)              1003.227496\n",
       "Molibdeno(g/t)               26.050128\n",
       "Antimonio(g/t)               71.383342\n",
       "Estaño(g/t)                  37.397318\n",
       "Plata(g/t)                   11.691383\n",
       "Cadmio(g/t)                   4.730955\n",
       "Bismuto(g/t)                 13.759464\n",
       "Volframio(g/t)               17.778327\n",
       "Azúfre Total(%)               0.616762\n",
       "Óxido_Silicio(%)             53.259926\n",
       "Óxido_Aluminio(%)            13.070871\n",
       "Dióxido_Titanio(%)            0.517426\n",
       "Óxido_Hierro(%)              11.380738\n",
       "Óxido_Calcio(%)               5.813740\n",
       "Óxido_Magnesio(%)             2.967618\n",
       "Óxido_Manganeso(%)            0.278927\n",
       "Óxido_Sodio(%)                2.126885\n",
       "Óxido_Potasio(%)              2.297165\n",
       "Fósforo(%)                    0.245600\n",
       "Clorocromato_Piridinio(%)     6.708489\n",
       "Óxido_Azúfre(%)               0.278071\n",
       "Lantano(g/t)                 19.323637\n",
       "Cerio(g/t)                   32.972889\n",
       "Praseodimio(g/t)              4.132323\n",
       "Neodimio(g/t)                16.607613\n",
       "Samario(g/t)                  3.467904\n",
       "Europio(g/t)                  1.009710\n",
       "Gadolinio(g/t)                3.258893\n",
       "Terbio(g/t)                   0.450162\n",
       "Disprosio(g/t)                2.579454\n",
       "Holmio(g/t)                   0.514685\n",
       "Erbio(g/t)                    1.494075\n",
       "Tulio(g/t)                    0.212205\n",
       "Iterbio(g/t)                  1.368745\n",
       "Lutecio(g/t)                  0.204252\n",
       "Oro(g/t)                      0.025271\n",
       "Mercurio(g/t)                 1.483061"
      ]
     },
     "execution_count": 18,
     "metadata": {},
     "output_type": "execute_result"
    }
   ],
   "source": [
    "dfmean=df.mean()\n",
    "dfmean=dfmean.to_frame(name='Mean Total')\n",
    "dfmean"
   ]
  },
  {
   "cell_type": "code",
   "execution_count": 19,
   "id": "6dad19e2",
   "metadata": {},
   "outputs": [
    {
     "data": {
      "application/vnd.plotly.v1+json": {
       "config": {
        "plotlyServerURL": "https://plot.ly"
       },
       "data": [
        {
         "hovertemplate": "variable=Mean Total<br>index=%{x}<br>value=%{y}<extra></extra>",
         "legendgroup": "Mean Total",
         "marker": {
          "color": "#636efa",
          "symbol": "circle"
         },
         "mode": "markers",
         "name": "Mean Total",
         "orientation": "v",
         "showlegend": true,
         "type": "scatter",
         "x": [
          "Cobre(g/t)",
          "Vanadio(g/t)",
          "Cromo(g/t)",
          "Cobalto(g/t)",
          "Niquel(g/t)",
          "Zing(g/t)",
          "Rubidio(g/t)",
          "Estroncio(g/t)",
          "Itrio(g/t)",
          "Circonio(g/t)",
          "Niobio(g/t)",
          "Bario(g/t)",
          "Plomo(g/t)",
          "Escandio(g/t)",
          "Cesio(g/t)",
          "Hafnio(g/t)",
          "Tantalo(g/t)",
          "Torio(g/t)",
          "Uranio(g/t)",
          "Arsénico(g/t)",
          "Molibdeno(g/t)",
          "Antimonio(g/t)",
          "Estaño(g/t)",
          "Plata(g/t)",
          "Cadmio(g/t)",
          "Bismuto(g/t)",
          "Volframio(g/t)",
          "Azúfre Total(%)",
          "Óxido_Silicio(%)",
          "Óxido_Aluminio(%)",
          "Dióxido_Titanio(%)",
          "Óxido_Hierro(%)",
          "Óxido_Calcio(%)",
          "Óxido_Magnesio(%)",
          "Óxido_Manganeso(%)",
          "Óxido_Sodio(%)",
          "Óxido_Potasio(%)",
          "Fósforo(%)",
          "Clorocromato_Piridinio(%)",
          "Óxido_Azúfre(%)",
          "Lantano(g/t)",
          "Cerio(g/t)",
          "Praseodimio(g/t)",
          "Neodimio(g/t)",
          "Samario(g/t)",
          "Europio(g/t)",
          "Gadolinio(g/t)",
          "Terbio(g/t)",
          "Disprosio(g/t)",
          "Holmio(g/t)",
          "Erbio(g/t)",
          "Tulio(g/t)",
          "Iterbio(g/t)",
          "Lutecio(g/t)",
          "Oro(g/t)",
          "Mercurio(g/t)"
         ],
         "xaxis": "x",
         "y": [
          2066.1008858267714,
          141.72933070866142,
          155.20374015748033,
          24.941437007874015,
          38.85088582677165,
          1336.5014763779527,
          67.0625,
          187.67076771653544,
          34.001476377952756,
          219.14124015748033,
          9.460629921259843,
          1945.310531496063,
          605.1830708661417,
          17.525590551181104,
          4.011525590551176,
          3.7040059055118073,
          2.0169045275590567,
          4.043617125984245,
          1.8388238188976367,
          1003.2274960629917,
          26.050127952755897,
          71.38334153543309,
          37.39731791338583,
          11.691382874015737,
          4.730954724409445,
          13.759463582677165,
          17.778326771653546,
          0.6167618110236189,
          53.259926181102315,
          13.070871062992149,
          0.5174261811023624,
          11.380738188976375,
          5.813740157480316,
          2.9676181102362182,
          0.2789271653543309,
          2.126884842519687,
          2.2971653543307053,
          0.24560039370078757,
          6.7084891732283385,
          0.2780708661417282,
          19.32363681102361,
          32.97288877952756,
          4.13232283464566,
          16.607613188976377,
          3.4679035433070817,
          1.0097096456692924,
          3.2588927165354327,
          0.45016240157480397,
          2.579453740157475,
          0.5146850393700787,
          1.494074803149603,
          0.21220472440944835,
          1.3687450787401556,
          0.20425196850393693,
          0.02527066929133954,
          1.4830610236220672
         ],
         "yaxis": "y"
        }
       ],
       "layout": {
        "legend": {
         "title": {
          "text": "variable"
         },
         "tracegroupgap": 0
        },
        "margin": {
         "t": 60
        },
        "template": {
         "data": {
          "bar": [
           {
            "error_x": {
             "color": "#2a3f5f"
            },
            "error_y": {
             "color": "#2a3f5f"
            },
            "marker": {
             "line": {
              "color": "#E5ECF6",
              "width": 0.5
             },
             "pattern": {
              "fillmode": "overlay",
              "size": 10,
              "solidity": 0.2
             }
            },
            "type": "bar"
           }
          ],
          "barpolar": [
           {
            "marker": {
             "line": {
              "color": "#E5ECF6",
              "width": 0.5
             },
             "pattern": {
              "fillmode": "overlay",
              "size": 10,
              "solidity": 0.2
             }
            },
            "type": "barpolar"
           }
          ],
          "carpet": [
           {
            "aaxis": {
             "endlinecolor": "#2a3f5f",
             "gridcolor": "white",
             "linecolor": "white",
             "minorgridcolor": "white",
             "startlinecolor": "#2a3f5f"
            },
            "baxis": {
             "endlinecolor": "#2a3f5f",
             "gridcolor": "white",
             "linecolor": "white",
             "minorgridcolor": "white",
             "startlinecolor": "#2a3f5f"
            },
            "type": "carpet"
           }
          ],
          "choropleth": [
           {
            "colorbar": {
             "outlinewidth": 0,
             "ticks": ""
            },
            "type": "choropleth"
           }
          ],
          "contour": [
           {
            "colorbar": {
             "outlinewidth": 0,
             "ticks": ""
            },
            "colorscale": [
             [
              0,
              "#0d0887"
             ],
             [
              0.1111111111111111,
              "#46039f"
             ],
             [
              0.2222222222222222,
              "#7201a8"
             ],
             [
              0.3333333333333333,
              "#9c179e"
             ],
             [
              0.4444444444444444,
              "#bd3786"
             ],
             [
              0.5555555555555556,
              "#d8576b"
             ],
             [
              0.6666666666666666,
              "#ed7953"
             ],
             [
              0.7777777777777778,
              "#fb9f3a"
             ],
             [
              0.8888888888888888,
              "#fdca26"
             ],
             [
              1,
              "#f0f921"
             ]
            ],
            "type": "contour"
           }
          ],
          "contourcarpet": [
           {
            "colorbar": {
             "outlinewidth": 0,
             "ticks": ""
            },
            "type": "contourcarpet"
           }
          ],
          "heatmap": [
           {
            "colorbar": {
             "outlinewidth": 0,
             "ticks": ""
            },
            "colorscale": [
             [
              0,
              "#0d0887"
             ],
             [
              0.1111111111111111,
              "#46039f"
             ],
             [
              0.2222222222222222,
              "#7201a8"
             ],
             [
              0.3333333333333333,
              "#9c179e"
             ],
             [
              0.4444444444444444,
              "#bd3786"
             ],
             [
              0.5555555555555556,
              "#d8576b"
             ],
             [
              0.6666666666666666,
              "#ed7953"
             ],
             [
              0.7777777777777778,
              "#fb9f3a"
             ],
             [
              0.8888888888888888,
              "#fdca26"
             ],
             [
              1,
              "#f0f921"
             ]
            ],
            "type": "heatmap"
           }
          ],
          "heatmapgl": [
           {
            "colorbar": {
             "outlinewidth": 0,
             "ticks": ""
            },
            "colorscale": [
             [
              0,
              "#0d0887"
             ],
             [
              0.1111111111111111,
              "#46039f"
             ],
             [
              0.2222222222222222,
              "#7201a8"
             ],
             [
              0.3333333333333333,
              "#9c179e"
             ],
             [
              0.4444444444444444,
              "#bd3786"
             ],
             [
              0.5555555555555556,
              "#d8576b"
             ],
             [
              0.6666666666666666,
              "#ed7953"
             ],
             [
              0.7777777777777778,
              "#fb9f3a"
             ],
             [
              0.8888888888888888,
              "#fdca26"
             ],
             [
              1,
              "#f0f921"
             ]
            ],
            "type": "heatmapgl"
           }
          ],
          "histogram": [
           {
            "marker": {
             "pattern": {
              "fillmode": "overlay",
              "size": 10,
              "solidity": 0.2
             }
            },
            "type": "histogram"
           }
          ],
          "histogram2d": [
           {
            "colorbar": {
             "outlinewidth": 0,
             "ticks": ""
            },
            "colorscale": [
             [
              0,
              "#0d0887"
             ],
             [
              0.1111111111111111,
              "#46039f"
             ],
             [
              0.2222222222222222,
              "#7201a8"
             ],
             [
              0.3333333333333333,
              "#9c179e"
             ],
             [
              0.4444444444444444,
              "#bd3786"
             ],
             [
              0.5555555555555556,
              "#d8576b"
             ],
             [
              0.6666666666666666,
              "#ed7953"
             ],
             [
              0.7777777777777778,
              "#fb9f3a"
             ],
             [
              0.8888888888888888,
              "#fdca26"
             ],
             [
              1,
              "#f0f921"
             ]
            ],
            "type": "histogram2d"
           }
          ],
          "histogram2dcontour": [
           {
            "colorbar": {
             "outlinewidth": 0,
             "ticks": ""
            },
            "colorscale": [
             [
              0,
              "#0d0887"
             ],
             [
              0.1111111111111111,
              "#46039f"
             ],
             [
              0.2222222222222222,
              "#7201a8"
             ],
             [
              0.3333333333333333,
              "#9c179e"
             ],
             [
              0.4444444444444444,
              "#bd3786"
             ],
             [
              0.5555555555555556,
              "#d8576b"
             ],
             [
              0.6666666666666666,
              "#ed7953"
             ],
             [
              0.7777777777777778,
              "#fb9f3a"
             ],
             [
              0.8888888888888888,
              "#fdca26"
             ],
             [
              1,
              "#f0f921"
             ]
            ],
            "type": "histogram2dcontour"
           }
          ],
          "mesh3d": [
           {
            "colorbar": {
             "outlinewidth": 0,
             "ticks": ""
            },
            "type": "mesh3d"
           }
          ],
          "parcoords": [
           {
            "line": {
             "colorbar": {
              "outlinewidth": 0,
              "ticks": ""
             }
            },
            "type": "parcoords"
           }
          ],
          "pie": [
           {
            "automargin": true,
            "type": "pie"
           }
          ],
          "scatter": [
           {
            "marker": {
             "colorbar": {
              "outlinewidth": 0,
              "ticks": ""
             }
            },
            "type": "scatter"
           }
          ],
          "scatter3d": [
           {
            "line": {
             "colorbar": {
              "outlinewidth": 0,
              "ticks": ""
             }
            },
            "marker": {
             "colorbar": {
              "outlinewidth": 0,
              "ticks": ""
             }
            },
            "type": "scatter3d"
           }
          ],
          "scattercarpet": [
           {
            "marker": {
             "colorbar": {
              "outlinewidth": 0,
              "ticks": ""
             }
            },
            "type": "scattercarpet"
           }
          ],
          "scattergeo": [
           {
            "marker": {
             "colorbar": {
              "outlinewidth": 0,
              "ticks": ""
             }
            },
            "type": "scattergeo"
           }
          ],
          "scattergl": [
           {
            "marker": {
             "colorbar": {
              "outlinewidth": 0,
              "ticks": ""
             }
            },
            "type": "scattergl"
           }
          ],
          "scattermapbox": [
           {
            "marker": {
             "colorbar": {
              "outlinewidth": 0,
              "ticks": ""
             }
            },
            "type": "scattermapbox"
           }
          ],
          "scatterpolar": [
           {
            "marker": {
             "colorbar": {
              "outlinewidth": 0,
              "ticks": ""
             }
            },
            "type": "scatterpolar"
           }
          ],
          "scatterpolargl": [
           {
            "marker": {
             "colorbar": {
              "outlinewidth": 0,
              "ticks": ""
             }
            },
            "type": "scatterpolargl"
           }
          ],
          "scatterternary": [
           {
            "marker": {
             "colorbar": {
              "outlinewidth": 0,
              "ticks": ""
             }
            },
            "type": "scatterternary"
           }
          ],
          "surface": [
           {
            "colorbar": {
             "outlinewidth": 0,
             "ticks": ""
            },
            "colorscale": [
             [
              0,
              "#0d0887"
             ],
             [
              0.1111111111111111,
              "#46039f"
             ],
             [
              0.2222222222222222,
              "#7201a8"
             ],
             [
              0.3333333333333333,
              "#9c179e"
             ],
             [
              0.4444444444444444,
              "#bd3786"
             ],
             [
              0.5555555555555556,
              "#d8576b"
             ],
             [
              0.6666666666666666,
              "#ed7953"
             ],
             [
              0.7777777777777778,
              "#fb9f3a"
             ],
             [
              0.8888888888888888,
              "#fdca26"
             ],
             [
              1,
              "#f0f921"
             ]
            ],
            "type": "surface"
           }
          ],
          "table": [
           {
            "cells": {
             "fill": {
              "color": "#EBF0F8"
             },
             "line": {
              "color": "white"
             }
            },
            "header": {
             "fill": {
              "color": "#C8D4E3"
             },
             "line": {
              "color": "white"
             }
            },
            "type": "table"
           }
          ]
         },
         "layout": {
          "annotationdefaults": {
           "arrowcolor": "#2a3f5f",
           "arrowhead": 0,
           "arrowwidth": 1
          },
          "autotypenumbers": "strict",
          "coloraxis": {
           "colorbar": {
            "outlinewidth": 0,
            "ticks": ""
           }
          },
          "colorscale": {
           "diverging": [
            [
             0,
             "#8e0152"
            ],
            [
             0.1,
             "#c51b7d"
            ],
            [
             0.2,
             "#de77ae"
            ],
            [
             0.3,
             "#f1b6da"
            ],
            [
             0.4,
             "#fde0ef"
            ],
            [
             0.5,
             "#f7f7f7"
            ],
            [
             0.6,
             "#e6f5d0"
            ],
            [
             0.7,
             "#b8e186"
            ],
            [
             0.8,
             "#7fbc41"
            ],
            [
             0.9,
             "#4d9221"
            ],
            [
             1,
             "#276419"
            ]
           ],
           "sequential": [
            [
             0,
             "#0d0887"
            ],
            [
             0.1111111111111111,
             "#46039f"
            ],
            [
             0.2222222222222222,
             "#7201a8"
            ],
            [
             0.3333333333333333,
             "#9c179e"
            ],
            [
             0.4444444444444444,
             "#bd3786"
            ],
            [
             0.5555555555555556,
             "#d8576b"
            ],
            [
             0.6666666666666666,
             "#ed7953"
            ],
            [
             0.7777777777777778,
             "#fb9f3a"
            ],
            [
             0.8888888888888888,
             "#fdca26"
            ],
            [
             1,
             "#f0f921"
            ]
           ],
           "sequentialminus": [
            [
             0,
             "#0d0887"
            ],
            [
             0.1111111111111111,
             "#46039f"
            ],
            [
             0.2222222222222222,
             "#7201a8"
            ],
            [
             0.3333333333333333,
             "#9c179e"
            ],
            [
             0.4444444444444444,
             "#bd3786"
            ],
            [
             0.5555555555555556,
             "#d8576b"
            ],
            [
             0.6666666666666666,
             "#ed7953"
            ],
            [
             0.7777777777777778,
             "#fb9f3a"
            ],
            [
             0.8888888888888888,
             "#fdca26"
            ],
            [
             1,
             "#f0f921"
            ]
           ]
          },
          "colorway": [
           "#636efa",
           "#EF553B",
           "#00cc96",
           "#ab63fa",
           "#FFA15A",
           "#19d3f3",
           "#FF6692",
           "#B6E880",
           "#FF97FF",
           "#FECB52"
          ],
          "font": {
           "color": "#2a3f5f"
          },
          "geo": {
           "bgcolor": "white",
           "lakecolor": "white",
           "landcolor": "#E5ECF6",
           "showlakes": true,
           "showland": true,
           "subunitcolor": "white"
          },
          "hoverlabel": {
           "align": "left"
          },
          "hovermode": "closest",
          "mapbox": {
           "style": "light"
          },
          "paper_bgcolor": "white",
          "plot_bgcolor": "#E5ECF6",
          "polar": {
           "angularaxis": {
            "gridcolor": "white",
            "linecolor": "white",
            "ticks": ""
           },
           "bgcolor": "#E5ECF6",
           "radialaxis": {
            "gridcolor": "white",
            "linecolor": "white",
            "ticks": ""
           }
          },
          "scene": {
           "xaxis": {
            "backgroundcolor": "#E5ECF6",
            "gridcolor": "white",
            "gridwidth": 2,
            "linecolor": "white",
            "showbackground": true,
            "ticks": "",
            "zerolinecolor": "white"
           },
           "yaxis": {
            "backgroundcolor": "#E5ECF6",
            "gridcolor": "white",
            "gridwidth": 2,
            "linecolor": "white",
            "showbackground": true,
            "ticks": "",
            "zerolinecolor": "white"
           },
           "zaxis": {
            "backgroundcolor": "#E5ECF6",
            "gridcolor": "white",
            "gridwidth": 2,
            "linecolor": "white",
            "showbackground": true,
            "ticks": "",
            "zerolinecolor": "white"
           }
          },
          "shapedefaults": {
           "line": {
            "color": "#2a3f5f"
           }
          },
          "ternary": {
           "aaxis": {
            "gridcolor": "white",
            "linecolor": "white",
            "ticks": ""
           },
           "baxis": {
            "gridcolor": "white",
            "linecolor": "white",
            "ticks": ""
           },
           "bgcolor": "#E5ECF6",
           "caxis": {
            "gridcolor": "white",
            "linecolor": "white",
            "ticks": ""
           }
          },
          "title": {
           "x": 0.05
          },
          "xaxis": {
           "automargin": true,
           "gridcolor": "white",
           "linecolor": "white",
           "ticks": "",
           "title": {
            "standoff": 15
           },
           "zerolinecolor": "white",
           "zerolinewidth": 2
          },
          "yaxis": {
           "automargin": true,
           "gridcolor": "white",
           "linecolor": "white",
           "ticks": "",
           "title": {
            "standoff": 15
           },
           "zerolinecolor": "white",
           "zerolinewidth": 2
          }
         }
        },
        "xaxis": {
         "anchor": "y",
         "domain": [
          0,
          1
         ],
         "title": {
          "text": "index"
         }
        },
        "yaxis": {
         "anchor": "x",
         "domain": [
          0,
          1
         ],
         "title": {
          "text": "value"
         }
        }
       }
      },
      "text/html": [
       "<div>                            <div id=\"bcfe7617-d11e-4414-91a9-e89873da426e\" class=\"plotly-graph-div\" style=\"height:525px; width:100%;\"></div>            <script type=\"text/javascript\">                require([\"plotly\"], function(Plotly) {                    window.PLOTLYENV=window.PLOTLYENV || {};                                    if (document.getElementById(\"bcfe7617-d11e-4414-91a9-e89873da426e\")) {                    Plotly.newPlot(                        \"bcfe7617-d11e-4414-91a9-e89873da426e\",                        [{\"hovertemplate\":\"variable=Mean Total<br>index=%{x}<br>value=%{y}<extra></extra>\",\"legendgroup\":\"Mean Total\",\"marker\":{\"color\":\"#636efa\",\"symbol\":\"circle\"},\"mode\":\"markers\",\"name\":\"Mean Total\",\"orientation\":\"v\",\"showlegend\":true,\"x\":[\"Cobre(g/t)\",\"Vanadio(g/t)\",\"Cromo(g/t)\",\"Cobalto(g/t)\",\"Niquel(g/t)\",\"Zing(g/t)\",\"Rubidio(g/t)\",\"Estroncio(g/t)\",\"Itrio(g/t)\",\"Circonio(g/t)\",\"Niobio(g/t)\",\"Bario(g/t)\",\"Plomo(g/t)\",\"Escandio(g/t)\",\"Cesio(g/t)\",\"Hafnio(g/t)\",\"Tantalo(g/t)\",\"Torio(g/t)\",\"Uranio(g/t)\",\"Ars\\u00e9nico(g/t)\",\"Molibdeno(g/t)\",\"Antimonio(g/t)\",\"Esta\\u00f1o(g/t)\",\"Plata(g/t)\",\"Cadmio(g/t)\",\"Bismuto(g/t)\",\"Volframio(g/t)\",\"Az\\u00fafre Total(%)\",\"\\u00d3xido_Silicio(%)\",\"\\u00d3xido_Aluminio(%)\",\"Di\\u00f3xido_Titanio(%)\",\"\\u00d3xido_Hierro(%)\",\"\\u00d3xido_Calcio(%)\",\"\\u00d3xido_Magnesio(%)\",\"\\u00d3xido_Manganeso(%)\",\"\\u00d3xido_Sodio(%)\",\"\\u00d3xido_Potasio(%)\",\"F\\u00f3sforo(%)\",\"Clorocromato_Piridinio(%)\",\"\\u00d3xido_Az\\u00fafre(%)\",\"Lantano(g/t)\",\"Cerio(g/t)\",\"Praseodimio(g/t)\",\"Neodimio(g/t)\",\"Samario(g/t)\",\"Europio(g/t)\",\"Gadolinio(g/t)\",\"Terbio(g/t)\",\"Disprosio(g/t)\",\"Holmio(g/t)\",\"Erbio(g/t)\",\"Tulio(g/t)\",\"Iterbio(g/t)\",\"Lutecio(g/t)\",\"Oro(g/t)\",\"Mercurio(g/t)\"],\"xaxis\":\"x\",\"y\":[2066.1008858267714,141.72933070866142,155.20374015748033,24.941437007874015,38.85088582677165,1336.5014763779527,67.0625,187.67076771653544,34.001476377952756,219.14124015748033,9.460629921259843,1945.310531496063,605.1830708661417,17.525590551181104,4.011525590551176,3.7040059055118073,2.0169045275590567,4.043617125984245,1.8388238188976367,1003.2274960629917,26.050127952755897,71.38334153543309,37.39731791338583,11.691382874015737,4.730954724409445,13.759463582677165,17.778326771653546,0.6167618110236189,53.259926181102315,13.070871062992149,0.5174261811023624,11.380738188976375,5.813740157480316,2.9676181102362182,0.2789271653543309,2.126884842519687,2.2971653543307053,0.24560039370078757,6.7084891732283385,0.2780708661417282,19.32363681102361,32.97288877952756,4.13232283464566,16.607613188976377,3.4679035433070817,1.0097096456692924,3.2588927165354327,0.45016240157480397,2.579453740157475,0.5146850393700787,1.494074803149603,0.21220472440944835,1.3687450787401556,0.20425196850393693,0.02527066929133954,1.4830610236220672],\"yaxis\":\"y\",\"type\":\"scatter\"}],                        {\"template\":{\"data\":{\"bar\":[{\"error_x\":{\"color\":\"#2a3f5f\"},\"error_y\":{\"color\":\"#2a3f5f\"},\"marker\":{\"line\":{\"color\":\"#E5ECF6\",\"width\":0.5},\"pattern\":{\"fillmode\":\"overlay\",\"size\":10,\"solidity\":0.2}},\"type\":\"bar\"}],\"barpolar\":[{\"marker\":{\"line\":{\"color\":\"#E5ECF6\",\"width\":0.5},\"pattern\":{\"fillmode\":\"overlay\",\"size\":10,\"solidity\":0.2}},\"type\":\"barpolar\"}],\"carpet\":[{\"aaxis\":{\"endlinecolor\":\"#2a3f5f\",\"gridcolor\":\"white\",\"linecolor\":\"white\",\"minorgridcolor\":\"white\",\"startlinecolor\":\"#2a3f5f\"},\"baxis\":{\"endlinecolor\":\"#2a3f5f\",\"gridcolor\":\"white\",\"linecolor\":\"white\",\"minorgridcolor\":\"white\",\"startlinecolor\":\"#2a3f5f\"},\"type\":\"carpet\"}],\"choropleth\":[{\"colorbar\":{\"outlinewidth\":0,\"ticks\":\"\"},\"type\":\"choropleth\"}],\"contour\":[{\"colorbar\":{\"outlinewidth\":0,\"ticks\":\"\"},\"colorscale\":[[0.0,\"#0d0887\"],[0.1111111111111111,\"#46039f\"],[0.2222222222222222,\"#7201a8\"],[0.3333333333333333,\"#9c179e\"],[0.4444444444444444,\"#bd3786\"],[0.5555555555555556,\"#d8576b\"],[0.6666666666666666,\"#ed7953\"],[0.7777777777777778,\"#fb9f3a\"],[0.8888888888888888,\"#fdca26\"],[1.0,\"#f0f921\"]],\"type\":\"contour\"}],\"contourcarpet\":[{\"colorbar\":{\"outlinewidth\":0,\"ticks\":\"\"},\"type\":\"contourcarpet\"}],\"heatmap\":[{\"colorbar\":{\"outlinewidth\":0,\"ticks\":\"\"},\"colorscale\":[[0.0,\"#0d0887\"],[0.1111111111111111,\"#46039f\"],[0.2222222222222222,\"#7201a8\"],[0.3333333333333333,\"#9c179e\"],[0.4444444444444444,\"#bd3786\"],[0.5555555555555556,\"#d8576b\"],[0.6666666666666666,\"#ed7953\"],[0.7777777777777778,\"#fb9f3a\"],[0.8888888888888888,\"#fdca26\"],[1.0,\"#f0f921\"]],\"type\":\"heatmap\"}],\"heatmapgl\":[{\"colorbar\":{\"outlinewidth\":0,\"ticks\":\"\"},\"colorscale\":[[0.0,\"#0d0887\"],[0.1111111111111111,\"#46039f\"],[0.2222222222222222,\"#7201a8\"],[0.3333333333333333,\"#9c179e\"],[0.4444444444444444,\"#bd3786\"],[0.5555555555555556,\"#d8576b\"],[0.6666666666666666,\"#ed7953\"],[0.7777777777777778,\"#fb9f3a\"],[0.8888888888888888,\"#fdca26\"],[1.0,\"#f0f921\"]],\"type\":\"heatmapgl\"}],\"histogram\":[{\"marker\":{\"pattern\":{\"fillmode\":\"overlay\",\"size\":10,\"solidity\":0.2}},\"type\":\"histogram\"}],\"histogram2d\":[{\"colorbar\":{\"outlinewidth\":0,\"ticks\":\"\"},\"colorscale\":[[0.0,\"#0d0887\"],[0.1111111111111111,\"#46039f\"],[0.2222222222222222,\"#7201a8\"],[0.3333333333333333,\"#9c179e\"],[0.4444444444444444,\"#bd3786\"],[0.5555555555555556,\"#d8576b\"],[0.6666666666666666,\"#ed7953\"],[0.7777777777777778,\"#fb9f3a\"],[0.8888888888888888,\"#fdca26\"],[1.0,\"#f0f921\"]],\"type\":\"histogram2d\"}],\"histogram2dcontour\":[{\"colorbar\":{\"outlinewidth\":0,\"ticks\":\"\"},\"colorscale\":[[0.0,\"#0d0887\"],[0.1111111111111111,\"#46039f\"],[0.2222222222222222,\"#7201a8\"],[0.3333333333333333,\"#9c179e\"],[0.4444444444444444,\"#bd3786\"],[0.5555555555555556,\"#d8576b\"],[0.6666666666666666,\"#ed7953\"],[0.7777777777777778,\"#fb9f3a\"],[0.8888888888888888,\"#fdca26\"],[1.0,\"#f0f921\"]],\"type\":\"histogram2dcontour\"}],\"mesh3d\":[{\"colorbar\":{\"outlinewidth\":0,\"ticks\":\"\"},\"type\":\"mesh3d\"}],\"parcoords\":[{\"line\":{\"colorbar\":{\"outlinewidth\":0,\"ticks\":\"\"}},\"type\":\"parcoords\"}],\"pie\":[{\"automargin\":true,\"type\":\"pie\"}],\"scatter\":[{\"marker\":{\"colorbar\":{\"outlinewidth\":0,\"ticks\":\"\"}},\"type\":\"scatter\"}],\"scatter3d\":[{\"line\":{\"colorbar\":{\"outlinewidth\":0,\"ticks\":\"\"}},\"marker\":{\"colorbar\":{\"outlinewidth\":0,\"ticks\":\"\"}},\"type\":\"scatter3d\"}],\"scattercarpet\":[{\"marker\":{\"colorbar\":{\"outlinewidth\":0,\"ticks\":\"\"}},\"type\":\"scattercarpet\"}],\"scattergeo\":[{\"marker\":{\"colorbar\":{\"outlinewidth\":0,\"ticks\":\"\"}},\"type\":\"scattergeo\"}],\"scattergl\":[{\"marker\":{\"colorbar\":{\"outlinewidth\":0,\"ticks\":\"\"}},\"type\":\"scattergl\"}],\"scattermapbox\":[{\"marker\":{\"colorbar\":{\"outlinewidth\":0,\"ticks\":\"\"}},\"type\":\"scattermapbox\"}],\"scatterpolar\":[{\"marker\":{\"colorbar\":{\"outlinewidth\":0,\"ticks\":\"\"}},\"type\":\"scatterpolar\"}],\"scatterpolargl\":[{\"marker\":{\"colorbar\":{\"outlinewidth\":0,\"ticks\":\"\"}},\"type\":\"scatterpolargl\"}],\"scatterternary\":[{\"marker\":{\"colorbar\":{\"outlinewidth\":0,\"ticks\":\"\"}},\"type\":\"scatterternary\"}],\"surface\":[{\"colorbar\":{\"outlinewidth\":0,\"ticks\":\"\"},\"colorscale\":[[0.0,\"#0d0887\"],[0.1111111111111111,\"#46039f\"],[0.2222222222222222,\"#7201a8\"],[0.3333333333333333,\"#9c179e\"],[0.4444444444444444,\"#bd3786\"],[0.5555555555555556,\"#d8576b\"],[0.6666666666666666,\"#ed7953\"],[0.7777777777777778,\"#fb9f3a\"],[0.8888888888888888,\"#fdca26\"],[1.0,\"#f0f921\"]],\"type\":\"surface\"}],\"table\":[{\"cells\":{\"fill\":{\"color\":\"#EBF0F8\"},\"line\":{\"color\":\"white\"}},\"header\":{\"fill\":{\"color\":\"#C8D4E3\"},\"line\":{\"color\":\"white\"}},\"type\":\"table\"}]},\"layout\":{\"annotationdefaults\":{\"arrowcolor\":\"#2a3f5f\",\"arrowhead\":0,\"arrowwidth\":1},\"autotypenumbers\":\"strict\",\"coloraxis\":{\"colorbar\":{\"outlinewidth\":0,\"ticks\":\"\"}},\"colorscale\":{\"diverging\":[[0,\"#8e0152\"],[0.1,\"#c51b7d\"],[0.2,\"#de77ae\"],[0.3,\"#f1b6da\"],[0.4,\"#fde0ef\"],[0.5,\"#f7f7f7\"],[0.6,\"#e6f5d0\"],[0.7,\"#b8e186\"],[0.8,\"#7fbc41\"],[0.9,\"#4d9221\"],[1,\"#276419\"]],\"sequential\":[[0.0,\"#0d0887\"],[0.1111111111111111,\"#46039f\"],[0.2222222222222222,\"#7201a8\"],[0.3333333333333333,\"#9c179e\"],[0.4444444444444444,\"#bd3786\"],[0.5555555555555556,\"#d8576b\"],[0.6666666666666666,\"#ed7953\"],[0.7777777777777778,\"#fb9f3a\"],[0.8888888888888888,\"#fdca26\"],[1.0,\"#f0f921\"]],\"sequentialminus\":[[0.0,\"#0d0887\"],[0.1111111111111111,\"#46039f\"],[0.2222222222222222,\"#7201a8\"],[0.3333333333333333,\"#9c179e\"],[0.4444444444444444,\"#bd3786\"],[0.5555555555555556,\"#d8576b\"],[0.6666666666666666,\"#ed7953\"],[0.7777777777777778,\"#fb9f3a\"],[0.8888888888888888,\"#fdca26\"],[1.0,\"#f0f921\"]]},\"colorway\":[\"#636efa\",\"#EF553B\",\"#00cc96\",\"#ab63fa\",\"#FFA15A\",\"#19d3f3\",\"#FF6692\",\"#B6E880\",\"#FF97FF\",\"#FECB52\"],\"font\":{\"color\":\"#2a3f5f\"},\"geo\":{\"bgcolor\":\"white\",\"lakecolor\":\"white\",\"landcolor\":\"#E5ECF6\",\"showlakes\":true,\"showland\":true,\"subunitcolor\":\"white\"},\"hoverlabel\":{\"align\":\"left\"},\"hovermode\":\"closest\",\"mapbox\":{\"style\":\"light\"},\"paper_bgcolor\":\"white\",\"plot_bgcolor\":\"#E5ECF6\",\"polar\":{\"angularaxis\":{\"gridcolor\":\"white\",\"linecolor\":\"white\",\"ticks\":\"\"},\"bgcolor\":\"#E5ECF6\",\"radialaxis\":{\"gridcolor\":\"white\",\"linecolor\":\"white\",\"ticks\":\"\"}},\"scene\":{\"xaxis\":{\"backgroundcolor\":\"#E5ECF6\",\"gridcolor\":\"white\",\"gridwidth\":2,\"linecolor\":\"white\",\"showbackground\":true,\"ticks\":\"\",\"zerolinecolor\":\"white\"},\"yaxis\":{\"backgroundcolor\":\"#E5ECF6\",\"gridcolor\":\"white\",\"gridwidth\":2,\"linecolor\":\"white\",\"showbackground\":true,\"ticks\":\"\",\"zerolinecolor\":\"white\"},\"zaxis\":{\"backgroundcolor\":\"#E5ECF6\",\"gridcolor\":\"white\",\"gridwidth\":2,\"linecolor\":\"white\",\"showbackground\":true,\"ticks\":\"\",\"zerolinecolor\":\"white\"}},\"shapedefaults\":{\"line\":{\"color\":\"#2a3f5f\"}},\"ternary\":{\"aaxis\":{\"gridcolor\":\"white\",\"linecolor\":\"white\",\"ticks\":\"\"},\"baxis\":{\"gridcolor\":\"white\",\"linecolor\":\"white\",\"ticks\":\"\"},\"bgcolor\":\"#E5ECF6\",\"caxis\":{\"gridcolor\":\"white\",\"linecolor\":\"white\",\"ticks\":\"\"}},\"title\":{\"x\":0.05},\"xaxis\":{\"automargin\":true,\"gridcolor\":\"white\",\"linecolor\":\"white\",\"ticks\":\"\",\"title\":{\"standoff\":15},\"zerolinecolor\":\"white\",\"zerolinewidth\":2},\"yaxis\":{\"automargin\":true,\"gridcolor\":\"white\",\"linecolor\":\"white\",\"ticks\":\"\",\"title\":{\"standoff\":15},\"zerolinecolor\":\"white\",\"zerolinewidth\":2}}},\"xaxis\":{\"anchor\":\"y\",\"domain\":[0.0,1.0],\"title\":{\"text\":\"index\"}},\"yaxis\":{\"anchor\":\"x\",\"domain\":[0.0,1.0],\"title\":{\"text\":\"value\"}},\"legend\":{\"title\":{\"text\":\"variable\"},\"tracegroupgap\":0},\"margin\":{\"t\":60}},                        {\"responsive\": true}                    ).then(function(){\n",
       "                            \n",
       "var gd = document.getElementById('bcfe7617-d11e-4414-91a9-e89873da426e');\n",
       "var x = new MutationObserver(function (mutations, observer) {{\n",
       "        var display = window.getComputedStyle(gd).display;\n",
       "        if (!display || display === 'none') {{\n",
       "            console.log([gd, 'removed!']);\n",
       "            Plotly.purge(gd);\n",
       "            observer.disconnect();\n",
       "        }}\n",
       "}});\n",
       "\n",
       "// Listen for the removal of the full notebook cells\n",
       "var notebookContainer = gd.closest('#notebook-container');\n",
       "if (notebookContainer) {{\n",
       "    x.observe(notebookContainer, {childList: true});\n",
       "}}\n",
       "\n",
       "// Listen for the clearing of the current output cell\n",
       "var outputEl = gd.closest('.output');\n",
       "if (outputEl) {{\n",
       "    x.observe(outputEl, {childList: true});\n",
       "}}\n",
       "\n",
       "                        })                };                });            </script>        </div>"
      ]
     },
     "metadata": {},
     "output_type": "display_data"
    }
   ],
   "source": [
    "fig = px.scatter(dfmean)\n",
    "fig.show()"
   ]
  },
  {
   "cell_type": "code",
   "execution_count": null,
   "id": "ac0089af",
   "metadata": {},
   "outputs": [],
   "source": []
  }
 ],
 "metadata": {
  "kernelspec": {
   "display_name": "Python 3 (ipykernel)",
   "language": "python",
   "name": "python3"
  },
  "language_info": {
   "codemirror_mode": {
    "name": "ipython",
    "version": 3
   },
   "file_extension": ".py",
   "mimetype": "text/x-python",
   "name": "python",
   "nbconvert_exporter": "python",
   "pygments_lexer": "ipython3",
   "version": "3.9.12"
  }
 },
 "nbformat": 4,
 "nbformat_minor": 5
}
