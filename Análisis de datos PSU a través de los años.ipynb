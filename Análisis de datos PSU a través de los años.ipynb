{
 "cells": [
  {
   "cell_type": "markdown",
   "id": "47bccff5-bd63-4f7b-ab32-5608573f5261",
   "metadata": {
    "tags": []
   },
   "source": [
    "<h2>Analisis de la psu de matemáticas a través de los años desde  2004-2021</h2>\n"
   ]
  },
  {
   "cell_type": "code",
   "execution_count": 2,
   "id": "9e5a346d-5336-46be-a7b9-42490ef2434b",
   "metadata": {},
   "outputs": [],
   "source": [
    "import numpy as np\n",
    "import matplotlib.pyplot as plt\n",
    "import pandas as pd\n",
    "import seaborn as sns\n",
    "import plotly.express as px\n",
    "import plotly.graph_objects as go\n",
    "\n",
    "annotation_template = go.layout.Template()\n",
    "annotation_template.layout.annotationdefaults = dict(font=dict(color=\"crimson\")) "
   ]
  },
  {
   "cell_type": "code",
   "execution_count": 5,
   "id": "70d40d27-3815-4f3c-b152-86c03542e6af",
   "metadata": {},
   "outputs": [
    {
     "data": {
      "text/html": [
       "<div>\n",
       "<style scoped>\n",
       "    .dataframe tbody tr th:only-of-type {\n",
       "        vertical-align: middle;\n",
       "    }\n",
       "\n",
       "    .dataframe tbody tr th {\n",
       "        vertical-align: top;\n",
       "    }\n",
       "\n",
       "    .dataframe thead th {\n",
       "        text-align: right;\n",
       "    }\n",
       "</style>\n",
       "<table border=\"1\" class=\"dataframe\">\n",
       "  <thead>\n",
       "    <tr style=\"text-align: right;\">\n",
       "      <th></th>\n",
       "      <th>P000</th>\n",
       "      <th>P004</th>\n",
       "      <th>P008</th>\n",
       "      <th>P009</th>\n",
       "      <th>P017</th>\n",
       "      <th>P018</th>\n",
       "      <th>P056</th>\n",
       "      <th>P057</th>\n",
       "      <th>P058</th>\n",
       "      <th>P015</th>\n",
       "      <th>...</th>\n",
       "      <th>P134</th>\n",
       "      <th>P135</th>\n",
       "      <th>P136</th>\n",
       "      <th>P165</th>\n",
       "      <th>P151</th>\n",
       "      <th>P153</th>\n",
       "      <th>P157</th>\n",
       "      <th>P158</th>\n",
       "      <th>P160</th>\n",
       "      <th>P161</th>\n",
       "    </tr>\n",
       "  </thead>\n",
       "  <tbody>\n",
       "    <tr>\n",
       "      <th>0</th>\n",
       "      <td>id_2835928673582</td>\n",
       "      <td>2004</td>\n",
       "      <td>1</td>\n",
       "      <td>1</td>\n",
       "      <td>6</td>\n",
       "      <td>1985</td>\n",
       "      <td>13</td>\n",
       "      <td>1</td>\n",
       "      <td>613</td>\n",
       "      <td>2003</td>\n",
       "      <td>...</td>\n",
       "      <td>NaN</td>\n",
       "      <td>NaN</td>\n",
       "      <td>NaN</td>\n",
       "      <td>NaN</td>\n",
       "      <td>NO_PER</td>\n",
       "      <td>NaN</td>\n",
       "      <td>NaN</td>\n",
       "      <td>NaN</td>\n",
       "      <td>NO_PER</td>\n",
       "      <td>NaN</td>\n",
       "    </tr>\n",
       "    <tr>\n",
       "      <th>1</th>\n",
       "      <td>id_477345795</td>\n",
       "      <td>2004</td>\n",
       "      <td>2</td>\n",
       "      <td>2</td>\n",
       "      <td>5</td>\n",
       "      <td>1984</td>\n",
       "      <td>7</td>\n",
       "      <td>1</td>\n",
       "      <td>380</td>\n",
       "      <td>2002</td>\n",
       "      <td>...</td>\n",
       "      <td>0.0</td>\n",
       "      <td>0.0</td>\n",
       "      <td>0.0</td>\n",
       "      <td>NaN</td>\n",
       "      <td>NO_PER</td>\n",
       "      <td>NaN</td>\n",
       "      <td>NaN</td>\n",
       "      <td>NaN</td>\n",
       "      <td>NO_PER</td>\n",
       "      <td>NaN</td>\n",
       "    </tr>\n",
       "    <tr>\n",
       "      <th>2</th>\n",
       "      <td>id_2978929077865</td>\n",
       "      <td>2004</td>\n",
       "      <td>1</td>\n",
       "      <td>2</td>\n",
       "      <td>5</td>\n",
       "      <td>1986</td>\n",
       "      <td>5</td>\n",
       "      <td>5</td>\n",
       "      <td>314</td>\n",
       "      <td>2002</td>\n",
       "      <td>...</td>\n",
       "      <td>NaN</td>\n",
       "      <td>NaN</td>\n",
       "      <td>NaN</td>\n",
       "      <td>NaN</td>\n",
       "      <td>NO_PER</td>\n",
       "      <td>NaN</td>\n",
       "      <td>NaN</td>\n",
       "      <td>NaN</td>\n",
       "      <td>NO_PER</td>\n",
       "      <td>NaN</td>\n",
       "    </tr>\n",
       "    <tr>\n",
       "      <th>3</th>\n",
       "      <td>id_496942983</td>\n",
       "      <td>2004</td>\n",
       "      <td>2</td>\n",
       "      <td>2</td>\n",
       "      <td>2</td>\n",
       "      <td>1985</td>\n",
       "      <td>13</td>\n",
       "      <td>1</td>\n",
       "      <td>614</td>\n",
       "      <td>2002</td>\n",
       "      <td>...</td>\n",
       "      <td>NaN</td>\n",
       "      <td>NaN</td>\n",
       "      <td>NaN</td>\n",
       "      <td>NaN</td>\n",
       "      <td>NO_PER</td>\n",
       "      <td>NaN</td>\n",
       "      <td>NaN</td>\n",
       "      <td>NaN</td>\n",
       "      <td>NO_PER</td>\n",
       "      <td>NaN</td>\n",
       "    </tr>\n",
       "    <tr>\n",
       "      <th>4</th>\n",
       "      <td>id_9097940305</td>\n",
       "      <td>2004</td>\n",
       "      <td>2</td>\n",
       "      <td>1</td>\n",
       "      <td>1</td>\n",
       "      <td>1986</td>\n",
       "      <td>13</td>\n",
       "      <td>6</td>\n",
       "      <td>673</td>\n",
       "      <td>2002</td>\n",
       "      <td>...</td>\n",
       "      <td>NaN</td>\n",
       "      <td>NaN</td>\n",
       "      <td>NaN</td>\n",
       "      <td>NaN</td>\n",
       "      <td>NO_PER</td>\n",
       "      <td>NaN</td>\n",
       "      <td>NaN</td>\n",
       "      <td>NaN</td>\n",
       "      <td>NO_PER</td>\n",
       "      <td>NaN</td>\n",
       "    </tr>\n",
       "    <tr>\n",
       "      <th>...</th>\n",
       "      <td>...</td>\n",
       "      <td>...</td>\n",
       "      <td>...</td>\n",
       "      <td>...</td>\n",
       "      <td>...</td>\n",
       "      <td>...</td>\n",
       "      <td>...</td>\n",
       "      <td>...</td>\n",
       "      <td>...</td>\n",
       "      <td>...</td>\n",
       "      <td>...</td>\n",
       "      <td>...</td>\n",
       "      <td>...</td>\n",
       "      <td>...</td>\n",
       "      <td>...</td>\n",
       "      <td>...</td>\n",
       "      <td>...</td>\n",
       "      <td>...</td>\n",
       "      <td>...</td>\n",
       "      <td>...</td>\n",
       "      <td>...</td>\n",
       "    </tr>\n",
       "    <tr>\n",
       "      <th>158894</th>\n",
       "      <td>id_4158941475894</td>\n",
       "      <td>2004</td>\n",
       "      <td>1</td>\n",
       "      <td>1</td>\n",
       "      <td>1</td>\n",
       "      <td>1982</td>\n",
       "      <td>13</td>\n",
       "      <td>1</td>\n",
       "      <td>625</td>\n",
       "      <td>2003</td>\n",
       "      <td>...</td>\n",
       "      <td>NaN</td>\n",
       "      <td>NaN</td>\n",
       "      <td>NaN</td>\n",
       "      <td>NaN</td>\n",
       "      <td>NO_PER</td>\n",
       "      <td>NaN</td>\n",
       "      <td>NaN</td>\n",
       "      <td>NaN</td>\n",
       "      <td>NO_PER</td>\n",
       "      <td>NaN</td>\n",
       "    </tr>\n",
       "    <tr>\n",
       "      <th>158895</th>\n",
       "      <td>id_4709947670939</td>\n",
       "      <td>2004</td>\n",
       "      <td>1</td>\n",
       "      <td>1</td>\n",
       "      <td>6</td>\n",
       "      <td>1982</td>\n",
       "      <td>13</td>\n",
       "      <td>4</td>\n",
       "      <td>650</td>\n",
       "      <td>2003</td>\n",
       "      <td>...</td>\n",
       "      <td>NaN</td>\n",
       "      <td>NaN</td>\n",
       "      <td>NaN</td>\n",
       "      <td>NaN</td>\n",
       "      <td>NO_PER</td>\n",
       "      <td>NaN</td>\n",
       "      <td>NaN</td>\n",
       "      <td>NaN</td>\n",
       "      <td>NO_PER</td>\n",
       "      <td>NaN</td>\n",
       "    </tr>\n",
       "    <tr>\n",
       "      <th>158896</th>\n",
       "      <td>id_4428944372814</td>\n",
       "      <td>2004</td>\n",
       "      <td>1</td>\n",
       "      <td>2</td>\n",
       "      <td>4</td>\n",
       "      <td>1983</td>\n",
       "      <td>10</td>\n",
       "      <td>1</td>\n",
       "      <td>520</td>\n",
       "      <td>2003</td>\n",
       "      <td>...</td>\n",
       "      <td>NaN</td>\n",
       "      <td>NaN</td>\n",
       "      <td>NaN</td>\n",
       "      <td>NaN</td>\n",
       "      <td>NO_PER</td>\n",
       "      <td>NaN</td>\n",
       "      <td>NaN</td>\n",
       "      <td>NaN</td>\n",
       "      <td>NO_PER</td>\n",
       "      <td>NaN</td>\n",
       "    </tr>\n",
       "    <tr>\n",
       "      <th>158897</th>\n",
       "      <td>id_1904919770424</td>\n",
       "      <td>2004</td>\n",
       "      <td>1</td>\n",
       "      <td>1</td>\n",
       "      <td>10</td>\n",
       "      <td>1980</td>\n",
       "      <td>13</td>\n",
       "      <td>6</td>\n",
       "      <td>671</td>\n",
       "      <td>2003</td>\n",
       "      <td>...</td>\n",
       "      <td>NaN</td>\n",
       "      <td>NaN</td>\n",
       "      <td>NaN</td>\n",
       "      <td>NaN</td>\n",
       "      <td>NO_PER</td>\n",
       "      <td>NaN</td>\n",
       "      <td>NaN</td>\n",
       "      <td>NaN</td>\n",
       "      <td>NO_PER</td>\n",
       "      <td>NaN</td>\n",
       "    </tr>\n",
       "    <tr>\n",
       "      <th>158898</th>\n",
       "      <td>id_7365973476519</td>\n",
       "      <td>2004</td>\n",
       "      <td>1</td>\n",
       "      <td>1</td>\n",
       "      <td>5</td>\n",
       "      <td>1979</td>\n",
       "      <td>13</td>\n",
       "      <td>6</td>\n",
       "      <td>671</td>\n",
       "      <td>2003</td>\n",
       "      <td>...</td>\n",
       "      <td>NaN</td>\n",
       "      <td>NaN</td>\n",
       "      <td>NaN</td>\n",
       "      <td>NaN</td>\n",
       "      <td>NO_PER</td>\n",
       "      <td>NaN</td>\n",
       "      <td>NaN</td>\n",
       "      <td>NaN</td>\n",
       "      <td>NO_PER</td>\n",
       "      <td>NaN</td>\n",
       "    </tr>\n",
       "  </tbody>\n",
       "</table>\n",
       "<p>158899 rows × 83 columns</p>\n",
       "</div>"
      ],
      "text/plain": [
       "                    P000  P004  P008  P009  P017  P018  P056  P057  P058  \\\n",
       "0       id_2835928673582  2004     1     1     6  1985    13     1   613   \n",
       "1           id_477345795  2004     2     2     5  1984     7     1   380   \n",
       "2       id_2978929077865  2004     1     2     5  1986     5     5   314   \n",
       "3           id_496942983  2004     2     2     2  1985    13     1   614   \n",
       "4          id_9097940305  2004     2     1     1  1986    13     6   673   \n",
       "...                  ...   ...   ...   ...   ...   ...   ...   ...   ...   \n",
       "158894  id_4158941475894  2004     1     1     1  1982    13     1   625   \n",
       "158895  id_4709947670939  2004     1     1     6  1982    13     4   650   \n",
       "158896  id_4428944372814  2004     1     2     4  1983    10     1   520   \n",
       "158897  id_1904919770424  2004     1     1    10  1980    13     6   671   \n",
       "158898  id_7365973476519  2004     1     1     5  1979    13     6   671   \n",
       "\n",
       "        P015  ...  P134  P135  P136  P165    P151  P153  P157  P158    P160  \\\n",
       "0       2003  ...   NaN   NaN   NaN   NaN  NO_PER   NaN   NaN   NaN  NO_PER   \n",
       "1       2002  ...   0.0   0.0   0.0   NaN  NO_PER   NaN   NaN   NaN  NO_PER   \n",
       "2       2002  ...   NaN   NaN   NaN   NaN  NO_PER   NaN   NaN   NaN  NO_PER   \n",
       "3       2002  ...   NaN   NaN   NaN   NaN  NO_PER   NaN   NaN   NaN  NO_PER   \n",
       "4       2002  ...   NaN   NaN   NaN   NaN  NO_PER   NaN   NaN   NaN  NO_PER   \n",
       "...      ...  ...   ...   ...   ...   ...     ...   ...   ...   ...     ...   \n",
       "158894  2003  ...   NaN   NaN   NaN   NaN  NO_PER   NaN   NaN   NaN  NO_PER   \n",
       "158895  2003  ...   NaN   NaN   NaN   NaN  NO_PER   NaN   NaN   NaN  NO_PER   \n",
       "158896  2003  ...   NaN   NaN   NaN   NaN  NO_PER   NaN   NaN   NaN  NO_PER   \n",
       "158897  2003  ...   NaN   NaN   NaN   NaN  NO_PER   NaN   NaN   NaN  NO_PER   \n",
       "158898  2003  ...   NaN   NaN   NaN   NaN  NO_PER   NaN   NaN   NaN  NO_PER   \n",
       "\n",
       "        P161  \n",
       "0        NaN  \n",
       "1        NaN  \n",
       "2        NaN  \n",
       "3        NaN  \n",
       "4        NaN  \n",
       "...      ...  \n",
       "158894   NaN  \n",
       "158895   NaN  \n",
       "158896   NaN  \n",
       "158897   NaN  \n",
       "158898   NaN  \n",
       "\n",
       "[158899 rows x 83 columns]"
      ]
     },
     "execution_count": 5,
     "metadata": {},
     "output_type": "execute_result"
    }
   ],
   "source": [
    "dataset2004"
   ]
  },
  {
   "cell_type": "code",
   "execution_count": 6,
   "id": "eba36fd4-b447-484f-abcf-0a85ffc1a1ed",
   "metadata": {},
   "outputs": [
    {
     "name": "stdout",
     "output_type": "stream",
     "text": [
      "<class 'pandas.core.frame.DataFrame'>\n",
      "RangeIndex: 158899 entries, 0 to 158898\n",
      "Data columns (total 83 columns):\n",
      " #   Column  Non-Null Count   Dtype  \n",
      "---  ------  --------------   -----  \n",
      " 0   P000    158899 non-null  object \n",
      " 1   P004    158899 non-null  int64  \n",
      " 2   P008    158899 non-null  int64  \n",
      " 3   P009    158899 non-null  int64  \n",
      " 4   P017    158899 non-null  int64  \n",
      " 5   P018    158899 non-null  int64  \n",
      " 6   P056    158899 non-null  int64  \n",
      " 7   P057    158899 non-null  int64  \n",
      " 8   P058    158899 non-null  int64  \n",
      " 9   P015    158899 non-null  int64  \n",
      " 10  P013    158899 non-null  int64  \n",
      " 11  P014    158899 non-null  int64  \n",
      " 12  P163    157718 non-null  float64\n",
      " 13  P164    157718 non-null  float64\n",
      " 14  P076    158899 non-null  object \n",
      " 15  P077    153772 non-null  float64\n",
      " 16  P072    153772 non-null  float64\n",
      " 17  P034    158899 non-null  int64  \n",
      " 18  P035    158899 non-null  int64  \n",
      " 19  P020    158899 non-null  int64  \n",
      " 20  P021    158899 non-null  int64  \n",
      " 21  P022    158899 non-null  int64  \n",
      " 22  P023    158899 non-null  int64  \n",
      " 23  P024    158899 non-null  int64  \n",
      " 24  P025    158899 non-null  int64  \n",
      " 25  P026    158899 non-null  int64  \n",
      " 26  P027_1  158899 non-null  int64  \n",
      " 27  P027_2  157509 non-null  float64\n",
      " 28  P039    158899 non-null  int64  \n",
      " 29  P040    158899 non-null  int64  \n",
      " 30  P041    158899 non-null  int64  \n",
      " 31  P042    158899 non-null  int64  \n",
      " 32  P043    158899 non-null  int64  \n",
      " 33  P044    158899 non-null  int64  \n",
      " 34  P045    158899 non-null  int64  \n",
      " 35  P046    158899 non-null  int64  \n",
      " 36  P028    158899 non-null  int64  \n",
      " 37  P029    158899 non-null  int64  \n",
      " 38  P030    158899 non-null  int64  \n",
      " 39  P031    158899 non-null  int64  \n",
      " 40  P032    158899 non-null  int64  \n",
      " 41  P033    158899 non-null  int64  \n",
      " 42  P037    158899 non-null  int64  \n",
      " 43  P038    158899 non-null  int64  \n",
      " 44  P085    153772 non-null  float64\n",
      " 45  P086    153772 non-null  float64\n",
      " 46  P087    153772 non-null  float64\n",
      " 47  P088    153772 non-null  float64\n",
      " 48  P082    153772 non-null  float64\n",
      " 49  P083    153772 non-null  float64\n",
      " 50  P097    71997 non-null   float64\n",
      " 51  P098    158899 non-null  object \n",
      " 52  P099    71997 non-null   float64\n",
      " 53  P100    71997 non-null   float64\n",
      " 54  P101    71997 non-null   float64\n",
      " 55  P104    71997 non-null   float64\n",
      " 56  P105    71997 non-null   float64\n",
      " 57  P106    71997 non-null   float64\n",
      " 58  P109    71997 non-null   float64\n",
      " 59  P110    71997 non-null   float64\n",
      " 60  P111    71997 non-null   float64\n",
      " 61  P114    71997 non-null   float64\n",
      " 62  P115    71997 non-null   float64\n",
      " 63  P116    71997 non-null   float64\n",
      " 64  P119    71997 non-null   float64\n",
      " 65  P120    71997 non-null   float64\n",
      " 66  P121    71997 non-null   float64\n",
      " 67  P124    71997 non-null   float64\n",
      " 68  P125    71997 non-null   float64\n",
      " 69  P126    71997 non-null   float64\n",
      " 70  P129    71997 non-null   float64\n",
      " 71  P130    71997 non-null   float64\n",
      " 72  P131    71997 non-null   float64\n",
      " 73  P134    71997 non-null   float64\n",
      " 74  P135    71997 non-null   float64\n",
      " 75  P136    71997 non-null   float64\n",
      " 76  P165    42549 non-null   float64\n",
      " 77  P151    158899 non-null  object \n",
      " 78  P153    42549 non-null   float64\n",
      " 79  P157    42549 non-null   float64\n",
      " 80  P158    42549 non-null   object \n",
      " 81  P160    158899 non-null  object \n",
      " 82  P161    42549 non-null   float64\n",
      "dtypes: float64(40), int64(37), object(6)\n",
      "memory usage: 100.6+ MB\n"
     ]
    }
   ],
   "source": [
    "dataset2004.info()"
   ]
  },
  {
   "cell_type": "code",
   "execution_count": 10,
   "id": "dbadf683-8c33-4759-b9f8-9f0aa3f9e85b",
   "metadata": {},
   "outputs": [
    {
     "data": {
      "text/plain": [
       "(158899, 83)"
      ]
     },
     "execution_count": 10,
     "metadata": {},
     "output_type": "execute_result"
    }
   ],
   "source": [
    "dataset2004.shape"
   ]
  },
  {
   "cell_type": "code",
   "execution_count": 11,
   "id": "741aeb43-bf36-436f-b209-aae06036a3c8",
   "metadata": {},
   "outputs": [
    {
     "data": {
      "text/plain": [
       "0         577.0\n",
       "1         390.0\n",
       "2         680.0\n",
       "3         567.0\n",
       "4         515.0\n",
       "          ...  \n",
       "158894    425.0\n",
       "158895    279.0\n",
       "158896    342.0\n",
       "158897    425.0\n",
       "158898    425.0\n",
       "Name: P086, Length: 158899, dtype: float64"
      ]
     },
     "execution_count": 11,
     "metadata": {},
     "output_type": "execute_result"
    }
   ],
   "source": [
    "dataset2004 = pd.read_csv('ADM2004.csv',delimiter=';', skiprows=0, low_memory=False)\n",
    "mate2004=dataset2004.iloc[:, 45] # Primera columna\n",
    "mate2004\n"
   ]
  },
  {
   "cell_type": "code",
   "execution_count": 85,
   "id": "769e5844-e6ba-46d8-9742-2d2ff4979aa9",
   "metadata": {},
   "outputs": [
    {
     "data": {
      "text/plain": [
       "497.86310901854694"
      ]
     },
     "execution_count": 85,
     "metadata": {},
     "output_type": "execute_result"
    }
   ],
   "source": [
    "mate2004.mean()"
   ]
  },
  {
   "cell_type": "code",
   "execution_count": 12,
   "id": "ffc8b993-6bed-4e79-b87a-a3a57b18a703",
   "metadata": {},
   "outputs": [
    {
     "data": {
      "text/plain": [
       "76557406.0"
      ]
     },
     "execution_count": 12,
     "metadata": {},
     "output_type": "execute_result"
    }
   ],
   "source": [
    "mate2004.sum()"
   ]
  },
  {
   "cell_type": "code",
   "execution_count": 13,
   "id": "a5eac3c0-b476-4853-b2cf-337bf90679fe",
   "metadata": {},
   "outputs": [
    {
     "data": {
      "text/plain": [
       "0              577.0\n",
       "1              967.0\n",
       "2             1647.0\n",
       "3             2214.0\n",
       "4             2729.0\n",
       "             ...    \n",
       "158894    76555935.0\n",
       "158895    76556214.0\n",
       "158896    76556556.0\n",
       "158897    76556981.0\n",
       "158898    76557406.0\n",
       "Name: P086, Length: 158899, dtype: float64"
      ]
     },
     "execution_count": 13,
     "metadata": {},
     "output_type": "execute_result"
    }
   ],
   "source": [
    "mate2004.cumsum()"
   ]
  },
  {
   "cell_type": "code",
   "execution_count": 14,
   "id": "9208dffc-fdaf-47bc-8872-d06b1537641c",
   "metadata": {},
   "outputs": [
    {
     "data": {
      "text/plain": [
       "153772"
      ]
     },
     "execution_count": 14,
     "metadata": {},
     "output_type": "execute_result"
    }
   ],
   "source": [
    "ma2004=mate2004.count()\n",
    "ma2004"
   ]
  },
  {
   "cell_type": "code",
   "execution_count": 3,
   "id": "8f50fe76-5108-40f5-8b9e-77e7973631e8",
   "metadata": {
    "tags": []
   },
   "outputs": [
    {
     "data": {
      "text/plain": [
       "0         363.0\n",
       "1         583.0\n",
       "2         572.0\n",
       "3         502.0\n",
       "4         435.0\n",
       "          ...  \n",
       "176385    378.0\n",
       "176386    426.0\n",
       "176387    392.0\n",
       "176388    416.0\n",
       "176389    257.0\n",
       "Name: P086, Length: 176390, dtype: float64"
      ]
     },
     "execution_count": 3,
     "metadata": {},
     "output_type": "execute_result"
    }
   ],
   "source": [
    "dataset2005 = pd.read_csv('ADM2005.csv',delimiter=';', skiprows=0, low_memory=False)\n",
    "mate2005=dataset2005.iloc[:, 45] # Primera columna\n",
    "mate2005"
   ]
  },
  {
   "cell_type": "code",
   "execution_count": 5,
   "id": "7869b302-0907-4679-9d0e-135211b5adad",
   "metadata": {},
   "outputs": [
    {
     "data": {
      "text/plain": [
       "498.9299786725111"
      ]
     },
     "execution_count": 5,
     "metadata": {},
     "output_type": "execute_result"
    }
   ],
   "source": [
    "mate2005.mean()"
   ]
  },
  {
   "cell_type": "code",
   "execution_count": 16,
   "id": "1a444f78-a17e-47a4-8aae-b7d6a7e854ac",
   "metadata": {},
   "outputs": [
    {
     "data": {
      "text/plain": [
       "84685381.0"
      ]
     },
     "execution_count": 16,
     "metadata": {},
     "output_type": "execute_result"
    }
   ],
   "source": [
    "mate2005.sum()"
   ]
  },
  {
   "cell_type": "code",
   "execution_count": 17,
   "id": "d4d87f3b-5bd5-45a4-b23d-4b515209e6fa",
   "metadata": {},
   "outputs": [
    {
     "data": {
      "text/plain": [
       "0              363.0\n",
       "1              946.0\n",
       "2             1518.0\n",
       "3             2020.0\n",
       "4             2455.0\n",
       "             ...    \n",
       "176385    84683890.0\n",
       "176386    84684316.0\n",
       "176387    84684708.0\n",
       "176388    84685124.0\n",
       "176389    84685381.0\n",
       "Name: P086, Length: 176390, dtype: float64"
      ]
     },
     "execution_count": 17,
     "metadata": {},
     "output_type": "execute_result"
    }
   ],
   "source": [
    "mate2005.cumsum()"
   ]
  },
  {
   "cell_type": "code",
   "execution_count": 18,
   "id": "75309e42-5fa9-4af0-bcce-f52c9408ffe8",
   "metadata": {},
   "outputs": [
    {
     "data": {
      "text/plain": [
       "169734"
      ]
     },
     "execution_count": 18,
     "metadata": {},
     "output_type": "execute_result"
    }
   ],
   "source": [
    "ma2005=mate2005.count()\n",
    "ma2005"
   ]
  },
  {
   "cell_type": "code",
   "execution_count": 20,
   "id": "e94274cc-cd04-4c10-948f-0d7e70fc8397",
   "metadata": {},
   "outputs": [
    {
     "data": {
      "text/plain": [
       "0         569.0\n",
       "1         380.0\n",
       "2         285.0\n",
       "3         380.0\n",
       "4         547.0\n",
       "          ...  \n",
       "182381    334.0\n",
       "182382    310.0\n",
       "182383    398.0\n",
       "182384    415.0\n",
       "182385    285.0\n",
       "Name: P086, Length: 182386, dtype: float64"
      ]
     },
     "execution_count": 20,
     "metadata": {},
     "output_type": "execute_result"
    }
   ],
   "source": [
    "dataset2006 = pd.read_csv('ADM2006.csv',delimiter=';', skiprows=0, low_memory=False)\n",
    "mate2006=dataset2006.iloc[:, 45] # Primera columna\n",
    "mate2006\n"
   ]
  },
  {
   "cell_type": "code",
   "execution_count": 87,
   "id": "8126ed81-8355-418d-a17f-3fb5a6a49c9b",
   "metadata": {},
   "outputs": [
    {
     "data": {
      "text/plain": [
       "499.24411576437"
      ]
     },
     "execution_count": 87,
     "metadata": {},
     "output_type": "execute_result"
    }
   ],
   "source": [
    "mate2006.mean()"
   ]
  },
  {
   "cell_type": "code",
   "execution_count": 21,
   "id": "2bbbd245-0e3a-4796-80fa-bc179774cbe0",
   "metadata": {},
   "outputs": [
    {
     "data": {
      "text/plain": [
       "88132063.0"
      ]
     },
     "execution_count": 21,
     "metadata": {},
     "output_type": "execute_result"
    }
   ],
   "source": [
    "mate2006.sum()\n"
   ]
  },
  {
   "cell_type": "code",
   "execution_count": 22,
   "id": "c3f1cbda-24e5-4ea0-b81e-464888a34a99",
   "metadata": {},
   "outputs": [
    {
     "data": {
      "text/plain": [
       "0              569.0\n",
       "1              949.0\n",
       "2             1234.0\n",
       "3             1614.0\n",
       "4             2161.0\n",
       "             ...    \n",
       "182381    88130655.0\n",
       "182382    88130965.0\n",
       "182383    88131363.0\n",
       "182384    88131778.0\n",
       "182385    88132063.0\n",
       "Name: P086, Length: 182386, dtype: float64"
      ]
     },
     "execution_count": 22,
     "metadata": {},
     "output_type": "execute_result"
    }
   ],
   "source": [
    "mate2006.cumsum()\n"
   ]
  },
  {
   "cell_type": "code",
   "execution_count": 23,
   "id": "0381179d-4e9d-4ea8-952f-bf3f4473f45d",
   "metadata": {},
   "outputs": [
    {
     "data": {
      "text/plain": [
       "176531"
      ]
     },
     "execution_count": 23,
     "metadata": {},
     "output_type": "execute_result"
    }
   ],
   "source": [
    "ma2006=mate2006.count()\n",
    "ma2006"
   ]
  },
  {
   "cell_type": "code",
   "execution_count": 25,
   "id": "edb68d0d-c5a4-4335-884d-9dce4100c4f5",
   "metadata": {},
   "outputs": [
    {
     "data": {
      "text/plain": [
       "0           NaN\n",
       "1         413.0\n",
       "2           NaN\n",
       "3         328.0\n",
       "4         376.0\n",
       "          ...  \n",
       "241813    274.0\n",
       "241814      NaN\n",
       "241815    441.0\n",
       "241816    353.0\n",
       "241817      NaN\n",
       "Name: P086, Length: 241818, dtype: float64"
      ]
     },
     "execution_count": 25,
     "metadata": {},
     "output_type": "execute_result"
    }
   ],
   "source": [
    "dataset2007 = pd.read_csv('ADM2007.csv',delimiter=';', skiprows=0, low_memory=False)\n",
    "mate2007=dataset2007.iloc[:, 45] # Primera columna\n",
    "mate2007\n"
   ]
  },
  {
   "cell_type": "code",
   "execution_count": 86,
   "id": "aa64a252-bf2f-4f02-93d6-5d4ebe8d18ce",
   "metadata": {},
   "outputs": [
    {
     "data": {
      "text/plain": [
       "496.65211115969214"
      ]
     },
     "execution_count": 86,
     "metadata": {},
     "output_type": "execute_result"
    }
   ],
   "source": [
    "mate2007.mean()"
   ]
  },
  {
   "cell_type": "code",
   "execution_count": 26,
   "id": "f405dc2a-214e-41a4-b6b2-cd6c7a286c9d",
   "metadata": {},
   "outputs": [
    {
     "data": {
      "text/plain": [
       "105639394.0"
      ]
     },
     "execution_count": 26,
     "metadata": {},
     "output_type": "execute_result"
    }
   ],
   "source": [
    "mate2007.sum()\n"
   ]
  },
  {
   "cell_type": "code",
   "execution_count": 27,
   "id": "5495b665-485f-4ce4-a733-26c3855b2d67",
   "metadata": {},
   "outputs": [
    {
     "data": {
      "text/plain": [
       "0                 NaN\n",
       "1               413.0\n",
       "2                 NaN\n",
       "3               741.0\n",
       "4              1117.0\n",
       "             ...     \n",
       "241813    105638600.0\n",
       "241814            NaN\n",
       "241815    105639041.0\n",
       "241816    105639394.0\n",
       "241817            NaN\n",
       "Name: P086, Length: 241818, dtype: float64"
      ]
     },
     "execution_count": 27,
     "metadata": {},
     "output_type": "execute_result"
    }
   ],
   "source": [
    "mate2007.cumsum()\n"
   ]
  },
  {
   "cell_type": "code",
   "execution_count": 28,
   "id": "1099e336-40af-48cf-9478-010748f60878",
   "metadata": {},
   "outputs": [
    {
     "data": {
      "text/plain": [
       "212703"
      ]
     },
     "execution_count": 28,
     "metadata": {},
     "output_type": "execute_result"
    }
   ],
   "source": [
    "ma2007=mate2007.count()\n",
    "ma2007"
   ]
  },
  {
   "cell_type": "code",
   "execution_count": 29,
   "id": "336a723f-6904-45a2-9fc7-310bc4a4b98d",
   "metadata": {},
   "outputs": [
    {
     "data": {
      "text/plain": [
       "0         408.0\n",
       "1         493.0\n",
       "2         433.0\n",
       "3         517.0\n",
       "4         554.0\n",
       "          ...  \n",
       "240502    433.0\n",
       "240503    454.0\n",
       "240504    355.0\n",
       "240505    433.0\n",
       "240506      NaN\n",
       "Name: P086, Length: 240507, dtype: float64"
      ]
     },
     "execution_count": 29,
     "metadata": {},
     "output_type": "execute_result"
    }
   ],
   "source": [
    "dataset2008 = pd.read_csv('ADM2008.csv',delimiter=';', skiprows=0, low_memory=False)\n",
    "mate2008=dataset2008.iloc[:, 45] # Primera columna\n",
    "mate2008"
   ]
  },
  {
   "cell_type": "code",
   "execution_count": 88,
   "id": "d840fb0b-f42b-4e03-bdc3-d6a6087e23c1",
   "metadata": {},
   "outputs": [
    {
     "data": {
      "text/plain": [
       "497.38802089304465"
      ]
     },
     "execution_count": 88,
     "metadata": {},
     "output_type": "execute_result"
    }
   ],
   "source": [
    "mate2008.mean()"
   ]
  },
  {
   "cell_type": "code",
   "execution_count": 30,
   "id": "6805035f-db15-4cc2-b734-e1a515bbd34d",
   "metadata": {},
   "outputs": [
    {
     "data": {
      "text/plain": [
       "108461924.0"
      ]
     },
     "execution_count": 30,
     "metadata": {},
     "output_type": "execute_result"
    }
   ],
   "source": [
    "mate2008.sum()"
   ]
  },
  {
   "cell_type": "code",
   "execution_count": 31,
   "id": "fa9d708e-0a33-43fc-9448-9b1fb1899e47",
   "metadata": {},
   "outputs": [
    {
     "data": {
      "text/plain": [
       "0               408.0\n",
       "1               901.0\n",
       "2              1334.0\n",
       "3              1851.0\n",
       "4              2405.0\n",
       "             ...     \n",
       "240502    108460682.0\n",
       "240503    108461136.0\n",
       "240504    108461491.0\n",
       "240505    108461924.0\n",
       "240506            NaN\n",
       "Name: P086, Length: 240507, dtype: float64"
      ]
     },
     "execution_count": 31,
     "metadata": {},
     "output_type": "execute_result"
    }
   ],
   "source": [
    "mate2008.cumsum()"
   ]
  },
  {
   "cell_type": "code",
   "execution_count": 32,
   "id": "1883ac17-f415-4bef-a761-d66dd441ac5b",
   "metadata": {},
   "outputs": [
    {
     "data": {
      "text/plain": [
       "218063"
      ]
     },
     "execution_count": 32,
     "metadata": {},
     "output_type": "execute_result"
    }
   ],
   "source": [
    "ma2008=mate2008.count()\n",
    "ma2008"
   ]
  },
  {
   "cell_type": "code",
   "execution_count": 33,
   "id": "1ee51c04-7f4b-46ad-9a02-66c979e8d8ed",
   "metadata": {},
   "outputs": [
    {
     "data": {
      "text/plain": [
       "0         376.0\n",
       "1         611.0\n",
       "2           NaN\n",
       "3         534.0\n",
       "4         410.0\n",
       "          ...  \n",
       "277141    376.0\n",
       "277142    334.0\n",
       "277143    477.0\n",
       "277144    498.0\n",
       "277145      NaN\n",
       "Name: P086, Length: 277146, dtype: float64"
      ]
     },
     "execution_count": 33,
     "metadata": {},
     "output_type": "execute_result"
    }
   ],
   "source": [
    "dataset2009 = pd.read_csv('ADM2009.csv',delimiter=';', skiprows=0, low_memory=False)\n",
    "mate2009=dataset2009.iloc[:, 45] # Primera columna\n",
    "mate2009"
   ]
  },
  {
   "cell_type": "code",
   "execution_count": 89,
   "id": "7e562ea6-4d18-499f-95a6-bbc237fd2b3f",
   "metadata": {},
   "outputs": [
    {
     "data": {
      "text/plain": [
       "497.0411952279527"
      ]
     },
     "execution_count": 89,
     "metadata": {},
     "output_type": "execute_result"
    }
   ],
   "source": [
    "mate2009.mean()"
   ]
  },
  {
   "cell_type": "code",
   "execution_count": 34,
   "id": "dd44a11c-e164-4a35-af3c-06649de050e0",
   "metadata": {},
   "outputs": [
    {
     "data": {
      "text/plain": [
       "121113531.0"
      ]
     },
     "execution_count": 34,
     "metadata": {},
     "output_type": "execute_result"
    }
   ],
   "source": [
    "mate2009.sum()\n"
   ]
  },
  {
   "cell_type": "code",
   "execution_count": 35,
   "id": "24e6838e-672b-4bd4-a04a-b91979db7d88",
   "metadata": {},
   "outputs": [
    {
     "data": {
      "text/plain": [
       "0               376.0\n",
       "1               987.0\n",
       "2                 NaN\n",
       "3              1521.0\n",
       "4              1931.0\n",
       "             ...     \n",
       "277141    121112222.0\n",
       "277142    121112556.0\n",
       "277143    121113033.0\n",
       "277144    121113531.0\n",
       "277145            NaN\n",
       "Name: P086, Length: 277146, dtype: float64"
      ]
     },
     "execution_count": 35,
     "metadata": {},
     "output_type": "execute_result"
    }
   ],
   "source": [
    "mate2009.cumsum()\n"
   ]
  },
  {
   "cell_type": "code",
   "execution_count": 36,
   "id": "7d850f39-1a71-493b-8829-b6f41d1a74d7",
   "metadata": {},
   "outputs": [
    {
     "data": {
      "text/plain": [
       "243669"
      ]
     },
     "execution_count": 36,
     "metadata": {},
     "output_type": "execute_result"
    }
   ],
   "source": [
    "ma2009=mate2009.count()\n",
    "ma2009"
   ]
  },
  {
   "cell_type": "code",
   "execution_count": 7,
   "id": "cc8eac6b-7e45-4d91-a453-9f69c29b41e0",
   "metadata": {},
   "outputs": [
    {
     "data": {
      "text/plain": [
       "0         831.0\n",
       "1         238.0\n",
       "2         395.0\n",
       "3         613.0\n",
       "4           NaN\n",
       "          ...  \n",
       "283867    497.0\n",
       "283868    583.0\n",
       "283869    458.0\n",
       "283870    458.0\n",
       "283871    395.0\n",
       "Name: P086, Length: 283872, dtype: float64"
      ]
     },
     "execution_count": 7,
     "metadata": {},
     "output_type": "execute_result"
    }
   ],
   "source": [
    "dataset2010 = pd.read_csv('ADM2010.csv',delimiter=';', skiprows=0, low_memory=False)\n",
    "mate2010=dataset2010.iloc[:, 46] # Primera columna\n",
    "mate2010\n"
   ]
  },
  {
   "cell_type": "code",
   "execution_count": 8,
   "id": "3bc15f2a-298f-4f42-9a83-38d4915e5cee",
   "metadata": {},
   "outputs": [
    {
     "data": {
      "text/plain": [
       "497.23129486007025"
      ]
     },
     "execution_count": 8,
     "metadata": {},
     "output_type": "execute_result"
    }
   ],
   "source": [
    "mate2010.mean()"
   ]
  },
  {
   "cell_type": "code",
   "execution_count": 38,
   "id": "4a3004b5-c2fe-4d4f-ae9f-edc56162e6d0",
   "metadata": {},
   "outputs": [
    {
     "data": {
      "text/plain": [
       "126147634.0"
      ]
     },
     "execution_count": 38,
     "metadata": {},
     "output_type": "execute_result"
    }
   ],
   "source": [
    "mate2010.sum()\n"
   ]
  },
  {
   "cell_type": "code",
   "execution_count": 39,
   "id": "8c9e1d08-b3f4-48b6-b0c3-c9fda1898143",
   "metadata": {},
   "outputs": [
    {
     "data": {
      "text/plain": [
       "0               592.0\n",
       "1               969.0\n",
       "2              1379.0\n",
       "3              2089.0\n",
       "4                 NaN\n",
       "             ...     \n",
       "283867    126145870.0\n",
       "283868    126146378.0\n",
       "283869    126146773.0\n",
       "283870    126147267.0\n",
       "283871    126147634.0\n",
       "Name: P085, Length: 283872, dtype: float64"
      ]
     },
     "execution_count": 39,
     "metadata": {},
     "output_type": "execute_result"
    }
   ],
   "source": [
    "mate2010.cumsum()\n"
   ]
  },
  {
   "cell_type": "code",
   "execution_count": 40,
   "id": "0f0e4eaa-4e22-4535-b183-cbd85de7deec",
   "metadata": {},
   "outputs": [
    {
     "data": {
      "text/plain": [
       "252591"
      ]
     },
     "execution_count": 40,
     "metadata": {},
     "output_type": "execute_result"
    }
   ],
   "source": [
    "ma2010=mate2010.count()\n",
    "ma2010"
   ]
  },
  {
   "cell_type": "code",
   "execution_count": 9,
   "id": "65a406f2-9aa0-443b-a085-007181a692bf",
   "metadata": {},
   "outputs": [
    {
     "data": {
      "text/plain": [
       "0         583.0\n",
       "1         772.0\n",
       "2           NaN\n",
       "3           NaN\n",
       "4         359.0\n",
       "          ...  \n",
       "287528    690.0\n",
       "287529    772.0\n",
       "287530    399.0\n",
       "287531    618.0\n",
       "287532      NaN\n",
       "Name: P086, Length: 287533, dtype: float64"
      ]
     },
     "execution_count": 9,
     "metadata": {},
     "output_type": "execute_result"
    }
   ],
   "source": [
    "mate2011 = pd.read_csv('ADM2011.csv',delimiter=';', skiprows=0, low_memory=False)\n",
    "mate2011=mate2011['P086']\n",
    "mate2011"
   ]
  },
  {
   "cell_type": "code",
   "execution_count": 11,
   "id": "b6474874-452d-45a2-b4b1-946ada162205",
   "metadata": {},
   "outputs": [
    {
     "data": {
      "text/plain": [
       "497.3726429534097"
      ]
     },
     "execution_count": 11,
     "metadata": {},
     "output_type": "execute_result"
    }
   ],
   "source": [
    "mate2011.mean()"
   ]
  },
  {
   "cell_type": "code",
   "execution_count": 111,
   "id": "bd27b366-5c70-4b61-a171-90873efb2d10",
   "metadata": {},
   "outputs": [
    {
     "data": {
      "text/plain": [
       "125596150.0"
      ]
     },
     "execution_count": 111,
     "metadata": {},
     "output_type": "execute_result"
    }
   ],
   "source": [
    "mate2011.sum()"
   ]
  },
  {
   "cell_type": "code",
   "execution_count": 42,
   "id": "3cfc9240-365a-4167-8152-1d1462630db3",
   "metadata": {},
   "outputs": [
    {
     "data": {
      "text/plain": [
       "0               0\n",
       "1               0\n",
       "2               0\n",
       "3               0\n",
       "4               0\n",
       "           ...   \n",
       "287528    3118935\n",
       "287529    3118935\n",
       "287530    3118935\n",
       "287531    3118935\n",
       "287532    3118935\n",
       "Name: P069, Length: 287533, dtype: int64"
      ]
     },
     "execution_count": 100,
     "metadata": {},
     "output_type": "execute_result"
    }
   ],
   "source": [
    "mate2011.cumsum()"
   ]
  },
  {
   "cell_type": "code",
   "execution_count": 43,
   "id": "ebd7e9cd-f7db-43b0-a4dc-9aff6c9d6515",
   "metadata": {},
   "outputs": [
    {
     "data": {
      "text/plain": [
       "287533"
      ]
     },
     "execution_count": 101,
     "metadata": {},
     "output_type": "execute_result"
    }
   ],
   "source": [
    "mate2011.count()"
   ]
  },
  {
   "cell_type": "code",
   "execution_count": 13,
   "id": "de052089-3bbe-437d-8dd4-3a9c35a575c4",
   "metadata": {},
   "outputs": [
    {
     "data": {
      "text/plain": [
       "0         583.0\n",
       "1         551.0\n",
       "2         570.0\n",
       "3         613.0\n",
       "4         341.0\n",
       "          ...  \n",
       "277988    526.0\n",
       "277989    686.0\n",
       "277990    692.0\n",
       "277991    675.0\n",
       "277992    455.0\n",
       "Name: P086, Length: 277993, dtype: float64"
      ]
     },
     "execution_count": 13,
     "metadata": {},
     "output_type": "execute_result"
    }
   ],
   "source": [
    "dataset2012 = pd.read_csv('ADM2012.csv',delimiter=';', skiprows=0, low_memory=False)\n",
    "mate2012=dataset2012['P086']\n",
    "mate2012"
   ]
  },
  {
   "cell_type": "code",
   "execution_count": 14,
   "id": "8413d7b7-0dcd-427f-9ba3-8a485a348cb1",
   "metadata": {},
   "outputs": [
    {
     "data": {
      "text/plain": [
       "476.17181236956304"
      ]
     },
     "execution_count": 14,
     "metadata": {},
     "output_type": "execute_result"
    }
   ],
   "source": [
    "mate2012.mean()"
   ]
  },
  {
   "cell_type": "code",
   "execution_count": 46,
   "id": "7a6fcf0a-cbbb-4758-b02d-7c9e25a94953",
   "metadata": {},
   "outputs": [
    {
     "data": {
      "text/plain": [
       "114993588.0"
      ]
     },
     "execution_count": 46,
     "metadata": {},
     "output_type": "execute_result"
    }
   ],
   "source": [
    "mate2012.sum()"
   ]
  },
  {
   "cell_type": "code",
   "execution_count": 47,
   "id": "6cd00e4a-41b3-4e72-96b5-5105442a4ea3",
   "metadata": {},
   "outputs": [
    {
     "data": {
      "text/plain": [
       "0               583.0\n",
       "1              1134.0\n",
       "2              1704.0\n",
       "3              2317.0\n",
       "4              2658.0\n",
       "             ...     \n",
       "277988    114991080.0\n",
       "277989    114991766.0\n",
       "277990    114992458.0\n",
       "277991    114993133.0\n",
       "277992    114993588.0\n",
       "Name: P086, Length: 277993, dtype: float64"
      ]
     },
     "execution_count": 47,
     "metadata": {},
     "output_type": "execute_result"
    }
   ],
   "source": [
    "mate2012.cumsum()\n"
   ]
  },
  {
   "cell_type": "code",
   "execution_count": 48,
   "id": "f682558e-4651-4d15-a173-735d317744ec",
   "metadata": {},
   "outputs": [
    {
     "data": {
      "text/plain": [
       "241496"
      ]
     },
     "execution_count": 48,
     "metadata": {},
     "output_type": "execute_result"
    }
   ],
   "source": [
    "ma2012=mate2012.count()\n",
    "ma2012"
   ]
  },
  {
   "cell_type": "code",
   "execution_count": 16,
   "id": "dcd3c1bd-d780-48a8-a450-3112c1b0d4bc",
   "metadata": {},
   "outputs": [
    {
     "data": {
      "text/plain": [
       "0         677.0\n",
       "1         493.0\n",
       "2         548.0\n",
       "3         627.0\n",
       "4         627.0\n",
       "          ...  \n",
       "278350    592.0\n",
       "278351    327.0\n",
       "278352      NaN\n",
       "278353    617.0\n",
       "278354    708.0\n",
       "Name: P086, Length: 278355, dtype: float64"
      ]
     },
     "execution_count": 16,
     "metadata": {},
     "output_type": "execute_result"
    }
   ],
   "source": [
    "dataset2013 = pd.read_csv('ADM2013.csv',delimiter=';', skiprows=0, low_memory=False)\n",
    "mate2013=dataset2013['P086']\n",
    "mate2013\n"
   ]
  },
  {
   "cell_type": "code",
   "execution_count": 17,
   "id": "d06eb730-d4d8-4be3-8ea2-b8da46258709",
   "metadata": {},
   "outputs": [
    {
     "data": {
      "text/plain": [
       "476.5336670334905"
      ]
     },
     "execution_count": 17,
     "metadata": {},
     "output_type": "execute_result"
    }
   ],
   "source": [
    "mate2013.mean()"
   ]
  },
  {
   "cell_type": "code",
   "execution_count": 50,
   "id": "2b11a83e-4937-4f9f-b95a-598bee7bab10",
   "metadata": {},
   "outputs": [
    {
     "data": {
      "text/plain": [
       "116051197.0"
      ]
     },
     "execution_count": 50,
     "metadata": {},
     "output_type": "execute_result"
    }
   ],
   "source": [
    "mate2013.sum()\n"
   ]
  },
  {
   "cell_type": "code",
   "execution_count": 51,
   "id": "69960c71-1377-4bbd-9f79-515365ceb175",
   "metadata": {},
   "outputs": [
    {
     "data": {
      "text/plain": [
       "0               677.0\n",
       "1              1170.0\n",
       "2              1718.0\n",
       "3              2345.0\n",
       "4              2972.0\n",
       "             ...     \n",
       "278350    116049545.0\n",
       "278351    116049872.0\n",
       "278352            NaN\n",
       "278353    116050489.0\n",
       "278354    116051197.0\n",
       "Name: P086, Length: 278355, dtype: float64"
      ]
     },
     "execution_count": 51,
     "metadata": {},
     "output_type": "execute_result"
    }
   ],
   "source": [
    "mate2013.cumsum()\n"
   ]
  },
  {
   "cell_type": "code",
   "execution_count": 52,
   "id": "ddfec9c5-617d-479c-bf4a-c34cb602be03",
   "metadata": {},
   "outputs": [
    {
     "data": {
      "text/plain": [
       "243532"
      ]
     },
     "execution_count": 52,
     "metadata": {},
     "output_type": "execute_result"
    }
   ],
   "source": [
    "ma2013=mate2013.count()\n",
    "ma2013"
   ]
  },
  {
   "cell_type": "code",
   "execution_count": 19,
   "id": "efd712a7-e738-4980-8cb5-dce3a0564fa2",
   "metadata": {},
   "outputs": [
    {
     "data": {
      "text/plain": [
       "0         640.0\n",
       "1         545.0\n",
       "2         592.0\n",
       "3         374.0\n",
       "4         425.0\n",
       "          ...  \n",
       "276308    564.0\n",
       "276309      NaN\n",
       "276310    668.0\n",
       "276311    727.0\n",
       "276312    597.0\n",
       "Name: P086, Length: 276313, dtype: float64"
      ]
     },
     "execution_count": 19,
     "metadata": {},
     "output_type": "execute_result"
    }
   ],
   "source": [
    "dataset2014 = pd.read_csv('ADM2014.csv',delimiter=';', skiprows=0, low_memory=False)\n",
    "mate2014=dataset2014['P086']\n",
    "mate2014\n"
   ]
  },
  {
   "cell_type": "code",
   "execution_count": 20,
   "id": "2effd176-06b4-4d84-bc96-10b7a0528419",
   "metadata": {},
   "outputs": [
    {
     "data": {
      "text/plain": [
       "477.88805190838434"
      ]
     },
     "execution_count": 20,
     "metadata": {},
     "output_type": "execute_result"
    }
   ],
   "source": [
    "mate2014.mean()"
   ]
  },
  {
   "cell_type": "code",
   "execution_count": 54,
   "id": "1a5d6470-94b6-40bd-8f75-585f7ce89a66",
   "metadata": {},
   "outputs": [
    {
     "data": {
      "text/plain": [
       "115779372.0"
      ]
     },
     "execution_count": 54,
     "metadata": {},
     "output_type": "execute_result"
    }
   ],
   "source": [
    "mate2014.sum()\n"
   ]
  },
  {
   "cell_type": "code",
   "execution_count": 55,
   "id": "1444cf98-a3f9-499b-b4b1-c2ba1c5d10ea",
   "metadata": {},
   "outputs": [
    {
     "data": {
      "text/plain": [
       "0               640.0\n",
       "1              1185.0\n",
       "2              1777.0\n",
       "3              2151.0\n",
       "4              2576.0\n",
       "             ...     \n",
       "276308    115777380.0\n",
       "276309            NaN\n",
       "276310    115778048.0\n",
       "276311    115778775.0\n",
       "276312    115779372.0\n",
       "Name: P086, Length: 276313, dtype: float64"
      ]
     },
     "execution_count": 55,
     "metadata": {},
     "output_type": "execute_result"
    }
   ],
   "source": [
    "mate2014.cumsum()\n"
   ]
  },
  {
   "cell_type": "code",
   "execution_count": 56,
   "id": "c8a4514f-59ec-4a97-916e-b488620c2dd3",
   "metadata": {},
   "outputs": [
    {
     "data": {
      "text/plain": [
       "242273"
      ]
     },
     "execution_count": 56,
     "metadata": {},
     "output_type": "execute_result"
    }
   ],
   "source": [
    "ma2014=mate2014.count()\n",
    "ma2014"
   ]
  },
  {
   "cell_type": "code",
   "execution_count": 22,
   "id": "6e6a8ef0-a34b-463f-94e4-5eff80374a1a",
   "metadata": {},
   "outputs": [
    {
     "data": {
      "text/plain": [
       "0         673.0\n",
       "1         370.0\n",
       "2         582.0\n",
       "3         639.0\n",
       "4         626.0\n",
       "          ...  \n",
       "288175    527.0\n",
       "288176      NaN\n",
       "288177      NaN\n",
       "288178      NaN\n",
       "288179    561.0\n",
       "Name: P086, Length: 288180, dtype: float64"
      ]
     },
     "execution_count": 22,
     "metadata": {},
     "output_type": "execute_result"
    }
   ],
   "source": [
    "dataset2015 = pd.read_csv('ADM2015.csv',delimiter=';', skiprows=0, low_memory=False)\n",
    "mate2015=dataset2015['P086']\n",
    "mate2015\n"
   ]
  },
  {
   "cell_type": "code",
   "execution_count": 23,
   "id": "c564ac3c-bfd7-4d32-a83d-2aaf1264fa6f",
   "metadata": {},
   "outputs": [
    {
     "data": {
      "text/plain": [
       "479.3039788211477"
      ]
     },
     "execution_count": 23,
     "metadata": {},
     "output_type": "execute_result"
    }
   ],
   "source": [
    "mate2015.mean()"
   ]
  },
  {
   "cell_type": "code",
   "execution_count": 58,
   "id": "fd7aac33-a5cb-426b-8c0d-d47fb17b895f",
   "metadata": {},
   "outputs": [
    {
     "data": {
      "text/plain": [
       "123114020.0"
      ]
     },
     "execution_count": 58,
     "metadata": {},
     "output_type": "execute_result"
    }
   ],
   "source": [
    "mate2015.sum()\n"
   ]
  },
  {
   "cell_type": "code",
   "execution_count": 59,
   "id": "a33257e1-ff18-4320-88c3-774e196057eb",
   "metadata": {},
   "outputs": [
    {
     "data": {
      "text/plain": [
       "0               673.0\n",
       "1              1043.0\n",
       "2              1625.0\n",
       "3              2264.0\n",
       "4              2890.0\n",
       "             ...     \n",
       "288175    123113459.0\n",
       "288176            NaN\n",
       "288177            NaN\n",
       "288178            NaN\n",
       "288179    123114020.0\n",
       "Name: P086, Length: 288180, dtype: float64"
      ]
     },
     "execution_count": 59,
     "metadata": {},
     "output_type": "execute_result"
    }
   ],
   "source": [
    "mate2015.cumsum()\n"
   ]
  },
  {
   "cell_type": "code",
   "execution_count": 60,
   "id": "8a6edf6c-1202-417f-9d8c-8bdb7237623a",
   "metadata": {},
   "outputs": [
    {
     "data": {
      "text/plain": [
       "256860"
      ]
     },
     "execution_count": 60,
     "metadata": {},
     "output_type": "execute_result"
    }
   ],
   "source": [
    "ma2015=mate2015.count()\n",
    "ma2015"
   ]
  },
  {
   "cell_type": "code",
   "execution_count": 24,
   "id": "6950082d-3fa9-420c-bb6e-2912ef8d3b1b",
   "metadata": {},
   "outputs": [
    {
     "data": {
      "text/plain": [
       "0         649.0\n",
       "1         516.0\n",
       "2         641.0\n",
       "3         707.0\n",
       "4         532.0\n",
       "          ...  \n",
       "297710    442.0\n",
       "297711    658.0\n",
       "297712    558.0\n",
       "297713      NaN\n",
       "297714    472.0\n",
       "Name: P086, Length: 297715, dtype: float64"
      ]
     },
     "execution_count": 24,
     "metadata": {},
     "output_type": "execute_result"
    }
   ],
   "source": [
    "dataset2016 = pd.read_csv('ADM2016.csv',delimiter=';', skiprows=0, low_memory=False)\n",
    "mate2016=dataset2016['P086']\n",
    "mate2016"
   ]
  },
  {
   "cell_type": "code",
   "execution_count": 25,
   "id": "d91d2863-479e-4701-b025-045c74350e0e",
   "metadata": {},
   "outputs": [
    {
     "data": {
      "text/plain": [
       "473.30687242627806"
      ]
     },
     "execution_count": 25,
     "metadata": {},
     "output_type": "execute_result"
    }
   ],
   "source": [
    "mate2016.mean()"
   ]
  },
  {
   "cell_type": "code",
   "execution_count": 62,
   "id": "fedaaf5f-84a7-4545-842e-6f358b4c839a",
   "metadata": {},
   "outputs": [
    {
     "data": {
      "text/plain": [
       "125626530.0"
      ]
     },
     "execution_count": 62,
     "metadata": {},
     "output_type": "execute_result"
    }
   ],
   "source": [
    "mate2016.sum()"
   ]
  },
  {
   "cell_type": "code",
   "execution_count": 63,
   "id": "3380ab09-81c5-473e-9681-41f756722290",
   "metadata": {},
   "outputs": [
    {
     "data": {
      "text/plain": [
       "0               649.0\n",
       "1              1165.0\n",
       "2              1806.0\n",
       "3              2513.0\n",
       "4              3045.0\n",
       "             ...     \n",
       "297710    125624842.0\n",
       "297711    125625500.0\n",
       "297712    125626058.0\n",
       "297713            NaN\n",
       "297714    125626530.0\n",
       "Name: P086, Length: 297715, dtype: float64"
      ]
     },
     "execution_count": 63,
     "metadata": {},
     "output_type": "execute_result"
    }
   ],
   "source": [
    "mate2016.cumsum()"
   ]
  },
  {
   "cell_type": "code",
   "execution_count": 64,
   "id": "744bffe7-7e14-42f7-a2b8-bd58acb3fbe7",
   "metadata": {},
   "outputs": [
    {
     "data": {
      "text/plain": [
       "265423"
      ]
     },
     "execution_count": 64,
     "metadata": {},
     "output_type": "execute_result"
    }
   ],
   "source": [
    "ma2016=mate2016.count()\n",
    "ma2016"
   ]
  },
  {
   "cell_type": "code",
   "execution_count": 26,
   "id": "7d1e700f-6bfd-469c-afd1-93012455118f",
   "metadata": {},
   "outputs": [
    {
     "data": {
      "text/plain": [
       "0         204.0\n",
       "1         403.0\n",
       "2           NaN\n",
       "3         360.0\n",
       "4         312.0\n",
       "          ...  \n",
       "297556      NaN\n",
       "297557      NaN\n",
       "297558      NaN\n",
       "297559      NaN\n",
       "297560      NaN\n",
       "Name: P086, Length: 297561, dtype: float64"
      ]
     },
     "execution_count": 26,
     "metadata": {},
     "output_type": "execute_result"
    }
   ],
   "source": [
    "dataset2017 = pd.read_csv('ADM2017.csv',delimiter=';', skiprows=0, low_memory=False)\n",
    "mate2017=dataset2017['P086']\n",
    "mate2017\n"
   ]
  },
  {
   "cell_type": "code",
   "execution_count": 27,
   "id": "04373501-5440-49e7-b515-456a4a50a3da",
   "metadata": {},
   "outputs": [
    {
     "data": {
      "text/plain": [
       "476.60039583117134"
      ]
     },
     "execution_count": 27,
     "metadata": {},
     "output_type": "execute_result"
    }
   ],
   "source": [
    "mate2017.mean()"
   ]
  },
  {
   "cell_type": "code",
   "execution_count": 66,
   "id": "8cccfa33-528b-42f3-aa08-55497aba1fa4",
   "metadata": {},
   "outputs": [
    {
     "data": {
      "text/plain": [
       "128592506.0"
      ]
     },
     "execution_count": 66,
     "metadata": {},
     "output_type": "execute_result"
    }
   ],
   "source": [
    "mate2017.sum()\n"
   ]
  },
  {
   "cell_type": "code",
   "execution_count": 67,
   "id": "f7b8eb52-c556-4c83-9d8a-60338084487c",
   "metadata": {},
   "outputs": [
    {
     "data": {
      "text/plain": [
       "0          204.0\n",
       "1          607.0\n",
       "2            NaN\n",
       "3          967.0\n",
       "4         1279.0\n",
       "           ...  \n",
       "297556       NaN\n",
       "297557       NaN\n",
       "297558       NaN\n",
       "297559       NaN\n",
       "297560       NaN\n",
       "Name: P086, Length: 297561, dtype: float64"
      ]
     },
     "execution_count": 67,
     "metadata": {},
     "output_type": "execute_result"
    }
   ],
   "source": [
    "mate2017.cumsum()"
   ]
  },
  {
   "cell_type": "code",
   "execution_count": 68,
   "id": "de1c0643-9b8d-4cc5-91ba-27f0fd5c5168",
   "metadata": {},
   "outputs": [
    {
     "data": {
      "text/plain": [
       "269812"
      ]
     },
     "execution_count": 68,
     "metadata": {},
     "output_type": "execute_result"
    }
   ],
   "source": [
    "ma2017=mate2017.count()\n",
    "ma2017"
   ]
  },
  {
   "cell_type": "code",
   "execution_count": 30,
   "id": "06817bae-dddd-4d0f-9263-43a3e1b97c41",
   "metadata": {},
   "outputs": [
    {
     "data": {
      "text/plain": [
       "0           NaN\n",
       "1         481.0\n",
       "2         495.0\n",
       "3         544.0\n",
       "4         570.0\n",
       "          ...  \n",
       "303888      NaN\n",
       "303889      NaN\n",
       "303890      NaN\n",
       "303891      NaN\n",
       "303892    465.0\n",
       "Name: P086, Length: 303893, dtype: float64"
      ]
     },
     "execution_count": 30,
     "metadata": {},
     "output_type": "execute_result"
    }
   ],
   "source": [
    "dataset2018 = pd.read_csv('ADM2018.csv',delimiter=';', skiprows=0, low_memory=False)\n",
    "mate2018=dataset2018['P086']\n",
    "mate2018\n"
   ]
  },
  {
   "cell_type": "code",
   "execution_count": 31,
   "id": "6878faa0-774a-4d77-b77d-89621be99fef",
   "metadata": {},
   "outputs": [
    {
     "data": {
      "text/plain": [
       "480.16867759038246"
      ]
     },
     "execution_count": 31,
     "metadata": {},
     "output_type": "execute_result"
    }
   ],
   "source": [
    "mate2018.mean()"
   ]
  },
  {
   "cell_type": "code",
   "execution_count": 70,
   "id": "6b18038a-ceeb-4d83-b46b-f6bbdb83d14f",
   "metadata": {},
   "outputs": [
    {
     "data": {
      "text/plain": [
       "132045426.0"
      ]
     },
     "execution_count": 70,
     "metadata": {},
     "output_type": "execute_result"
    }
   ],
   "source": [
    "mate2018.sum()\n"
   ]
  },
  {
   "cell_type": "code",
   "execution_count": 71,
   "id": "c8ace897-8670-41cd-8710-0421297d0d99",
   "metadata": {},
   "outputs": [
    {
     "data": {
      "text/plain": [
       "0                 NaN\n",
       "1               481.0\n",
       "2               976.0\n",
       "3              1520.0\n",
       "4              2090.0\n",
       "             ...     \n",
       "303888            NaN\n",
       "303889            NaN\n",
       "303890            NaN\n",
       "303891            NaN\n",
       "303892    132045426.0\n",
       "Name: P086, Length: 303893, dtype: float64"
      ]
     },
     "execution_count": 71,
     "metadata": {},
     "output_type": "execute_result"
    }
   ],
   "source": [
    "mate2018.cumsum()\n"
   ]
  },
  {
   "cell_type": "code",
   "execution_count": 72,
   "id": "0b4a8e1c-c0ec-4f14-96f6-9ca56572670f",
   "metadata": {},
   "outputs": [
    {
     "data": {
      "text/plain": [
       "274998"
      ]
     },
     "execution_count": 72,
     "metadata": {},
     "output_type": "execute_result"
    }
   ],
   "source": [
    "ma2018=mate2018.count()\n",
    "ma2018"
   ]
  },
  {
   "cell_type": "code",
   "execution_count": 32,
   "id": "7950509c-3999-4512-8403-fe99b9f67674",
   "metadata": {},
   "outputs": [
    {
     "data": {
      "text/plain": [
       "0           0.0\n",
       "1         403.0\n",
       "2         535.0\n",
       "3         544.0\n",
       "4           NaN\n",
       "          ...  \n",
       "303638    465.0\n",
       "303639      NaN\n",
       "303640      NaN\n",
       "303641      NaN\n",
       "303642      NaN\n",
       "Name: P086, Length: 303643, dtype: float64"
      ]
     },
     "execution_count": 32,
     "metadata": {},
     "output_type": "execute_result"
    }
   ],
   "source": [
    "dataset2019 = pd.read_csv('ADM2019.csv',delimiter=';', skiprows=0, low_memory=False)\n",
    "mate2019=dataset2019['P086']\n",
    "mate2019"
   ]
  },
  {
   "cell_type": "code",
   "execution_count": 33,
   "id": "ad46b13c-97a3-4f74-af5a-19c88f3f5bf0",
   "metadata": {},
   "outputs": [
    {
     "data": {
      "text/plain": [
       "472.3991746510209"
      ]
     },
     "execution_count": 33,
     "metadata": {},
     "output_type": "execute_result"
    }
   ],
   "source": [
    "mate2019.mean()"
   ]
  },
  {
   "cell_type": "code",
   "execution_count": 74,
   "id": "8f7efbb8-8431-4519-938e-ef8c955cf0d2",
   "metadata": {},
   "outputs": [
    {
     "data": {
      "text/plain": [
       "131643478.0"
      ]
     },
     "execution_count": 74,
     "metadata": {},
     "output_type": "execute_result"
    }
   ],
   "source": [
    "mate2019.sum()"
   ]
  },
  {
   "cell_type": "code",
   "execution_count": 75,
   "id": "10394d3c-8865-4423-a49e-607860750be5",
   "metadata": {},
   "outputs": [
    {
     "data": {
      "text/plain": [
       "0                 0.0\n",
       "1               403.0\n",
       "2               938.0\n",
       "3              1482.0\n",
       "4                 NaN\n",
       "             ...     \n",
       "303638    131643478.0\n",
       "303639            NaN\n",
       "303640            NaN\n",
       "303641            NaN\n",
       "303642            NaN\n",
       "Name: P086, Length: 303643, dtype: float64"
      ]
     },
     "execution_count": 75,
     "metadata": {},
     "output_type": "execute_result"
    }
   ],
   "source": [
    "mate2019.cumsum()"
   ]
  },
  {
   "cell_type": "code",
   "execution_count": 76,
   "id": "3ad3544e-8ab7-4c11-a769-d788d2a676e9",
   "metadata": {},
   "outputs": [
    {
     "data": {
      "text/plain": [
       "278670"
      ]
     },
     "execution_count": 76,
     "metadata": {},
     "output_type": "execute_result"
    }
   ],
   "source": [
    "ma2019=mate2019.count()\n",
    "ma2019"
   ]
  },
  {
   "cell_type": "code",
   "execution_count": 34,
   "id": "db04e616-0a40-4703-af97-5f5134077d21",
   "metadata": {},
   "outputs": [
    {
     "data": {
      "text/plain": [
       "0         388.0\n",
       "1         264.0\n",
       "2           NaN\n",
       "3         493.0\n",
       "4           0.0\n",
       "          ...  \n",
       "305799      0.0\n",
       "305800    415.0\n",
       "305801    375.0\n",
       "305802      NaN\n",
       "305803    410.0\n",
       "Name: P086, Length: 305804, dtype: float64"
      ]
     },
     "execution_count": 34,
     "metadata": {},
     "output_type": "execute_result"
    }
   ],
   "source": [
    "dataset2020 = pd.read_csv('ADM2020.csv',delimiter=';', skiprows=0, low_memory=False)\n",
    "mate2020=dataset2020['P086']\n",
    "mate2020\n"
   ]
  },
  {
   "cell_type": "code",
   "execution_count": 35,
   "id": "fe77e276-cd1e-4a1e-ad3b-7097ef460ea7",
   "metadata": {},
   "outputs": [
    {
     "data": {
      "text/plain": [
       "414.69919369460285"
      ]
     },
     "execution_count": 35,
     "metadata": {},
     "output_type": "execute_result"
    }
   ],
   "source": [
    "mate2020.mean()"
   ]
  },
  {
   "cell_type": "code",
   "execution_count": 78,
   "id": "27bd09ad-f58b-4434-b7c8-c8061492530f",
   "metadata": {},
   "outputs": [
    {
     "data": {
      "text/plain": [
       "121225283.0"
      ]
     },
     "execution_count": 78,
     "metadata": {},
     "output_type": "execute_result"
    }
   ],
   "source": [
    "mate2020.sum()\n"
   ]
  },
  {
   "cell_type": "code",
   "execution_count": 79,
   "id": "63e5fc6d-bfab-4cb8-88ba-af4acb0626ef",
   "metadata": {},
   "outputs": [
    {
     "data": {
      "text/plain": [
       "0               388.0\n",
       "1               652.0\n",
       "2                 NaN\n",
       "3              1145.0\n",
       "4              1145.0\n",
       "             ...     \n",
       "305799    121224083.0\n",
       "305800    121224498.0\n",
       "305801    121224873.0\n",
       "305802            NaN\n",
       "305803    121225283.0\n",
       "Name: P086, Length: 305804, dtype: float64"
      ]
     },
     "execution_count": 79,
     "metadata": {},
     "output_type": "execute_result"
    }
   ],
   "source": [
    "mate2020.cumsum()\n"
   ]
  },
  {
   "cell_type": "code",
   "execution_count": 80,
   "id": "321974a0-4689-456c-bc4e-b87a3c97ce42",
   "metadata": {},
   "outputs": [
    {
     "data": {
      "text/plain": [
       "292321"
      ]
     },
     "execution_count": 80,
     "metadata": {},
     "output_type": "execute_result"
    }
   ],
   "source": [
    "ma2020=mate2020.count()\n",
    "ma2020"
   ]
  },
  {
   "cell_type": "code",
   "execution_count": 36,
   "id": "f20e35f8-5f52-4b9b-b938-448781c9c915",
   "metadata": {},
   "outputs": [
    {
     "data": {
      "text/plain": [
       "0           NaN\n",
       "1         431.0\n",
       "2           0.0\n",
       "3         475.0\n",
       "4         454.0\n",
       "          ...  \n",
       "272479      NaN\n",
       "272480    405.0\n",
       "272481    589.0\n",
       "272482      NaN\n",
       "272483      NaN\n",
       "Name: P086, Length: 272484, dtype: float64"
      ]
     },
     "execution_count": 36,
     "metadata": {},
     "output_type": "execute_result"
    }
   ],
   "source": [
    "dataset2021 = pd.read_csv('ADM2021.csv',delimiter=';', skiprows=0, low_memory=False)\n",
    "mate2021=dataset2021['P086']\n",
    "mate2021\n"
   ]
  },
  {
   "cell_type": "code",
   "execution_count": 37,
   "id": "0d48ae07-a8a8-46e9-95d5-4a7a3f6effed",
   "metadata": {},
   "outputs": [
    {
     "data": {
      "text/plain": [
       "470.8099144782924"
      ]
     },
     "execution_count": 37,
     "metadata": {},
     "output_type": "execute_result"
    }
   ],
   "source": [
    "mate2021.mean()"
   ]
  },
  {
   "cell_type": "code",
   "execution_count": 82,
   "id": "3dc67843-640b-4fb4-ab52-6a37d60726d9",
   "metadata": {},
   "outputs": [
    {
     "data": {
      "text/plain": [
       "112250029.0"
      ]
     },
     "execution_count": 82,
     "metadata": {},
     "output_type": "execute_result"
    }
   ],
   "source": [
    "mate2021.sum()\n"
   ]
  },
  {
   "cell_type": "code",
   "execution_count": 83,
   "id": "f03be194-de74-4dc0-a55e-85e8121f682a",
   "metadata": {},
   "outputs": [
    {
     "data": {
      "text/plain": [
       "0                 NaN\n",
       "1               431.0\n",
       "2               431.0\n",
       "3               906.0\n",
       "4              1360.0\n",
       "             ...     \n",
       "272479            NaN\n",
       "272480    112249440.0\n",
       "272481    112250029.0\n",
       "272482            NaN\n",
       "272483            NaN\n",
       "Name: P086, Length: 272484, dtype: float64"
      ]
     },
     "execution_count": 83,
     "metadata": {},
     "output_type": "execute_result"
    }
   ],
   "source": [
    "mate2021.cumsum()\n"
   ]
  },
  {
   "cell_type": "code",
   "execution_count": 84,
   "id": "febd9257-8926-4d36-a5bd-4d3e2549e9d8",
   "metadata": {},
   "outputs": [
    {
     "data": {
      "text/plain": [
       "238419"
      ]
     },
     "execution_count": 84,
     "metadata": {},
     "output_type": "execute_result"
    }
   ],
   "source": [
    "ma2021=mate2021.count()\n",
    "ma2021"
   ]
  },
  {
   "cell_type": "code",
   "execution_count": 23,
   "id": "502c69fe-6b05-45e0-b7b5-4184ae4043dd",
   "metadata": {},
   "outputs": [
    {
     "data": {
      "text/html": [
       "<div>\n",
       "<style scoped>\n",
       "    .dataframe tbody tr th:only-of-type {\n",
       "        vertical-align: middle;\n",
       "    }\n",
       "\n",
       "    .dataframe tbody tr th {\n",
       "        vertical-align: top;\n",
       "    }\n",
       "\n",
       "    .dataframe thead th {\n",
       "        text-align: right;\n",
       "    }\n",
       "</style>\n",
       "<table border=\"1\" class=\"dataframe\">\n",
       "  <thead>\n",
       "    <tr style=\"text-align: right;\">\n",
       "      <th></th>\n",
       "      <th>año</th>\n",
       "      <th>Prom PSU Matemáticas</th>\n",
       "    </tr>\n",
       "  </thead>\n",
       "  <tbody>\n",
       "    <tr>\n",
       "      <th>0</th>\n",
       "      <td>2004</td>\n",
       "      <td>497.86</td>\n",
       "    </tr>\n",
       "    <tr>\n",
       "      <th>1</th>\n",
       "      <td>2005</td>\n",
       "      <td>498.92</td>\n",
       "    </tr>\n",
       "    <tr>\n",
       "      <th>2</th>\n",
       "      <td>2006</td>\n",
       "      <td>499.24</td>\n",
       "    </tr>\n",
       "    <tr>\n",
       "      <th>3</th>\n",
       "      <td>2007</td>\n",
       "      <td>496.65</td>\n",
       "    </tr>\n",
       "    <tr>\n",
       "      <th>4</th>\n",
       "      <td>2008</td>\n",
       "      <td>497.38</td>\n",
       "    </tr>\n",
       "    <tr>\n",
       "      <th>5</th>\n",
       "      <td>2009</td>\n",
       "      <td>497.04</td>\n",
       "    </tr>\n",
       "    <tr>\n",
       "      <th>6</th>\n",
       "      <td>2010</td>\n",
       "      <td>499.41</td>\n",
       "    </tr>\n",
       "    <tr>\n",
       "      <th>7</th>\n",
       "      <td>2011</td>\n",
       "      <td>497.37</td>\n",
       "    </tr>\n",
       "    <tr>\n",
       "      <th>8</th>\n",
       "      <td>2012</td>\n",
       "      <td>476.17</td>\n",
       "    </tr>\n",
       "    <tr>\n",
       "      <th>9</th>\n",
       "      <td>2013</td>\n",
       "      <td>476.53</td>\n",
       "    </tr>\n",
       "    <tr>\n",
       "      <th>10</th>\n",
       "      <td>2014</td>\n",
       "      <td>477.80</td>\n",
       "    </tr>\n",
       "    <tr>\n",
       "      <th>11</th>\n",
       "      <td>2015</td>\n",
       "      <td>479.30</td>\n",
       "    </tr>\n",
       "    <tr>\n",
       "      <th>12</th>\n",
       "      <td>2016</td>\n",
       "      <td>473.30</td>\n",
       "    </tr>\n",
       "    <tr>\n",
       "      <th>13</th>\n",
       "      <td>2017</td>\n",
       "      <td>476.60</td>\n",
       "    </tr>\n",
       "    <tr>\n",
       "      <th>14</th>\n",
       "      <td>2018</td>\n",
       "      <td>480.16</td>\n",
       "    </tr>\n",
       "    <tr>\n",
       "      <th>15</th>\n",
       "      <td>2019</td>\n",
       "      <td>472.39</td>\n",
       "    </tr>\n",
       "    <tr>\n",
       "      <th>16</th>\n",
       "      <td>2020</td>\n",
       "      <td>414.69</td>\n",
       "    </tr>\n",
       "    <tr>\n",
       "      <th>17</th>\n",
       "      <td>2021</td>\n",
       "      <td>470.80</td>\n",
       "    </tr>\n",
       "  </tbody>\n",
       "</table>\n",
       "</div>"
      ],
      "text/plain": [
       "     año  Prom PSU Matemáticas\n",
       "0   2004                497.86\n",
       "1   2005                498.92\n",
       "2   2006                499.24\n",
       "3   2007                496.65\n",
       "4   2008                497.38\n",
       "5   2009                497.04\n",
       "6   2010                499.41\n",
       "7   2011                497.37\n",
       "8   2012                476.17\n",
       "9   2013                476.53\n",
       "10  2014                477.80\n",
       "11  2015                479.30\n",
       "12  2016                473.30\n",
       "13  2017                476.60\n",
       "14  2018                480.16\n",
       "15  2019                472.39\n",
       "16  2020                414.69\n",
       "17  2021                470.80"
      ]
     },
     "execution_count": 23,
     "metadata": {},
     "output_type": "execute_result"
    }
   ],
   "source": [
    "datasetprom={'año' : ['2004','2005','2006','2007','2008','2009','2010','2011','2012','2013','2014','2015','2016'\n",
    "                     ,'2017','2018','2019','2020','2021'],\n",
    "             'Prom PSU Matemáticas': [497.86,498.92,499.24,496.65,497.38,497.04,499.41,497.37,476.17,476.53,477.8,479.30,\n",
    "                                            473.30,476.60,480.16,472.39,414.69,470.80]}\n",
    "alumn = pd.DataFrame(datasetprom, columns = ['año', 'Prom PSU Matemáticas'])\n",
    "alumn"
   ]
  },
  {
   "cell_type": "code",
   "execution_count": 24,
   "id": "422ae522-0369-4440-9924-2419da111c81",
   "metadata": {},
   "outputs": [
    {
     "data": {
      "text/plain": [
       "<matplotlib.collections.PathCollection at 0x19fbbabfa60>"
      ]
     },
     "execution_count": 24,
     "metadata": {},
     "output_type": "execute_result"
    },
    {
     "data": {
      "image/png": "[encoded data removed]",
      "text/plain": [
       "<Figure size 432x288 with 1 Axes>"
      ]
     },
     "metadata": {
      "needs_background": "light"
     },
     "output_type": "display_data"
    }
   ],
   "source": [
    "plt.scatter(alumn['año'],alumn['Prom PSU Matemáticas'])"
   ]
  },
  {
   "cell_type": "code",
   "execution_count": 54,
   "id": "2bd0dd8e-d0c2-4f9f-b6a9-cca79193e99e",
   "metadata": {},
   "outputs": [
    {
     "data": {
      "application/vnd.plotly.v1+json": {
       "config": {
        "plotlyServerURL": "https://plot.ly"
       },
       "data": [
        {
         "hovertemplate": "año=%{x}<br>Prom PSU Matemáticas=%{y}<extra></extra>",
         "legendgroup": "",
         "line": {
          "color": "#636efa",
          "dash": "solid"
         },
         "marker": {
          "symbol": "circle"
         },
         "mode": "lines",
         "name": "",
         "orientation": "v",
         "showlegend": false,
         "type": "scatter",
         "x": [
          "2004",
          "2005",
          "2006",
          "2007",
          "2008",
          "2009",
          "2010",
          "2011",
          "2012",
          "2013",
          "2014",
          "2015",
          "2016",
          "2017",
          "2018",
          "2019",
          "2020",
          "2021"
         ],
         "xaxis": "x",
         "y": [
          497.86,
          498.92,
          499.24,
          496.65,
          497.38,
          497.04,
          499.41,
          497.37,
          476.17,
          476.53,
          477.8,
          479.3,
          473.3,
          476.6,
          480.16,
          472.39,
          414.69,
          470.8
         ],
         "yaxis": "y"
        }
       ],
       "layout": {
        "annotations": [
         {
          "text": "497",
          "x": 2004,
          "y": 497.86
         },
         {
          "text": "498",
          "x": 2005,
          "y": 498.92
         },
         {
          "text": "499",
          "x": 2006,
          "y": 499.24
         },
         {
          "text": "496",
          "x": 2007,
          "y": 496.65
         },
         {
          "text": "497",
          "x": 2008,
          "y": 497.38
         },
         {
          "text": "497",
          "x": 2009,
          "y": 497.04
         },
         {
          "text": "499",
          "x": 2010,
          "y": 499.41
         },
         {
          "text": "497",
          "x": 2011,
          "y": 497.37
         },
         {
          "text": "476",
          "x": 2012,
          "y": 476.17
         },
         {
          "text": "476",
          "x": 2013,
          "y": 476.53
         },
         {
          "text": "477",
          "x": 2014,
          "y": 477.8
         },
         {
          "text": "479",
          "x": 2015,
          "y": 479.3
         },
         {
          "text": "473",
          "x": 2016,
          "y": 473.3
         },
         {
          "text": "476",
          "x": 2017,
          "y": 476.6
         },
         {
          "text": "480",
          "x": 2018,
          "y": 480.16
         },
         {
          "text": "472",
          "x": 2019,
          "y": 472.39
         },
         {
          "text": "414",
          "x": 2020,
          "y": 414.69
         },
         {
          "text": "470",
          "x": 2021,
          "y": 470.8
         }
        ],
        "autosize": true,
        "legend": {
         "tracegroupgap": 0
        },
        "margin": {
         "t": 60
        },
        "template": {
         "layout": {
          "annotationdefaults": {
           "font": {
            "color": "crimson"
           }
          }
         }
        },
        "title": {
         "text": "Promedio PSU Matemáticas a travez de los años"
        },
        "xaxis": {
         "anchor": "y",
         "autorange": true,
         "domain": [
          0,
          1
         ],
         "range": [
          2003.4950495049504,
          2021.1346534653464
         ],
         "title": {
          "text": "Año"
         },
         "type": "linear"
        },
        "yaxis": {
         "anchor": "x",
         "autorange": true,
         "domain": [
          0,
          1
         ],
         "range": [
          409.1756804733728,
          519.4620710059172
         ],
         "title": {
          "text": "Prom PSU Matemáticas"
         },
         "type": "linear"
        }
       }
      },
      "image/png": "[encoded data removed]",
      "text/html": [
       "<div>                            <div id=\"0d1ab0fa-6c09-4fd8-9659-a0493d6d6868\" class=\"plotly-graph-div\" style=\"height:525px; width:100%;\"></div>            <script type=\"text/javascript\">                require([\"plotly\"], function(Plotly) {                    window.PLOTLYENV=window.PLOTLYENV || {};                                    if (document.getElementById(\"0d1ab0fa-6c09-4fd8-9659-a0493d6d6868\")) {                    Plotly.newPlot(                        \"0d1ab0fa-6c09-4fd8-9659-a0493d6d6868\",                        [{\"hovertemplate\":\"a\\u00f1o=%{x}<br>Prom PSU Matem\\u00e1ticas=%{y}<extra></extra>\",\"legendgroup\":\"\",\"line\":{\"color\":\"#636efa\",\"dash\":\"solid\"},\"marker\":{\"symbol\":\"circle\"},\"mode\":\"lines\",\"name\":\"\",\"orientation\":\"v\",\"showlegend\":false,\"x\":[\"2004\",\"2005\",\"2006\",\"2007\",\"2008\",\"2009\",\"2010\",\"2011\",\"2012\",\"2013\",\"2014\",\"2015\",\"2016\",\"2017\",\"2018\",\"2019\",\"2020\",\"2021\"],\"xaxis\":\"x\",\"y\":[497.86,498.92,499.24,496.65,497.38,497.04,499.41,497.37,476.17,476.53,477.8,479.3,473.3,476.6,480.16,472.39,414.69,470.8],\"yaxis\":\"y\",\"type\":\"scatter\"}],                        {\"template\":{\"layout\":{\"annotationdefaults\":{\"font\":{\"color\":\"crimson\"}}}},\"xaxis\":{\"anchor\":\"y\",\"domain\":[0.0,1.0],\"title\":{\"text\":\"A\\u00f1o\"}},\"yaxis\":{\"anchor\":\"x\",\"domain\":[0.0,1.0],\"title\":{\"text\":\"Prom PSU Matem\\u00e1ticas\"}},\"legend\":{\"tracegroupgap\":0},\"margin\":{\"t\":60},\"title\":{\"text\":\"Promedio PSU Matem\\u00e1ticas a travez de los a\\u00f1os\"},\"annotations\":[{\"text\":\"497\",\"x\":2004,\"y\":497.86},{\"text\":\"498\",\"x\":2005,\"y\":498.92},{\"text\":\"499\",\"x\":2006,\"y\":499.24},{\"text\":\"496\",\"x\":2007,\"y\":496.65},{\"text\":\"497\",\"x\":2008,\"y\":497.38},{\"text\":\"497\",\"x\":2009,\"y\":497.04},{\"text\":\"499\",\"x\":2010,\"y\":499.41},{\"text\":\"497\",\"x\":2011,\"y\":497.37},{\"text\":\"476\",\"x\":2012,\"y\":476.17},{\"text\":\"476\",\"x\":2013,\"y\":476.53},{\"text\":\"477\",\"x\":2014,\"y\":477.8},{\"text\":\"479\",\"x\":2015,\"y\":479.3},{\"text\":\"473\",\"x\":2016,\"y\":473.3},{\"text\":\"476\",\"x\":2017,\"y\":476.6},{\"text\":\"480\",\"x\":2018,\"y\":480.16},{\"text\":\"472\",\"x\":2019,\"y\":472.39},{\"text\":\"414\",\"x\":2020,\"y\":414.69},{\"text\":\"470\",\"x\":2021,\"y\":470.8}]},                        {\"responsive\": true}                    ).then(function(){\n",
       "                            \n",
       "var gd = document.getElementById('0d1ab0fa-6c09-4fd8-9659-a0493d6d6868');\n",
       "var x = new MutationObserver(function (mutations, observer) {{\n",
       "        var display = window.getComputedStyle(gd).display;\n",
       "        if (!display || display === 'none') {{\n",
       "            console.log([gd, 'removed!']);\n",
       "            Plotly.purge(gd);\n",
       "            observer.disconnect();\n",
       "        }}\n",
       "}});\n",
       "\n",
       "// Listen for the removal of the full notebook cells\n",
       "var notebookContainer = gd.closest('#notebook-container');\n",
       "if (notebookContainer) {{\n",
       "    x.observe(notebookContainer, {childList: true});\n",
       "}}\n",
       "\n",
       "// Listen for the clearing of the current output cell\n",
       "var outputEl = gd.closest('.output');\n",
       "if (outputEl) {{\n",
       "    x.observe(outputEl, {childList: true});\n",
       "}}\n",
       "\n",
       "                        })                };                });            </script>        </div>"
      ]
     },
     "metadata": {},
     "output_type": "display_data"
    }
   ],
   "source": [
    "fig = px.line(alumn, x=\"año\", y=\"Prom PSU Matemáticas\")\n",
    "\n",
    "fig.update_layout(\n",
    "  title=\"Promedio PSU Matemáticas a travez de los años\",\n",
    "  xaxis_title=\"Año\",\n",
    "  yaxis_title=\"Prom PSU Matemáticas\",\n",
    "    template=annotation_template,\n",
    "     annotations=[\n",
    "         dict(text=\"497\", x=2004, y=497.86),\n",
    "         dict(text=\"498\", x=2005, y=498.92),\n",
    "         dict(text=\"499\" ,x=2006, y=499.24),\n",
    "         dict(text=\"496\", x=2007, y=496.65),\n",
    "         dict(text=\"497\", x=2008, y=497.38),\n",
    "         dict(text=\"497\", x=2009, y=497.04),\n",
    "         dict(text=\"497\", x=2010, y=497.41),\n",
    "         dict(text=\"497\", x=2011, y=497.37),\n",
    "         dict(text=\"476\", x=2012, y=476.17),\n",
    "         dict(text=\"476\", x=2013, y=476.53),\n",
    "         dict(text=\"477\", x=2014, y=477.80),\n",
    "         dict(text=\"479\", x=2015, y=479.30),\n",
    "         dict(text=\"473\", x=2016, y=473.30),\n",
    "         dict(text=\"476\", x=2017, y=476.60),\n",
    "         dict(text=\"480\", x=2018, y=480.16),\n",
    "         dict(text=\"472\", x=2019, y=472.39),\n",
    "         dict(text=\"414\", x=2020, y=414.69),\n",
    "         dict(text=\"470\", x=2021, y=470.80),\n",
    "     ]\n",
    " )\n",
    "\n",
    "fig.show()"
   ]
  },
  {
   "cell_type": "code",
   "execution_count": 3,
   "id": "ae6afc68-554b-4a16-bcaa-7bbe168a72a0",
   "metadata": {},
   "outputs": [
    {
     "data": {
      "text/html": [
       "<div>\n",
       "<style scoped>\n",
       "    .dataframe tbody tr th:only-of-type {\n",
       "        vertical-align: middle;\n",
       "    }\n",
       "\n",
       "    .dataframe tbody tr th {\n",
       "        vertical-align: top;\n",
       "    }\n",
       "\n",
       "    .dataframe thead th {\n",
       "        text-align: right;\n",
       "    }\n",
       "</style>\n",
       "<table border=\"1\" class=\"dataframe\">\n",
       "  <thead>\n",
       "    <tr style=\"text-align: right;\">\n",
       "      <th></th>\n",
       "      <th>año</th>\n",
       "      <th>total_cantidad_alumnos</th>\n",
       "    </tr>\n",
       "  </thead>\n",
       "  <tbody>\n",
       "    <tr>\n",
       "      <th>0</th>\n",
       "      <td>2004</td>\n",
       "      <td>153772</td>\n",
       "    </tr>\n",
       "    <tr>\n",
       "      <th>1</th>\n",
       "      <td>2005</td>\n",
       "      <td>169734</td>\n",
       "    </tr>\n",
       "    <tr>\n",
       "      <th>2</th>\n",
       "      <td>2006</td>\n",
       "      <td>176531</td>\n",
       "    </tr>\n",
       "    <tr>\n",
       "      <th>3</th>\n",
       "      <td>2007</td>\n",
       "      <td>212703</td>\n",
       "    </tr>\n",
       "    <tr>\n",
       "      <th>4</th>\n",
       "      <td>2008</td>\n",
       "      <td>218063</td>\n",
       "    </tr>\n",
       "    <tr>\n",
       "      <th>5</th>\n",
       "      <td>2009</td>\n",
       "      <td>243669</td>\n",
       "    </tr>\n",
       "    <tr>\n",
       "      <th>6</th>\n",
       "      <td>2010</td>\n",
       "      <td>252591</td>\n",
       "    </tr>\n",
       "    <tr>\n",
       "      <th>7</th>\n",
       "      <td>2011</td>\n",
       "      <td>251533</td>\n",
       "    </tr>\n",
       "    <tr>\n",
       "      <th>8</th>\n",
       "      <td>2012</td>\n",
       "      <td>241496</td>\n",
       "    </tr>\n",
       "    <tr>\n",
       "      <th>9</th>\n",
       "      <td>2013</td>\n",
       "      <td>243532</td>\n",
       "    </tr>\n",
       "    <tr>\n",
       "      <th>10</th>\n",
       "      <td>2014</td>\n",
       "      <td>242273</td>\n",
       "    </tr>\n",
       "    <tr>\n",
       "      <th>11</th>\n",
       "      <td>2015</td>\n",
       "      <td>256860</td>\n",
       "    </tr>\n",
       "    <tr>\n",
       "      <th>12</th>\n",
       "      <td>2016</td>\n",
       "      <td>265423</td>\n",
       "    </tr>\n",
       "    <tr>\n",
       "      <th>13</th>\n",
       "      <td>2017</td>\n",
       "      <td>269812</td>\n",
       "    </tr>\n",
       "    <tr>\n",
       "      <th>14</th>\n",
       "      <td>2018</td>\n",
       "      <td>274998</td>\n",
       "    </tr>\n",
       "    <tr>\n",
       "      <th>15</th>\n",
       "      <td>2019</td>\n",
       "      <td>278670</td>\n",
       "    </tr>\n",
       "    <tr>\n",
       "      <th>16</th>\n",
       "      <td>2020</td>\n",
       "      <td>292321</td>\n",
       "    </tr>\n",
       "    <tr>\n",
       "      <th>17</th>\n",
       "      <td>2021</td>\n",
       "      <td>238419</td>\n",
       "    </tr>\n",
       "  </tbody>\n",
       "</table>\n",
       "</div>"
      ],
      "text/plain": [
       "     año  total_cantidad_alumnos\n",
       "0   2004                  153772\n",
       "1   2005                  169734\n",
       "2   2006                  176531\n",
       "3   2007                  212703\n",
       "4   2008                  218063\n",
       "5   2009                  243669\n",
       "6   2010                  252591\n",
       "7   2011                  251533\n",
       "8   2012                  241496\n",
       "9   2013                  243532\n",
       "10  2014                  242273\n",
       "11  2015                  256860\n",
       "12  2016                  265423\n",
       "13  2017                  269812\n",
       "14  2018                  274998\n",
       "15  2019                  278670\n",
       "16  2020                  292321\n",
       "17  2021                  238419"
      ]
     },
     "execution_count": 3,
     "metadata": {},
     "output_type": "execute_result"
    }
   ],
   "source": [
    "datasetcant={'año' : ['2004','2005','2006','2007','2008','2009','2010','2011','2012','2013','2014','2015','2016'\n",
    "                     ,'2017','2018','2019','2020','2021'],\n",
    "             'total_cantidad_alumnos': [153772,169734,176531,212703,218063,243669,252591,251533,241496,243532,242273,256860,265423,269812,274998,278670,292321,238419]}\n",
    "alumncat = pd.DataFrame(datasetcant, columns = ['año', 'total_cantidad_alumnos'])\n",
    "alumncat\n",
    "\n",
    "\n"
   ]
  },
  {
   "cell_type": "code",
   "execution_count": 29,
   "id": "ecac5fa1-721d-4e33-b046-4c599c921eeb",
   "metadata": {},
   "outputs": [
    {
     "data": {
      "application/vnd.plotly.v1+json": {
       "config": {
        "plotlyServerURL": "https://plot.ly"
       },
       "data": [
        {
         "hovertemplate": "año=%{x}<br>total_cantidad_alumnos=%{marker.color}<extra></extra>",
         "legendgroup": "",
         "marker": {
          "color": [
           153772,
           169734,
           176531,
           212703,
           218063,
           243669,
           252591,
           251533,
           241496,
           243532,
           242273,
           256860,
           265423,
           269812,
           274998,
           278670,
           292321,
           238419
          ],
          "coloraxis": "coloraxis",
          "size": [
           153772,
           169734,
           176531,
           212703,
           218063,
           243669,
           252591,
           251533,
           241496,
           243532,
           242273,
           256860,
           265423,
           269812,
           274998,
           278670,
           292321,
           238419
          ],
          "sizemode": "area",
          "sizeref": 730.8025,
          "symbol": "circle"
         },
         "mode": "markers",
         "name": "",
         "orientation": "v",
         "showlegend": false,
         "type": "scatter",
         "x": [
          "2004",
          "2005",
          "2006",
          "2007",
          "2008",
          "2009",
          "2010",
          "2011",
          "2012",
          "2013",
          "2014",
          "2015",
          "2016",
          "2017",
          "2018",
          "2019",
          "2020",
          "2021"
         ],
         "xaxis": "x",
         "y": [
          153772,
          169734,
          176531,
          212703,
          218063,
          243669,
          252591,
          251533,
          241496,
          243532,
          242273,
          256860,
          265423,
          269812,
          274998,
          278670,
          292321,
          238419
         ],
         "yaxis": "y"
        }
       ],
       "layout": {
        "annotations": [
         {
          "text": "153.772",
          "x": 2004,
          "y": 153772
         },
         {
          "text": "169.734",
          "x": 2005,
          "y": 169734
         },
         {
          "text": "176.531",
          "x": 2006,
          "y": 176531
         },
         {
          "text": "212.703",
          "x": 2007,
          "y": 212703
         },
         {
          "text": "218.063",
          "x": 2008,
          "y": 218063
         },
         {
          "text": "243.669",
          "x": 2009,
          "y": 243669
         },
         {
          "text": "252.591",
          "x": 2010,
          "y": 252591
         },
         {
          "text": "251.533",
          "x": 2011,
          "y": 251533
         },
         {
          "text": "241.496",
          "x": 2012,
          "y": 241496
         },
         {
          "text": "243.532",
          "x": 2013,
          "y": 243532
         },
         {
          "text": "242.273",
          "x": 2014,
          "y": 242273
         },
         {
          "text": "256.860",
          "x": 2015,
          "y": 256860
         },
         {
          "text": "265.423",
          "x": 2016,
          "y": 265423
         },
         {
          "text": "269.812",
          "x": 2017,
          "y": 269812
         },
         {
          "text": "274.998",
          "x": 2018,
          "y": 274998
         },
         {
          "text": "278.670",
          "x": 2019,
          "y": 278670
         },
         {
          "text": "292.321",
          "x": 2020,
          "y": 292321
         },
         {
          "text": "238.419",
          "x": 2021,
          "y": 238419
         }
        ],
        "autosize": true,
        "coloraxis": {
         "colorbar": {
          "title": {
           "text": "total_cantidad_alumnos"
          }
         },
         "colorscale": [
          [
           0,
           "#0d0887"
          ],
          [
           0.1111111111111111,
           "#46039f"
          ],
          [
           0.2222222222222222,
           "#7201a8"
          ],
          [
           0.3333333333333333,
           "#9c179e"
          ],
          [
           0.4444444444444444,
           "#bd3786"
          ],
          [
           0.5555555555555556,
           "#d8576b"
          ],
          [
           0.6666666666666666,
           "#ed7953"
          ],
          [
           0.7777777777777778,
           "#fb9f3a"
          ],
          [
           0.8888888888888888,
           "#fdca26"
          ],
          [
           1,
           "#f0f921"
          ]
         ]
        },
        "legend": {
         "itemsizing": "constant",
         "tracegroupgap": 0
        },
        "margin": {
         "t": 60
        },
        "template": {
         "layout": {
          "annotationdefaults": {
           "font": {
            "color": "crimson"
           }
          }
         }
        },
        "title": {
         "text": "Cantidad total de alumnos que rinden la PSU por año"
        },
        "xaxis": {
         "anchor": "y",
         "autorange": true,
         "domain": [
          0,
          1
         ],
         "range": [
          2002.672722502407,
          2022.4107308216933
         ],
         "title": {
          "text": "Año"
         },
         "type": "linear"
        },
        "yaxis": {
         "anchor": "x",
         "autorange": true,
         "domain": [
          0,
          1
         ],
         "range": [
          134011.69051297047,
          327500.84655267326
         ],
         "title": {
          "text": "Cantidad de alumnos"
         },
         "type": "linear"
        }
       }
      },
      "image/png": "[encoded data removed]",
      "text/html": [
       "<div>                            <div id=\"31c27c9f-be18-46cd-9422-3396c3d57c31\" class=\"plotly-graph-div\" style=\"height:525px; width:100%;\"></div>            <script type=\"text/javascript\">                require([\"plotly\"], function(Plotly) {                    window.PLOTLYENV=window.PLOTLYENV || {};                                    if (document.getElementById(\"31c27c9f-be18-46cd-9422-3396c3d57c31\")) {                    Plotly.newPlot(                        \"31c27c9f-be18-46cd-9422-3396c3d57c31\",                        [{\"hovertemplate\":\"a\\u00f1o=%{x}<br>total_cantidad_alumnos=%{marker.color}<extra></extra>\",\"legendgroup\":\"\",\"marker\":{\"color\":[153772,169734,176531,212703,218063,243669,252591,251533,241496,243532,242273,256860,265423,269812,274998,278670,292321,238419],\"coloraxis\":\"coloraxis\",\"size\":[153772,169734,176531,212703,218063,243669,252591,251533,241496,243532,242273,256860,265423,269812,274998,278670,292321,238419],\"sizemode\":\"area\",\"sizeref\":730.8025,\"symbol\":\"circle\"},\"mode\":\"markers\",\"name\":\"\",\"orientation\":\"v\",\"showlegend\":false,\"x\":[\"2004\",\"2005\",\"2006\",\"2007\",\"2008\",\"2009\",\"2010\",\"2011\",\"2012\",\"2013\",\"2014\",\"2015\",\"2016\",\"2017\",\"2018\",\"2019\",\"2020\",\"2021\"],\"xaxis\":\"x\",\"y\":[153772,169734,176531,212703,218063,243669,252591,251533,241496,243532,242273,256860,265423,269812,274998,278670,292321,238419],\"yaxis\":\"y\",\"type\":\"scatter\"}],                        {\"template\":{\"layout\":{\"annotationdefaults\":{\"font\":{\"color\":\"crimson\"}}}},\"xaxis\":{\"anchor\":\"y\",\"domain\":[0.0,1.0],\"title\":{\"text\":\"A\\u00f1o\"}},\"yaxis\":{\"anchor\":\"x\",\"domain\":[0.0,1.0],\"title\":{\"text\":\"Cantidad de alumnos\"}},\"coloraxis\":{\"colorbar\":{\"title\":{\"text\":\"total_cantidad_alumnos\"}},\"colorscale\":[[0.0,\"#0d0887\"],[0.1111111111111111,\"#46039f\"],[0.2222222222222222,\"#7201a8\"],[0.3333333333333333,\"#9c179e\"],[0.4444444444444444,\"#bd3786\"],[0.5555555555555556,\"#d8576b\"],[0.6666666666666666,\"#ed7953\"],[0.7777777777777778,\"#fb9f3a\"],[0.8888888888888888,\"#fdca26\"],[1.0,\"#f0f921\"]]},\"legend\":{\"tracegroupgap\":0,\"itemsizing\":\"constant\"},\"margin\":{\"t\":60},\"title\":{\"text\":\"Cantidad total de alumnos que rinden la PSU por a\\u00f1o\"},\"annotations\":[{\"text\":\"153.772\",\"x\":2004,\"y\":153772},{\"text\":\"169.734\",\"x\":2005,\"y\":169734},{\"text\":\"176.531\",\"x\":2006,\"y\":176531},{\"text\":\"212.703\",\"x\":2007,\"y\":212703},{\"text\":\"218.063\",\"x\":2008,\"y\":218063},{\"text\":\"243.669\",\"x\":2009,\"y\":243669},{\"text\":\"252.591\",\"x\":2010,\"y\":252591},{\"text\":\"251.533\",\"x\":2011,\"y\":251533},{\"text\":\"241.496\",\"x\":2012,\"y\":241496},{\"text\":\"243.532\",\"x\":2013,\"y\":243532},{\"text\":\"242.273\",\"x\":2014,\"y\":242273},{\"text\":\"256.860\",\"x\":2015,\"y\":256860},{\"text\":\"265.423\",\"x\":2016,\"y\":265423},{\"text\":\"269.812\",\"x\":2017,\"y\":269812},{\"text\":\"274.998\",\"x\":2018,\"y\":274998},{\"text\":\"278.670\",\"x\":2019,\"y\":278670},{\"text\":\"292.321\",\"x\":2020,\"y\":292321},{\"text\":\"238.419\",\"x\":2021,\"y\":238419}]},                        {\"responsive\": true}                    ).then(function(){\n",
       "                            \n",
       "var gd = document.getElementById('31c27c9f-be18-46cd-9422-3396c3d57c31');\n",
       "var x = new MutationObserver(function (mutations, observer) {{\n",
       "        var display = window.getComputedStyle(gd).display;\n",
       "        if (!display || display === 'none') {{\n",
       "            console.log([gd, 'removed!']);\n",
       "            Plotly.purge(gd);\n",
       "            observer.disconnect();\n",
       "        }}\n",
       "}});\n",
       "\n",
       "// Listen for the removal of the full notebook cells\n",
       "var notebookContainer = gd.closest('#notebook-container');\n",
       "if (notebookContainer) {{\n",
       "    x.observe(notebookContainer, {childList: true});\n",
       "}}\n",
       "\n",
       "// Listen for the clearing of the current output cell\n",
       "var outputEl = gd.closest('.output');\n",
       "if (outputEl) {{\n",
       "    x.observe(outputEl, {childList: true});\n",
       "}}\n",
       "\n",
       "                        })                };                });            </script>        </div>"
      ]
     },
     "metadata": {},
     "output_type": "display_data"
    }
   ],
   "source": [
    "\n",
    "fig = px.scatter(alumncat, x=\"año\", y=\"total_cantidad_alumnos\",color=\"total_cantidad_alumnos\",size=\"total_cantidad_alumnos\")\n",
    "\n",
    "fig.update_layout(\n",
    "  title=\"Cantidad total de alumnos que rinden la PSU por año\",\n",
    "  xaxis_title=\"Año\",\n",
    "  yaxis_title=\"Cantidad de alumnos\",\n",
    "    template=annotation_template,\n",
    "     annotations=[\n",
    "         dict(text=\"153.772\", x=2004, y=153772),\n",
    "         dict(text=\"169.734\", x=2005, y=169734),\n",
    "         dict(text=\"176.531\" ,x=2006, y=176531),\n",
    "         dict(text=\"212.703\", x=2007, y=212703),\n",
    "         dict(text=\"218.063\", x=2008, y=218063),\n",
    "         dict(text=\"243.669\", x=2009, y=243669),\n",
    "         dict(text=\"252.591\", x=2010, y=252591),\n",
    "         dict(text=\"251.533\", x=2011, y=251533),\n",
    "         dict(text=\"241.496\", x=2012, y=241496),\n",
    "         dict(text=\"243.532\", x=2013, y=243532),\n",
    "         dict(text=\"242.273\", x=2014, y=242273),\n",
    "         dict(text=\"256.860\", x=2015, y=256860),\n",
    "         dict(text=\"265.423\", x=2016, y=265423),\n",
    "         dict(text=\"269.812\", x=2017, y=269812),\n",
    "         dict(text=\"274.998\", x=2018, y=274998),\n",
    "         dict(text=\"278.670\", x=2019, y=278670),\n",
    "         dict(text=\"292.321\", x=2020, y=292321),\n",
    "         dict(text=\"238.419\", x=2021, y=238419),\n",
    "     ]\n",
    " )\n",
    " \n",
    "\n",
    "fig.show()"
   ]
  },
  {
   "cell_type": "code",
   "execution_count": null,
   "id": "ded7c7bc-d913-4710-856a-6fd53dadc3de",
   "metadata": {},
   "outputs": [],
   "source": [
    "datasetcant={'año' : ['2004','2005','2006','2007','2008','2009','2010','2011','2012','2013','2014','2015','2016'\n",
    "                     ,'2017','2018','2019','2020','2021'],\n",
    "             'total_cantidad_alumnos': [153772,169734,176531,212703,218063,243669,252591,251533,241496,243532,242273,256860,265423,269812,274998,278670,292321,238419]}\n",
    "alumncat = pd.DataFrame(datasetcant, columns = ['año', 'total_cantidad_alumnos'])\n",
    "alumncat\n"
   ]
  }
 ],
 "metadata": {
  "kernelspec": {
   "display_name": "Python 3 (ipykernel)",
   "language": "python",
   "name": "python3"
  },
  "language_info": {
   "codemirror_mode": {
    "name": "ipython",
    "version": 3
   },
   "file_extension": ".py",
   "mimetype": "text/x-python",
   "name": "python",
   "nbconvert_exporter": "python",
   "pygments_lexer": "ipython3",
   "version": "3.9.12"
  }
 },
 "nbformat": 4,
 "nbformat_minor": 5
}
